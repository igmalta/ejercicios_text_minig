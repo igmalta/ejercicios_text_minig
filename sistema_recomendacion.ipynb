{
 "cells": [
  {
   "cell_type": "markdown",
   "metadata": {},
   "source": [
    "## Ejercicio N° 5 - Recommender systems"
   ]
  },
  {
   "cell_type": "code",
   "execution_count": 1,
   "metadata": {},
   "outputs": [],
   "source": [
    "# En R o en python comparar distintos algoritmos de recomendación, en cuanto a forma de entrenamiento (training y testing, cv), \n",
    "# medición de accuracy.\n",
    "# Comparar el resultado de algoritmos y sacar una conclusión."
   ]
  },
  {
   "cell_type": "markdown",
   "metadata": {},
   "source": [
    "## Librerías"
   ]
  },
  {
   "cell_type": "code",
   "execution_count": 36,
   "metadata": {},
   "outputs": [],
   "source": [
    "# install.packages(\"recommenderlab\")\n",
    "# install.packages(\"data.table\")\n",
    "# install.packages(\"ggplot2\")\n",
    "\n",
    "library(\"recommenderlab\")\n",
    "library(\"data.table\")\n",
    "library(\"ggplot2\")"
   ]
  },
  {
   "cell_type": "markdown",
   "metadata": {},
   "source": [
    "## Lectura de datos"
   ]
  },
  {
   "cell_type": "code",
   "execution_count": 35,
   "metadata": {},
   "outputs": [],
   "source": [
    "setwd(\"C:/Users/ig/Desktop/txm/tps/tp5\")\n",
    "\n",
    "# Dataset con usuarios\n",
    "user <- fread(\"BX-Users.csv\", encoding = \"Latin-1\")\n",
    "names(user) <- c(\"userID\", \"Location\", \"Age\")\n",
    "\n",
    "# Dataset con ratings de libros\n",
    "rating <- fread(\"BX-Book-Ratings.csv\", encoding = \"Latin-1\")\n",
    "names(rating) <- c(\"userID\", \"ISBN\", \"bookRating\")"
   ]
  },
  {
   "cell_type": "code",
   "execution_count": 4,
   "metadata": {},
   "outputs": [
    {
     "data": {
      "text/html": [
       "<table>\n",
       "<thead><tr><th scope=col>userID</th><th scope=col>Location</th><th scope=col>Age</th></tr></thead>\n",
       "<tbody>\n",
       "\t<tr><td>1                                 </td><td>nyc, new york, usa                </td><td>NULL                              </td></tr>\n",
       "\t<tr><td>2                                 </td><td>stockton, california, usa         </td><td>18                                </td></tr>\n",
       "\t<tr><td>3                                 </td><td>moscow, yukon territory, russia   </td><td>NULL                              </td></tr>\n",
       "\t<tr><td>4                                 </td><td>porto, v.n.gaia, portugal         </td><td>17                                </td></tr>\n",
       "\t<tr><td>5                                 </td><td>farnborough, hants, united kingdom</td><td>NULL                              </td></tr>\n",
       "\t<tr><td>6                                 </td><td>santa monica, california, usa     </td><td>61                                </td></tr>\n",
       "</tbody>\n",
       "</table>\n"
      ],
      "text/latex": [
       "\\begin{tabular}{r|lll}\n",
       " userID & Location & Age\\\\\n",
       "\\hline\n",
       "\t 1                                  & nyc, new york, usa                 & NULL                              \\\\\n",
       "\t 2                                  & stockton, california, usa          & 18                                \\\\\n",
       "\t 3                                  & moscow, yukon territory, russia    & NULL                              \\\\\n",
       "\t 4                                  & porto, v.n.gaia, portugal          & 17                                \\\\\n",
       "\t 5                                  & farnborough, hants, united kingdom & NULL                              \\\\\n",
       "\t 6                                  & santa monica, california, usa      & 61                                \\\\\n",
       "\\end{tabular}\n"
      ],
      "text/markdown": [
       "\n",
       "| userID | Location | Age |\n",
       "|---|---|---|\n",
       "| 1                                  | nyc, new york, usa                 | NULL                               |\n",
       "| 2                                  | stockton, california, usa          | 18                                 |\n",
       "| 3                                  | moscow, yukon territory, russia    | NULL                               |\n",
       "| 4                                  | porto, v.n.gaia, portugal          | 17                                 |\n",
       "| 5                                  | farnborough, hants, united kingdom | NULL                               |\n",
       "| 6                                  | santa monica, california, usa      | 61                                 |\n",
       "\n"
      ],
      "text/plain": [
       "  userID Location                           Age \n",
       "1 1      nyc, new york, usa                 NULL\n",
       "2 2      stockton, california, usa          18  \n",
       "3 3      moscow, yukon territory, russia    NULL\n",
       "4 4      porto, v.n.gaia, portugal          17  \n",
       "5 5      farnborough, hants, united kingdom NULL\n",
       "6 6      santa monica, california, usa      61  "
      ]
     },
     "metadata": {},
     "output_type": "display_data"
    }
   ],
   "source": [
    "head(user)"
   ]
  },
  {
   "cell_type": "code",
   "execution_count": 5,
   "metadata": {},
   "outputs": [
    {
     "data": {
      "text/html": [
       "<table>\n",
       "<thead><tr><th scope=col>userID</th><th scope=col>ISBN</th><th scope=col>bookRating</th></tr></thead>\n",
       "<tbody>\n",
       "\t<tr><td>276725    </td><td>034545104X</td><td>0         </td></tr>\n",
       "\t<tr><td>276726    </td><td>0155061224</td><td>5         </td></tr>\n",
       "\t<tr><td>276727    </td><td>0446520802</td><td>0         </td></tr>\n",
       "\t<tr><td>276729    </td><td>052165615X</td><td>3         </td></tr>\n",
       "\t<tr><td>276729    </td><td>0521795028</td><td>6         </td></tr>\n",
       "\t<tr><td>276733    </td><td>2080674722</td><td>0         </td></tr>\n",
       "</tbody>\n",
       "</table>\n"
      ],
      "text/latex": [
       "\\begin{tabular}{r|lll}\n",
       " userID & ISBN & bookRating\\\\\n",
       "\\hline\n",
       "\t 276725     & 034545104X & 0         \\\\\n",
       "\t 276726     & 0155061224 & 5         \\\\\n",
       "\t 276727     & 0446520802 & 0         \\\\\n",
       "\t 276729     & 052165615X & 3         \\\\\n",
       "\t 276729     & 0521795028 & 6         \\\\\n",
       "\t 276733     & 2080674722 & 0         \\\\\n",
       "\\end{tabular}\n"
      ],
      "text/markdown": [
       "\n",
       "| userID | ISBN | bookRating |\n",
       "|---|---|---|\n",
       "| 276725     | 034545104X | 0          |\n",
       "| 276726     | 0155061224 | 5          |\n",
       "| 276727     | 0446520802 | 0          |\n",
       "| 276729     | 052165615X | 3          |\n",
       "| 276729     | 0521795028 | 6          |\n",
       "| 276733     | 2080674722 | 0          |\n",
       "\n"
      ],
      "text/plain": [
       "  userID ISBN       bookRating\n",
       "1 276725 034545104X 0         \n",
       "2 276726 0155061224 5         \n",
       "3 276727 0446520802 0         \n",
       "4 276729 052165615X 3         \n",
       "5 276729 0521795028 6         \n",
       "6 276733 2080674722 0         "
      ]
     },
     "metadata": {},
     "output_type": "display_data"
    }
   ],
   "source": [
    "head(rating)"
   ]
  },
  {
   "cell_type": "markdown",
   "metadata": {},
   "source": [
    "## Join de datos"
   ]
  },
  {
   "cell_type": "code",
   "execution_count": 6,
   "metadata": {},
   "outputs": [
    {
     "data": {
      "text/html": [
       "<table>\n",
       "<thead><tr><th scope=col>userID</th><th scope=col>ISBN</th><th scope=col>bookRating</th></tr></thead>\n",
       "<tbody>\n",
       "\t<tr><td>276725    </td><td>034545104X</td><td>0         </td></tr>\n",
       "\t<tr><td>276726    </td><td>0155061224</td><td>5         </td></tr>\n",
       "\t<tr><td>276727    </td><td>0446520802</td><td>0         </td></tr>\n",
       "\t<tr><td>276729    </td><td>052165615X</td><td>3         </td></tr>\n",
       "\t<tr><td>276729    </td><td>0521795028</td><td>6         </td></tr>\n",
       "\t<tr><td>276733    </td><td>2080674722</td><td>0         </td></tr>\n",
       "</tbody>\n",
       "</table>\n"
      ],
      "text/latex": [
       "\\begin{tabular}{r|lll}\n",
       " userID & ISBN & bookRating\\\\\n",
       "\\hline\n",
       "\t 276725     & 034545104X & 0         \\\\\n",
       "\t 276726     & 0155061224 & 5         \\\\\n",
       "\t 276727     & 0446520802 & 0         \\\\\n",
       "\t 276729     & 052165615X & 3         \\\\\n",
       "\t 276729     & 0521795028 & 6         \\\\\n",
       "\t 276733     & 2080674722 & 0         \\\\\n",
       "\\end{tabular}\n"
      ],
      "text/markdown": [
       "\n",
       "| userID | ISBN | bookRating |\n",
       "|---|---|---|\n",
       "| 276725     | 034545104X | 0          |\n",
       "| 276726     | 0155061224 | 5          |\n",
       "| 276727     | 0446520802 | 0          |\n",
       "| 276729     | 052165615X | 3          |\n",
       "| 276729     | 0521795028 | 6          |\n",
       "| 276733     | 2080674722 | 0          |\n",
       "\n"
      ],
      "text/plain": [
       "  userID ISBN       bookRating\n",
       "1 276725 034545104X 0         \n",
       "2 276726 0155061224 5         \n",
       "3 276727 0446520802 0         \n",
       "4 276729 052165615X 3         \n",
       "5 276729 0521795028 6         \n",
       "6 276733 2080674722 0         "
      ]
     },
     "metadata": {},
     "output_type": "display_data"
    }
   ],
   "source": [
    "# Comentario: este paso devuelve el mismo dataset que rating\n",
    "df <- user[rating, on = \"userID\"]\n",
    "df[ , c(\"Location\", \"Age\") := NULL]\n",
    "\n",
    "head(df)"
   ]
  },
  {
   "cell_type": "code",
   "execution_count": 7,
   "metadata": {},
   "outputs": [
    {
     "data": {
      "text/html": [
       "<ol class=list-inline>\n",
       "\t<li>1149780</li>\n",
       "\t<li>3</li>\n",
       "</ol>\n"
      ],
      "text/latex": [
       "\\begin{enumerate*}\n",
       "\\item 1149780\n",
       "\\item 3\n",
       "\\end{enumerate*}\n"
      ],
      "text/markdown": [
       "1. 1149780\n",
       "2. 3\n",
       "\n",
       "\n"
      ],
      "text/plain": [
       "[1] 1149780       3"
      ]
     },
     "metadata": {},
     "output_type": "display_data"
    }
   ],
   "source": [
    "dim(df)"
   ]
  },
  {
   "cell_type": "code",
   "execution_count": 8,
   "metadata": {},
   "outputs": [
    {
     "name": "stdout",
     "output_type": "stream",
     "text": [
      "Classes 'data.table' and 'data.frame':\t1149780 obs. of  3 variables:\n",
      " $ userID    : int  276725 276726 276727 276729 276729 276733 276736 276737 276744 276745 ...\n",
      " $ ISBN      : chr  \"034545104X\" \"0155061224\" \"0446520802\" \"052165615X\" ...\n",
      " $ bookRating: int  0 5 0 3 6 0 8 6 7 10 ...\n",
      " - attr(*, \".internal.selfref\")=<externalptr> \n"
     ]
    }
   ],
   "source": [
    "str(df)"
   ]
  },
  {
   "cell_type": "markdown",
   "metadata": {},
   "source": [
    "## Análisis exploratorio\n",
    "\n",
    "### Distribución de ratings"
   ]
  },
  {
   "cell_type": "code",
   "execution_count": 9,
   "metadata": {},
   "outputs": [
    {
     "data": {
      "image/png": "[encoded data removed]",
      "text/plain": [
       "plot without title"
      ]
     },
     "metadata": {},
     "output_type": "display_data"
    }
   ],
   "source": [
    "# Gráfico\n",
    "p <- ggplot(data = df,  aes( x= bookRating)) +\n",
    "  geom_histogram( binwidth= 0.5, fill=\"#69b3a2\", color=\"#e9ecef\", alpha=0.9) +\n",
    "  ggtitle(paste0(\"Distribución de \",nrow(df) , \" book-ratings\" )) +\n",
    "  theme(plot.title = element_text(size=10)) +\n",
    "  xlab(\"ratings\") +\n",
    "  ylab(\"count\")\n",
    "    \n",
    "p"
   ]
  },
  {
   "cell_type": "markdown",
   "metadata": {},
   "source": [
    "Aproximadamente 62% de los raitings son 0 y hay muy pocos entre valores de 1, 2 y 3. Menor raiting significa peor calificación de los libros. "
   ]
  },
  {
   "cell_type": "markdown",
   "metadata": {},
   "source": [
    "### Distribución de ranking por libro"
   ]
  },
  {
   "cell_type": "code",
   "execution_count": 10,
   "metadata": {},
   "outputs": [],
   "source": [
    "data <- df[, .N, by=.(ISBN)][ N > 50 ]\n",
    "setorder(data, -N)"
   ]
  },
  {
   "cell_type": "code",
   "execution_count": 11,
   "metadata": {},
   "outputs": [
    {
     "data": {
      "image/png": "[encoded data removed]",
      "text/plain": [
       "plot without title"
      ]
     },
     "metadata": {},
     "output_type": "display_data"
    }
   ],
   "source": [
    "# Gráfico\n",
    "p <- ggplot(data = data[1:50,],  aes( x= reorder(ISBN, -N), y=N)) +\n",
    "  geom_bar( stat=\"identity\", fill=\"#69b3a2\", color=\"#e9ecef\", alpha=0.9) +\n",
    "  ggtitle(\"Distribución del número de ratings por libro (50 principales)\") +\n",
    "  theme(axis.text.x = element_text(angle = 90, vjust = 0.5, hjust=1)) +\n",
    "  theme(plot.title = element_text(size=10)) +\n",
    "  xlab(\"libros\") +\n",
    "  ylab(\"count\")\n",
    "    \n",
    "p"
   ]
  },
  {
   "cell_type": "code",
   "execution_count": 12,
   "metadata": {},
   "outputs": [
    {
     "data": {
      "text/html": [
       "<table>\n",
       "<thead><tr><th scope=col>ISBN</th><th scope=col>N</th></tr></thead>\n",
       "<tbody>\n",
       "\t<tr><td>0971880107</td><td>2502      </td></tr>\n",
       "\t<tr><td>0316666343</td><td>1295      </td></tr>\n",
       "\t<tr><td>0385504209</td><td> 883      </td></tr>\n",
       "\t<tr><td>0060928336</td><td> 732      </td></tr>\n",
       "\t<tr><td>0312195516</td><td> 723      </td></tr>\n",
       "\t<tr><td>044023722X</td><td> 647      </td></tr>\n",
       "\t<tr><td>0679781587</td><td> 639      </td></tr>\n",
       "\t<tr><td>0142001740</td><td> 615      </td></tr>\n",
       "\t<tr><td>067976402X</td><td> 614      </td></tr>\n",
       "\t<tr><td>0671027360</td><td> 586      </td></tr>\n",
       "</tbody>\n",
       "</table>\n"
      ],
      "text/latex": [
       "\\begin{tabular}{r|ll}\n",
       " ISBN & N\\\\\n",
       "\\hline\n",
       "\t 0971880107 & 2502      \\\\\n",
       "\t 0316666343 & 1295      \\\\\n",
       "\t 0385504209 &  883      \\\\\n",
       "\t 0060928336 &  732      \\\\\n",
       "\t 0312195516 &  723      \\\\\n",
       "\t 044023722X &  647      \\\\\n",
       "\t 0679781587 &  639      \\\\\n",
       "\t 0142001740 &  615      \\\\\n",
       "\t 067976402X &  614      \\\\\n",
       "\t 0671027360 &  586      \\\\\n",
       "\\end{tabular}\n"
      ],
      "text/markdown": [
       "\n",
       "| ISBN | N |\n",
       "|---|---|\n",
       "| 0971880107 | 2502       |\n",
       "| 0316666343 | 1295       |\n",
       "| 0385504209 |  883       |\n",
       "| 0060928336 |  732       |\n",
       "| 0312195516 |  723       |\n",
       "| 044023722X |  647       |\n",
       "| 0679781587 |  639       |\n",
       "| 0142001740 |  615       |\n",
       "| 067976402X |  614       |\n",
       "| 0671027360 |  586       |\n",
       "\n"
      ],
      "text/plain": [
       "   ISBN       N   \n",
       "1  0971880107 2502\n",
       "2  0316666343 1295\n",
       "3  0385504209  883\n",
       "4  0060928336  732\n",
       "5  0312195516  723\n",
       "6  044023722X  647\n",
       "7  0679781587  639\n",
       "8  0142001740  615\n",
       "9  067976402X  614\n",
       "10 0671027360  586"
      ]
     },
     "metadata": {},
     "output_type": "display_data"
    }
   ],
   "source": [
    "head(data, 10)"
   ]
  },
  {
   "cell_type": "markdown",
   "metadata": {},
   "source": [
    "La mayoría de los libros recibieron menos de 5 calificaciones, y muy pocos libros tienen muchas calificaciones, aunque el libro más calificado ha recibido 2502 calificaciones."
   ]
  },
  {
   "cell_type": "markdown",
   "metadata": {},
   "source": [
    "### Distribución de rating por usuario"
   ]
  },
  {
   "cell_type": "code",
   "execution_count": 13,
   "metadata": {},
   "outputs": [],
   "source": [
    "data <- df[, .N, by=.(userID)][ N > 50 ]\n",
    "setorder(data, -N)"
   ]
  },
  {
   "cell_type": "code",
   "execution_count": 14,
   "metadata": {},
   "outputs": [
    {
     "data": {
      "image/png": "[encoded data removed]",
      "text/plain": [
       "plot without title"
      ]
     },
     "metadata": {},
     "output_type": "display_data"
    }
   ],
   "source": [
    "# Gráfico\n",
    "p <- ggplot(data = data[1:50,],  aes( x= reorder(userID, -N), y=N)) +\n",
    "  geom_bar( stat=\"identity\", fill=\"#69b3a2\", color=\"#e9ecef\", alpha=0.9) +\n",
    "  ggtitle(\"Distribución del número de ratings por usuario (50 principales)\") +\n",
    "  theme(axis.text.x = element_text(angle = 90, vjust = 0.5, hjust=1)) +\n",
    "  theme(plot.title = element_text(size=10)) +\n",
    "  xlab(\"usuarios\") +\n",
    "  ylab(\"count\")\n",
    "    \n",
    "p"
   ]
  },
  {
   "cell_type": "code",
   "execution_count": 15,
   "metadata": {},
   "outputs": [
    {
     "data": {
      "text/html": [
       "<table>\n",
       "<thead><tr><th scope=col>userID</th><th scope=col>N</th></tr></thead>\n",
       "<tbody>\n",
       "\t<tr><td> 11676</td><td>13602 </td></tr>\n",
       "\t<tr><td>198711</td><td> 7550 </td></tr>\n",
       "\t<tr><td>153662</td><td> 6109 </td></tr>\n",
       "\t<tr><td> 98391</td><td> 5891 </td></tr>\n",
       "\t<tr><td> 35859</td><td> 5850 </td></tr>\n",
       "\t<tr><td>212898</td><td> 4785 </td></tr>\n",
       "\t<tr><td>278418</td><td> 4533 </td></tr>\n",
       "\t<tr><td> 76352</td><td> 3367 </td></tr>\n",
       "\t<tr><td>110973</td><td> 3100 </td></tr>\n",
       "\t<tr><td>235105</td><td> 3067 </td></tr>\n",
       "</tbody>\n",
       "</table>\n"
      ],
      "text/latex": [
       "\\begin{tabular}{r|ll}\n",
       " userID & N\\\\\n",
       "\\hline\n",
       "\t  11676 & 13602 \\\\\n",
       "\t 198711 &  7550 \\\\\n",
       "\t 153662 &  6109 \\\\\n",
       "\t  98391 &  5891 \\\\\n",
       "\t  35859 &  5850 \\\\\n",
       "\t 212898 &  4785 \\\\\n",
       "\t 278418 &  4533 \\\\\n",
       "\t  76352 &  3367 \\\\\n",
       "\t 110973 &  3100 \\\\\n",
       "\t 235105 &  3067 \\\\\n",
       "\\end{tabular}\n"
      ],
      "text/markdown": [
       "\n",
       "| userID | N |\n",
       "|---|---|\n",
       "|  11676 | 13602  |\n",
       "| 198711 |  7550  |\n",
       "| 153662 |  6109  |\n",
       "|  98391 |  5891  |\n",
       "|  35859 |  5850  |\n",
       "| 212898 |  4785  |\n",
       "| 278418 |  4533  |\n",
       "|  76352 |  3367  |\n",
       "| 110973 |  3100  |\n",
       "| 235105 |  3067  |\n",
       "\n"
      ],
      "text/plain": [
       "   userID N    \n",
       "1   11676 13602\n",
       "2  198711  7550\n",
       "3  153662  6109\n",
       "4   98391  5891\n",
       "5   35859  5850\n",
       "6  212898  4785\n",
       "7  278418  4533\n",
       "8   76352  3367\n",
       "9  110973  3100\n",
       "10 235105  3067"
      ]
     },
     "metadata": {},
     "output_type": "display_data"
    }
   ],
   "source": [
    "head(data, 10)"
   ]
  },
  {
   "cell_type": "markdown",
   "metadata": {},
   "source": [
    "La mayoría de los usuarios dieron menos de 5 calificaciones, y muy pocos usuarios dieron muchas calificaciones, aunque el usuario más productivo ha dado 13602 calificaciones.\n",
    "\n",
    "Para reducir la dimensionalidad del conjunto de datos, se filtran los libros raramente calificadoss (con menos de 50 calificaciones) y también los usuarios que hicieron menos calificaciones (menos de 50)."
   ]
  },
  {
   "cell_type": "code",
   "execution_count": 16,
   "metadata": {},
   "outputs": [
    {
     "data": {
      "text/html": [
       "'Dimensiones del dataset original: (1149780, 4)'"
      ],
      "text/latex": [
       "'Dimensiones del dataset original: (1149780, 4)'"
      ],
      "text/markdown": [
       "'Dimensiones del dataset original: (1149780, 4)'"
      ],
      "text/plain": [
       "[1] \"Dimensiones del dataset original: (1149780, 4)\""
      ]
     },
     "metadata": {},
     "output_type": "display_data"
    },
    {
     "data": {
      "text/html": [
       "<span style=white-space:pre-wrap>'Dimensiones del dataset nuevo:    (93745, 3)'</span>"
      ],
      "text/latex": [
       "'Dimensiones del dataset nuevo:    (93745, 3)'"
      ],
      "text/markdown": [
       "<span style=white-space:pre-wrap>'Dimensiones del dataset nuevo:    (93745, 3)'</span>"
      ],
      "text/plain": [
       "[1] \"Dimensiones del dataset nuevo:    (93745, 3)\""
      ]
     },
     "metadata": {},
     "output_type": "display_data"
    }
   ],
   "source": [
    "# Se eliminan los items con menos de 50 calificaciones\n",
    "min_book_ratings <- 50\n",
    "df_new <- df[, count := .N, by=.(ISBN)][ count > min_book_ratings,  ]\n",
    "\n",
    "# Se eliminan (filtran) los usuarios que calificaron menos de 50 veces\n",
    "min_user_ratings <- 50\n",
    "df_new <- df_new[, count := .N, by=.(userID)][ count > min_user_ratings,  ]\n",
    "df_new[, count := NULL]\n",
    "\n",
    "paste0(\"Dimensiones del dataset original: (\", nrow(df),     \", \", ncol(df),     \")\")\n",
    "paste0(\"Dimensiones del dataset nuevo:    (\", nrow(df_new), \", \", ncol(df_new), \")\")"
   ]
  },
  {
   "cell_type": "markdown",
   "metadata": {},
   "source": [
    "## Formato realRatingMatrix \n",
    "Primero se adapta el dataset procesado al formato requerido para poder evaluar los distintos sistemas de recomendación"
   ]
  },
  {
   "cell_type": "code",
   "execution_count": 31,
   "metadata": {},
   "outputs": [
    {
     "data": {
      "text/plain": [
       "781 x 2125 rating matrix of class 'realRatingMatrix' with 93745 ratings."
      ]
     },
     "metadata": {},
     "output_type": "display_data"
    },
    {
     "name": "stderr",
     "output_type": "stream",
     "text": [
      "   [[ suppressing 25 column names '000649840X', '002026478X', '0020442203' ... ]]\n"
     ]
    },
    {
     "data": {
      "text/plain": [
       "20 x 25 sparse Matrix of class \"dgCMatrix\"\n",
       "                                                         \n",
       "243  . . . . .  . . . . . .  . . . . . . . . . . . .  . .\n",
       "254  . . . . .  0 . . . . .  . . . . . . . . . . . .  . .\n",
       "882  . . . . .  . . . . . .  . . . . . . . . . . . .  . 0\n",
       "2276 . . . . .  . . . . . .  . . . . . . . . . . . .  . .\n",
       "2766 . . . . .  . . . . . .  . . . . . . . . . . . .  0 .\n",
       "3363 . . . 0 0  . . . . . 0  0 . . . 0 . . . . . . .  . 0\n",
       "4017 . . . . . 10 . . . . .  . . . . . 9 . . . . . .  . .\n",
       "5903 . . . . .  . . . . 0 .  . . . . . . . . . . . .  . .\n",
       "6251 . . . . .  . . 0 . . .  . . . . . . 0 . . . . . 10 .\n",
       "6323 . . . . .  . . . . . .  . . . . . . . . . . . .  . .\n",
       "6543 . . . . .  . . . . . .  . . . . . . . . . . . .  . .\n",
       "6563 . . . . .  . . . . 6 .  . . . . . . . . . . 8 .  . .\n",
       "6575 . . . . 0  9 . . . 0 .  . . . 0 . . . . . 8 . .  . 8\n",
       "7125 . . . . .  . . . . . 0  8 . . . . . . . . . . .  . .\n",
       "7158 . . . . .  . . . . . .  . . . . . . . . . . . .  . .\n",
       "7346 . . . . 8  . . . . 0 .  8 . 0 . . . . . . . . .  . .\n",
       "7915 . . . . .  . . . . . .  . . 0 . . . . . . . . .  . .\n",
       "8067 . . . . .  . . . . 0 . 10 . . . . . . . . . . .  . .\n",
       "8245 . . . . .  . . . . . .  . . . . . . . . . . 6 .  . .\n",
       "8253 . . . . .  . . . . . .  . . . . . . . . . . . 9  . ."
      ]
     },
     "metadata": {},
     "output_type": "display_data"
    }
   ],
   "source": [
    "r <- as(df_new, \"realRatingMatrix\")\n",
    "r\n",
    "\n",
    "# Vista previa primeros 25 libros para los primeros 20 usuarios\n",
    "head(getRatingMatrix(r)[,1:25], 20)"
   ]
  },
  {
   "cell_type": "code",
   "execution_count": 18,
   "metadata": {},
   "outputs": [
    {
     "data": {
      "image/png": "[encoded data removed]",
      "text/plain": [
       "plot without title"
      ]
     },
     "metadata": {},
     "output_type": "display_data"
    }
   ],
   "source": [
    "# Matriz de raitings\n",
    "print(image(r, main = \"Ratings Crudos\"))"
   ]
  },
  {
   "cell_type": "markdown",
   "metadata": {},
   "source": [
    "## Comparación de modelos\n",
    "Se evalúan diferentes modelos mediante Train/Test y Cross-Validation\n",
    "\n",
    "### Algoritmos a evaluar"
   ]
  },
  {
   "cell_type": "code",
   "execution_count": 32,
   "metadata": {},
   "outputs": [],
   "source": [
    "algorithms <- list(\n",
    "  \"rating-based LF\"   = list(name=\"ALS\"    , param=list(normalize =\"center\")),\n",
    "  \"random items\"      = list(name=\"RANDOM\" , param=NULL),\n",
    "  \"popular items\"     = list(name=\"POPULAR\", param=NULL),\n",
    "  \"user-based CF\"     = list(name=\"UBCF\"   , param=list(nn = 50)),\n",
    "  \"item-based CF\"     = list(name=\"IBCF\"   , param=list(method = \"Cosine\", k =  50)),\n",
    "  \"SVD approximation\" = list(name=\"SVD\"    , param=list(k =  50))\n",
    ")"
   ]
  },
  {
   "cell_type": "markdown",
   "metadata": {},
   "source": [
    "### Evaluación mediante Train/Test"
   ]
  },
  {
   "cell_type": "code",
   "execution_count": 20,
   "metadata": {},
   "outputs": [
    {
     "data": {
      "text/plain": [
       "Evaluation scheme with 50 items given\n",
       "Method: 'split' with 1 run(s).\n",
       "Training set proportion: 0.750\n",
       "Good ratings: >=5.000000\n",
       "Data set: 781 x 2125 rating matrix of class 'realRatingMatrix' with 93745 ratings."
      ]
     },
     "metadata": {},
     "output_type": "display_data"
    }
   ],
   "source": [
    "# Se trabaja con given = 50 que es el valor mínimo elegido de calificaciones de un usuario en df_new\n",
    "# A partir de 5 se considera un raiting positivo\n",
    "# 75 % train y 25 % Test\n",
    "set.seed(123)\n",
    "scheme_sp <- evaluationScheme(r, method = \"split\", train = 0.75, given = 50, goodRating = 5)\n",
    "scheme_sp"
   ]
  },
  {
   "cell_type": "code",
   "execution_count": 21,
   "metadata": {},
   "outputs": [
    {
     "name": "stdout",
     "output_type": "stream",
     "text": [
      "ALS run fold/sample [model time/prediction time]\n",
      "\t 1  [0sec/46.15sec] \n",
      "RANDOM run fold/sample [model time/prediction time]\n",
      "\t 1  [0sec/0.51sec] \n",
      "POPULAR run fold/sample [model time/prediction time]\n",
      "\t 1  [0.02sec/0.83sec] \n",
      "UBCF run fold/sample [model time/prediction time]\n",
      "\t 1  [0.02sec/2.28sec] \n",
      "IBCF run fold/sample [model time/prediction time]\n",
      "\t 1  [83.79sec/0.34sec] \n",
      "SVD run fold/sample [model time/prediction time]\n",
      "\t 1  [0.84sec/0.35sec] \n"
     ]
    }
   ],
   "source": [
    "# Se ajusta modelo\n",
    "results <- evaluate(scheme_sp, algorithms, type = \"topNList\", n=c(1, 3, 5, 10, 15, 20, 30))"
   ]
  },
  {
   "cell_type": "markdown",
   "metadata": {},
   "source": [
    "#### Curva ROC\n",
    "La curva ROC se define por la tasa positiva verdadera (TPR) y la tasa positiva falsa (FPR)."
   ]
  },
  {
   "cell_type": "code",
   "execution_count": 22,
   "metadata": {},
   "outputs": [
    {
     "data": {
      "image/png": "[encoded data removed]",
      "text/plain": [
       "Plot with title \"ROC Curve\""
      ]
     },
     "metadata": {},
     "output_type": "display_data"
    }
   ],
   "source": [
    "# Gráfico\n",
    "plot(results, y = \"ROC\", annotate = 1, legend=\"topleft\")\n",
    "title(\"ROC Curve\")"
   ]
  },
  {
   "cell_type": "markdown",
   "metadata": {},
   "source": [
    "Con menos de 15 recomedaciones el modelo basado en factorización matricial (SVD approximation) tiene mejor rendimiento ya que alcanza el TPR más alto para cualquier nivel dado de FPR. Es decir, que el modelo está produciendo el mayor número de recomendaciones relevantes (verdaderos positivos) para el mismo nivel de recomendaciones no relevantes (falsos positivos).\n",
    "\n",
    "Con algo más de 15 recomendaciones empieza a ser más efectivo el modelo basado en la popularidad de items (popular items)"
   ]
  },
  {
   "cell_type": "markdown",
   "metadata": {},
   "source": [
    "#### Curva Precision vs Recall\n",
    "La precisión muestra cuán sensibles son los modelos a los Falsos Positivos mientras que Recall analiza la sensibilidad de los modelos frente a los Falsos Negativos."
   ]
  },
  {
   "cell_type": "code",
   "execution_count": 23,
   "metadata": {
    "scrolled": false
   },
   "outputs": [
    {
     "data": {
      "image/png": "[encoded data removed]",
      "text/plain": [
       "Plot with title \"Precision-Recall\""
      ]
     },
     "metadata": {},
     "output_type": "display_data"
    }
   ],
   "source": [
    "# Gráfico\n",
    "plot(results, y = \"prec/rec\", annotate=1)\n",
    "title(\"Precision-Recall\")"
   ]
  },
  {
   "cell_type": "markdown",
   "metadata": {},
   "source": [
    "Con menos de 5 recomendaciones el gráfico muestra como los modelos \"SVD approximation\" y \"popular items\" tienen mayor precisión a igual Recall, es decir, sus predicciones entregan menor número de Falsos Positivos. A partir de ahí (más de 5 recomendaciones) también se nota una reducción en los Falsos Negativos (maximización del Recall) para la misma Precisión. Por lo tanto, ambos modelos se comportan mejor que el resto y se ratifican los resultados observados en la curva ROC."
   ]
  },
  {
   "cell_type": "markdown",
   "metadata": {},
   "source": [
    "#### Accuracy de los mejores modelos\n",
    "Se calcula el accuracy de los modelos \"SVD approximation\" y \"popular items\" los cuáles parecen ser más efectivos, para una cantidad de 10 recomendaciones"
   ]
  },
  {
   "cell_type": "code",
   "execution_count": 24,
   "metadata": {},
   "outputs": [],
   "source": [
    "#  Número de recomendaciones\n",
    "items_to_recommend <- 10"
   ]
  },
  {
   "cell_type": "code",
   "execution_count": 25,
   "metadata": {},
   "outputs": [
    {
     "data": {
      "text/html": [
       "<table>\n",
       "<thead><tr><th></th><th scope=col>RMSE</th><th scope=col>MSE</th><th scope=col>MAE</th></tr></thead>\n",
       "<tbody>\n",
       "\t<tr><th scope=row>243</th><td>2.149145 </td><td> 4.618825</td><td>2.144354 </td></tr>\n",
       "\t<tr><th scope=row>254</th><td>3.845667 </td><td>14.789158</td><td>3.129585 </td></tr>\n",
       "\t<tr><th scope=row>882</th><td>2.191149 </td><td> 4.801135</td><td>2.191149 </td></tr>\n",
       "\t<tr><th scope=row>6251</th><td>3.385021 </td><td>11.458370</td><td>2.431132 </td></tr>\n",
       "\t<tr><th scope=row>7915</th><td>3.390256 </td><td>11.493837</td><td>3.013870 </td></tr>\n",
       "\t<tr><th scope=row>8067</th><td>3.770585 </td><td>14.217311</td><td>3.754993 </td></tr>\n",
       "</tbody>\n",
       "</table>\n"
      ],
      "text/latex": [
       "\\begin{tabular}{r|lll}\n",
       "  & RMSE & MSE & MAE\\\\\n",
       "\\hline\n",
       "\t243 & 2.149145  &  4.618825 & 2.144354 \\\\\n",
       "\t254 & 3.845667  & 14.789158 & 3.129585 \\\\\n",
       "\t882 & 2.191149  &  4.801135 & 2.191149 \\\\\n",
       "\t6251 & 3.385021  & 11.458370 & 2.431132 \\\\\n",
       "\t7915 & 3.390256  & 11.493837 & 3.013870 \\\\\n",
       "\t8067 & 3.770585  & 14.217311 & 3.754993 \\\\\n",
       "\\end{tabular}\n"
      ],
      "text/markdown": [
       "\n",
       "| <!--/--> | RMSE | MSE | MAE |\n",
       "|---|---|---|---|\n",
       "| 243 | 2.149145  |  4.618825 | 2.144354  |\n",
       "| 254 | 3.845667  | 14.789158 | 3.129585  |\n",
       "| 882 | 2.191149  |  4.801135 | 2.191149  |\n",
       "| 6251 | 3.385021  | 11.458370 | 2.431132  |\n",
       "| 7915 | 3.390256  | 11.493837 | 3.013870  |\n",
       "| 8067 | 3.770585  | 14.217311 | 3.754993  |\n",
       "\n"
      ],
      "text/plain": [
       "     RMSE     MSE       MAE     \n",
       "243  2.149145  4.618825 2.144354\n",
       "254  3.845667 14.789158 3.129585\n",
       "882  2.191149  4.801135 2.191149\n",
       "6251 3.385021 11.458370 2.431132\n",
       "7915 3.390256 11.493837 3.013870\n",
       "8067 3.770585 14.217311 3.754993"
      ]
     },
     "metadata": {},
     "output_type": "display_data"
    }
   ],
   "source": [
    "eval_recommender <- Recommender(data = getData(scheme_sp, \"train\"), method = \"SVD\", parameter = NULL)\n",
    "\n",
    "eval_prediction  <- predict(object = eval_recommender,\n",
    "                            newdata = getData(scheme_sp, \"known\"),\n",
    "                            n = items_to_recommend,\n",
    "                            type = \"ratings\")\n",
    "\n",
    "eval_accuracy    <- calcPredictionAccuracy(x = eval_prediction,\n",
    "                                           data = getData(scheme_sp, \"unknown\"),\n",
    "                                           byUser = TRUE)\n",
    "head(eval_accuracy)"
   ]
  },
  {
   "cell_type": "code",
   "execution_count": 26,
   "metadata": {},
   "outputs": [
    {
     "data": {
      "text/html": [
       "<table>\n",
       "<thead><tr><th></th><th scope=col>RMSE</th><th scope=col>MSE</th><th scope=col>MAE</th></tr></thead>\n",
       "<tbody>\n",
       "\t<tr><th scope=row>243</th><td>2.212884 </td><td> 4.896856</td><td>2.189715 </td></tr>\n",
       "\t<tr><th scope=row>254</th><td>3.535203 </td><td>12.497659</td><td>2.856011 </td></tr>\n",
       "\t<tr><th scope=row>882</th><td>1.685956 </td><td> 2.842447</td><td>1.685956 </td></tr>\n",
       "\t<tr><th scope=row>6251</th><td>3.238855 </td><td>10.490179</td><td>2.365325 </td></tr>\n",
       "\t<tr><th scope=row>7915</th><td>3.439592 </td><td>11.830794</td><td>3.097990 </td></tr>\n",
       "\t<tr><th scope=row>8067</th><td>3.640442 </td><td>13.252817</td><td>3.536765 </td></tr>\n",
       "</tbody>\n",
       "</table>\n"
      ],
      "text/latex": [
       "\\begin{tabular}{r|lll}\n",
       "  & RMSE & MSE & MAE\\\\\n",
       "\\hline\n",
       "\t243 & 2.212884  &  4.896856 & 2.189715 \\\\\n",
       "\t254 & 3.535203  & 12.497659 & 2.856011 \\\\\n",
       "\t882 & 1.685956  &  2.842447 & 1.685956 \\\\\n",
       "\t6251 & 3.238855  & 10.490179 & 2.365325 \\\\\n",
       "\t7915 & 3.439592  & 11.830794 & 3.097990 \\\\\n",
       "\t8067 & 3.640442  & 13.252817 & 3.536765 \\\\\n",
       "\\end{tabular}\n"
      ],
      "text/markdown": [
       "\n",
       "| <!--/--> | RMSE | MSE | MAE |\n",
       "|---|---|---|---|\n",
       "| 243 | 2.212884  |  4.896856 | 2.189715  |\n",
       "| 254 | 3.535203  | 12.497659 | 2.856011  |\n",
       "| 882 | 1.685956  |  2.842447 | 1.685956  |\n",
       "| 6251 | 3.238855  | 10.490179 | 2.365325  |\n",
       "| 7915 | 3.439592  | 11.830794 | 3.097990  |\n",
       "| 8067 | 3.640442  | 13.252817 | 3.536765  |\n",
       "\n"
      ],
      "text/plain": [
       "     RMSE     MSE       MAE     \n",
       "243  2.212884  4.896856 2.189715\n",
       "254  3.535203 12.497659 2.856011\n",
       "882  1.685956  2.842447 1.685956\n",
       "6251 3.238855 10.490179 2.365325\n",
       "7915 3.439592 11.830794 3.097990\n",
       "8067 3.640442 13.252817 3.536765"
      ]
     },
     "metadata": {},
     "output_type": "display_data"
    }
   ],
   "source": [
    "eval_recommender <- Recommender(data = getData(scheme_sp, \"train\"), method = \"POPULAR\", parameter = NULL)\n",
    "\n",
    "eval_prediction  <- predict(object = eval_recommender,\n",
    "                            newdata = getData(scheme_sp, \"known\"),\n",
    "                            n = items_to_recommend,\n",
    "                            type = \"ratings\")\n",
    "\n",
    "eval_accuracy    <- calcPredictionAccuracy(x = eval_prediction,\n",
    "                                           data = getData(scheme_sp, \"unknown\"),\n",
    "                                           byUser = TRUE)\n",
    "head(eval_accuracy)"
   ]
  },
  {
   "cell_type": "markdown",
   "metadata": {},
   "source": [
    "Para 10 recomendaciones el modelo basado en factorización matricial (SVD) se comportó mejor (menor error) que el modelo basado en la popularidad de items (POPULAR), pero la diferencia es mínima."
   ]
  },
  {
   "cell_type": "markdown",
   "metadata": {},
   "source": [
    "### Evaluación mediante Cross-Validation"
   ]
  },
  {
   "cell_type": "code",
   "execution_count": 27,
   "metadata": {},
   "outputs": [
    {
     "data": {
      "text/plain": [
       "Evaluation scheme with 50 items given\n",
       "Method: 'cross-validation' with 5 run(s).\n",
       "Good ratings: >=5.000000\n",
       "Data set: 781 x 2125 rating matrix of class 'realRatingMatrix' with 93745 ratings."
      ]
     },
     "metadata": {},
     "output_type": "display_data"
    }
   ],
   "source": [
    "# Se trabaja con given = 50 que es el valor mínimo elegido de calificaciones de un usuario en df_new\n",
    "# A partir de 5 se considera un raiting positivo\n",
    "# K-fold = 5\n",
    "set.seed(123)\n",
    "scheme_cv <- evaluationScheme(r, method=\"cross\", k = 5, given = 50, goodRating = 5)\n",
    "scheme_cv"
   ]
  },
  {
   "cell_type": "code",
   "execution_count": 28,
   "metadata": {},
   "outputs": [
    {
     "name": "stdout",
     "output_type": "stream",
     "text": [
      "ALS run fold/sample [model time/prediction time]\n",
      "\t 1  [0sec/45.22sec] \n",
      "\t 2  [0sec/44.92sec] \n",
      "\t 3  [0sec/44.49sec] \n",
      "\t 4  [0sec/44.83sec] \n",
      "\t 5  [0sec/43.95sec] \n",
      "RANDOM run fold/sample [model time/prediction time]\n",
      "\t 1  [0sec/0.33sec] \n",
      "\t 2  [0.01sec/0.3sec] \n",
      "\t 3  [0sec/0.35sec] \n",
      "\t 4  [0sec/0.35sec] \n",
      "\t 5  [0sec/0.51sec] \n",
      "POPULAR run fold/sample [model time/prediction time]\n",
      "\t 1  [0.01sec/0.66sec] \n",
      "\t 2  [0.01sec/0.58sec] \n",
      "\t 3  [0.02sec/0.6sec] \n",
      "\t 4  [0sec/0.59sec] \n",
      "\t 5  [0sec/0.61sec] \n",
      "UBCF run fold/sample [model time/prediction time]\n",
      "\t 1  [0sec/1.74sec] \n",
      "\t 2  [0.01sec/1.78sec] \n",
      "\t 3  [0sec/1.88sec] \n",
      "\t 4  [0.01sec/1.92sec] \n",
      "\t 5  [0.01sec/1.83sec] \n",
      "IBCF run fold/sample [model time/prediction time]\n",
      "\t 1  [70.32sec/0.21sec] \n",
      "\t 2  [63.99sec/0.52sec] \n",
      "\t 3  [64.16sec/0.24sec] \n",
      "\t 4  [57.92sec/0.24sec] \n",
      "\t 5  [61.01sec/0.28sec] \n",
      "SVD run fold/sample [model time/prediction time]\n",
      "\t 1  [0.85sec/0.47sec] \n",
      "\t 2  [0.77sec/0.29sec] \n",
      "\t 3  [0.74sec/0.26sec] \n",
      "\t 4  [0.84sec/0.26sec] \n",
      "\t 5  [0.9sec/0.28sec] \n"
     ]
    }
   ],
   "source": [
    "# Se ajusta modelo\n",
    "results <- evaluate(scheme_cv, algorithms, type = \"topNList\", n=c(1, 3, 5, 10, 15, 20, 30))"
   ]
  },
  {
   "cell_type": "markdown",
   "metadata": {},
   "source": [
    "#### Curva ROC"
   ]
  },
  {
   "cell_type": "code",
   "execution_count": 29,
   "metadata": {},
   "outputs": [
    {
     "data": {
      "image/png": "[encoded data removed]",
      "text/plain": [
       "Plot with title \"ROC Curve\""
      ]
     },
     "metadata": {},
     "output_type": "display_data"
    }
   ],
   "source": [
    "plot(results, y = \"ROC\", annotate = 1, legend=\"topleft\")\n",
    "title(\"ROC Curve\")"
   ]
  },
  {
   "cell_type": "markdown",
   "metadata": {},
   "source": [
    "En el gráfico el modelo \"SVD approximation\" tiene mejor rendimiento que el modelo \"popular items\". Pero ambos, tienen un desempeño sobresaliente respecto al resto."
   ]
  },
  {
   "cell_type": "markdown",
   "metadata": {},
   "source": [
    "#### Curva Precision vs Recall"
   ]
  },
  {
   "cell_type": "code",
   "execution_count": 30,
   "metadata": {},
   "outputs": [
    {
     "data": {
      "image/png": "[encoded data removed]",
      "text/plain": [
       "Plot with title \"Precision-Recall\""
      ]
     },
     "metadata": {},
     "output_type": "display_data"
    }
   ],
   "source": [
    "# Precision / Recall \n",
    "plot(results, y = \"prec/rec\", annotate=1)\n",
    "title(\"Precision-Recall\")"
   ]
  },
  {
   "cell_type": "markdown",
   "metadata": {},
   "source": [
    "Nuevamente, se observa una mejor efectvidad del modelo basado en factorización matricial (SVD) frente al modelo basado en la popularidad de items. "
   ]
  },
  {
   "cell_type": "markdown",
   "metadata": {},
   "source": [
    "#### Se puede concluir que el modelo basado en factorización matricial (SVD) es el que ofrece mejor desempeño como recomendador, seguido por el modelo basado en la popularidad de items con un rendimiento levemente inferior mientras que el resto demostró una efectividad significativamente más baja. "
   ]
  }
 ],
 "metadata": {
  "kernelspec": {
   "display_name": "Python 3",
   "language": "python",
   "name": "python3"
  },
  "language_info": {
   "codemirror_mode": {
    "name": "ipython",
    "version": 3
   },
   "file_extension": ".py",
   "mimetype": "text/x-python",
   "name": "python",
   "nbconvert_exporter": "python",
   "pygments_lexer": "ipython3",
   "version": "3.8.3"
  }
 },
 "nbformat": 4,
 "nbformat_minor": 2
}
