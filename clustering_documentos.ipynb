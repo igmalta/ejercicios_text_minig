{
 "cells": [
  {
   "cell_type": "markdown",
   "metadata": {},
   "source": [
    "## Ejercicio Nro. 6 - Clustering de documentos"
   ]
  },
  {
   "cell_type": "code",
   "execution_count": 1,
   "metadata": {},
   "outputs": [],
   "source": [
    "# Objetivo: Medir la similitud entre documentos.\n",
    "# Tareas: \n",
    "# Usar medidas de distancia para encontrar los documentos más relevantes.\n",
    "# Agrupar documentos similares.\n",
    "# Utilizar técnicas de visualización para  los grupos de documentos."
   ]
  },
  {
   "cell_type": "markdown",
   "metadata": {},
   "source": [
    "## Librerías"
   ]
  },
  {
   "cell_type": "code",
   "execution_count": 39,
   "metadata": {
    "scrolled": false
   },
   "outputs": [],
   "source": [
    "packages <- c(\"rvest\", \"data.table\", \"dplyr\", \"stringr\", \"robotstxt\", \"lubridate\", \"lubridate\", \"purrr\", \"ggplot2\", \n",
    "              \"dendextend\", \"dbscan\", \"tm\", \"tidyverse\", \"tidytext\", \"proxy\", \"proxy\", \"Rtsne\", \"scatterplot3d\",\n",
    "              \"RColorBrewer\")\n",
    "\n",
    "if (length(setdiff(packages, rownames(installed.packages()))) > 0) {\n",
    "  install.packages(setdiff(packages, rownames(installed.packages())))  \n",
    "}\n",
    "\n",
    "library(\"rvest\")\n",
    "library(\"data.table\")\n",
    "library(\"dplyr\")\n",
    "library(\"stringr\")\n",
    "library(\"robotstxt\")\n",
    "library(\"lubridate\")\n",
    "library(\"purrr\")\n",
    "library(\"ggplot2\")\n",
    "library(\"dendextend\")\n",
    "library(\"dbscan\")\n",
    "library(\"tm\")\n",
    "library(\"tidyverse\")\n",
    "library(\"tidytext\")\n",
    "library(\"proxy\")\n",
    "library(\"Rtsne\")\n",
    "library(\"scatterplot3d\")\n",
    "library(\"RColorBrewer\")"
   ]
  },
  {
   "cell_type": "markdown",
   "metadata": {},
   "source": [
    "## Se verifica que se pueda descargar información de la página"
   ]
  },
  {
   "cell_type": "code",
   "execution_count": 3,
   "metadata": {},
   "outputs": [
    {
     "name": "stderr",
     "output_type": "stream",
     "text": [
      " www.imdb.com                      \n",
      "\n"
     ]
    },
    {
     "data": {
      "text/html": [
       "TRUE"
      ],
      "text/latex": [
       "TRUE"
      ],
      "text/markdown": [
       "TRUE"
      ],
      "text/plain": [
       "[1] TRUE"
      ]
     },
     "metadata": {},
     "output_type": "display_data"
    }
   ],
   "source": [
    "paths_allowed(\n",
    "  paths = c(\"https://www.imdb.com/\")\n",
    ")"
   ]
  },
  {
   "cell_type": "markdown",
   "metadata": {},
   "source": [
    "## Variables de interés"
   ]
  },
  {
   "cell_type": "code",
   "execution_count": 4,
   "metadata": {},
   "outputs": [],
   "source": [
    "# Información que se va a descargar de las páginas\n",
    "tags <- c(\"rank\", \"title\", \"year\", \"genre\", \"summary\")\n",
    "\n",
    "# Se define la cantidad de páginas dentro del sitio que recorro para hacer scraping\n",
    "numPagina <- 3\n",
    "\n",
    "# Se crea una lista para guardar temporalmente los datos de cada página\n",
    "paginas <- list()"
   ]
  },
  {
   "cell_type": "markdown",
   "metadata": {},
   "source": [
    "## Navegación por página y scraping"
   ]
  },
  {
   "cell_type": "code",
   "execution_count": 5,
   "metadata": {},
   "outputs": [
    {
     "name": "stdout",
     "output_type": "stream",
     "text": [
      "Página N° 1... Cantidad de registros: 100 ... \n",
      "Página N° 2... Cantidad de registros: 100 ... \n",
      "Página N° 3... Cantidad de registros: 100 ... \n"
     ]
    }
   ],
   "source": [
    "# Se recorre cada página, se descarga la información requerida y se realiza la limpieza necesaria\n",
    "for (n in 1:numPagina) {\n",
    "\n",
    "  html <- paste0(\"https://www.imdb.com/list/ls025598828/?st_dt=&mode=detail&page=\",n,\"&sort=list_order,asc/\")\n",
    "  \n",
    "  # Se carga la página\n",
    "  movies <- read_html(html)\n",
    "  \n",
    "  # Ranking de películas\n",
    "  rank <- movies %>% html_nodes(\".text-primary\") %>% html_text() %>% str_replace_all(\"[\\\\s.]+\", \"\")\n",
    "  \n",
    "  # Título de las películas\n",
    "  title <- movies %>% html_nodes(\".lister-item-header a\") %>% html_text() \n",
    "  \n",
    "  # Año de filmación\n",
    "  year <- movies %>% html_nodes(\".lister-item-year\") %>% html_text() %>% str_replace_all(\"[\\\\s()]+\", \"\") %>% \n",
    "    str_sub(-4) %>% as.numeric()\n",
    "  \n",
    "  # Género de las películas\n",
    "  genre <- movies %>% html_nodes(\".genre\") %>% html_text()%>% str_replace_all(\"[\\\\s()]+\", \"\")\n",
    "  \n",
    "  # Sinopsis (es necesario hacer scraping desde 2 elementos distintos)\n",
    "  summary1  <- movies %>% html_nodes( \".lister-item-content\") %>% html_node(\".ipl-rating-widget+ p\") %>% \n",
    "    html_text() %>% str_replace_all(\"[\\\\n.()]+\", \"\")\n",
    "  summary2  <- movies %>% html_nodes( \".lister-item-content\") %>% html_node(\".ratings-metascore+ p\") %>% \n",
    "    html_text() %>% str_replace_all(\"[\\\\n.()]+\", \"\")\n",
    "  \n",
    "  # Junto la información de sinopsis en un elemento\n",
    "  for (i in 1:100){\n",
    "    summary1[i] <- ifelse(is.na(summary1[i]), summary2[i], summary1[i] )\n",
    "  }\n",
    "  \n",
    "  #Se crea tabla con variables\n",
    "  tabla <- data.table(rank, title, year, genre, summary1)\n",
    "  names(tabla) <- c(tags)\n",
    "  \n",
    "  # Si hay celdas vacías se asigna NA\n",
    "  tabla[tabla == \"\"] <- NA\n",
    "  \n",
    "  # Se guarda información en lista\n",
    "  paginas[[n]] <- tabla\n",
    "  \n",
    "  cat(paste0(\"Página N° \", n, \"... Cantidad de registros: \", nrow(tabla), \" ...\"), \"\\n\")\n",
    "}"
   ]
  },
  {
   "cell_type": "markdown",
   "metadata": {},
   "source": [
    "## Se transforma la lista creada en una tabla única"
   ]
  },
  {
   "cell_type": "code",
   "execution_count": 6,
   "metadata": {},
   "outputs": [
    {
     "data": {
      "text/html": [
       "<table>\n",
       "<thead><tr><th scope=col>rank</th><th scope=col>title</th><th scope=col>year</th><th scope=col>genre</th><th scope=col>summary</th></tr></thead>\n",
       "<tbody>\n",
       "\t<tr><td>1                                                                                                                                                                                                                   </td><td>Breaking Bad                                                                                                                                                                                                        </td><td>2013                                                                                                                                                                                                                </td><td>Crime,Drama,Thriller                                                                                                                                                                                                </td><td>    A high school chemistry teacher diagnosed with inoperable lung cancer turns to manufacturing and selling methamphetamine in order to secure his family's future                                                 </td></tr>\n",
       "\t<tr><td>2                                                                                                                                                                                                                   </td><td>Crank 2: Alto voltaje                                                                                                                                                                                               </td><td>2009                                                                                                                                                                                                                </td><td>Action,Thriller                                                                                                                                                                                                     </td><td>    Chelios faces a Chinese mobster who has stolen his nearly indestructible heart and replaced it with a battery-powered ticker which requires regular jolts of electricity to keep working                        </td></tr>\n",
       "\t<tr><td>3                                                                                                                                                                                                                   </td><td>Django sin cadenas                                                                                                                                                                                                  </td><td>2012                                                                                                                                                                                                                </td><td>Drama,Western                                                                                                                                                                                                       </td><td>    With the help of a German bounty hunter, a freed slave sets out to rescue his wife from a brutal Mississippi plantation owner                                                                                   </td></tr>\n",
       "\t<tr><td>4                                                                                                                                                                                                                   </td><td>Crank, veneno en la sangre                                                                                                                                                                                          </td><td>2006                                                                                                                                                                                                                </td><td>Action,Crime,Thriller                                                                                                                                                                                               </td><td>    Professional assassin Chev Chelios learns his rival has injected him with a poison that will kill him if his heart rate drops                                                                                   </td></tr>\n",
       "\t<tr><td>5                                                                                                                                                                                                                   </td><td>Sin Control                                                                                                                                                                                                         </td><td>2014                                                                                                                                                                                                                </td><td>Action,Crime,Thriller                                                                                                                                                                                               </td><td>    An ex-hit-man comes out of retirement to track down the gangsters that killed his dog and took everything from him                                                                                              </td></tr>\n",
       "\t<tr><td>6                                                                                                                                                                                                                   </td><td>John Wick 2: Un nuevo día para matar                                                                                                                                                                                </td><td>2017                                                                                                                                                                                                                </td><td>Action,Crime,Thriller                                                                                                                                                                                               </td><td>    After returning to the criminal underworld to repay a debt, John Wick discovers that a large bounty has been put on his life                                                                                    </td></tr>\n",
       "\t<tr><td>7                                                                                                                                                                                                                   </td><td>Amigos de armas                                                                                                                                                                                                     </td><td>2016                                                                                                                                                                                                                </td><td>Biography,Comedy,Crime                                                                                                                                                                                              </td><td>    Loosely based on the true story of two young men, David Packouz and Efraim Diveroli, who won a three hundred million dollar contract from the Pentagon to arm America's allies in Afghanistan                   </td></tr>\n",
       "\t<tr><td>8                                                                                                                                                                                                                   </td><td>Los 8 más odiados                                                                                                                                                                                                   </td><td>2015                                                                                                                                                                                                                </td><td>Crime,Drama,Mystery                                                                                                                                                                                                 </td><td>    In the dead of a Wyoming winter, a bounty hunter and his prisoner find shelter in a cabin currently inhabited by a collection of nefarious characters                                                           </td></tr>\n",
       "\t<tr><td>9                                                                                                                                                                                                                   </td><td>Una película serbia                                                                                                                                                                                                 </td><td>2010                                                                                                                                                                                                                </td><td>Horror,Mystery,Thriller                                                                                                                                                                                             </td><td>    An aging porn star agrees to participate in an \"art film\" in order to make a clean break from the business, only to discover that he has been drafted into making a pedophilia and necrophilia themed snuff film</td></tr>\n",
       "\t<tr><td>10                                                                                                                                                                                                                  </td><td>Pecados capitales                                                                                                                                                                                                   </td><td>1995                                                                                                                                                                                                                </td><td>Crime,Drama,Mystery                                                                                                                                                                                                 </td><td>    Two detectives, a rookie and a veteran, hunt a serial killer who uses the seven deadly sins as his motives                                                                                                      </td></tr>\n",
       "</tbody>\n",
       "</table>\n"
      ],
      "text/latex": [
       "\\begin{tabular}{r|lllll}\n",
       " rank & title & year & genre & summary\\\\\n",
       "\\hline\n",
       "\t 1                                                                                                                                                                                                                    & Breaking Bad                                                                                                                                                                                                         & 2013                                                                                                                                                                                                                 & Crime,Drama,Thriller                                                                                                                                                                                                 &     A high school chemistry teacher diagnosed with inoperable lung cancer turns to manufacturing and selling methamphetamine in order to secure his family's future                                                 \\\\\n",
       "\t 2                                                                                                                                                                                                                    & Crank 2: Alto voltaje                                                                                                                                                                                                & 2009                                                                                                                                                                                                                 & Action,Thriller                                                                                                                                                                                                      &     Chelios faces a Chinese mobster who has stolen his nearly indestructible heart and replaced it with a battery-powered ticker which requires regular jolts of electricity to keep working                        \\\\\n",
       "\t 3                                                                                                                                                                                                                    & Django sin cadenas                                                                                                                                                                                                   & 2012                                                                                                                                                                                                                 & Drama,Western                                                                                                                                                                                                        &     With the help of a German bounty hunter, a freed slave sets out to rescue his wife from a brutal Mississippi plantation owner                                                                                   \\\\\n",
       "\t 4                                                                                                                                                                                                                    & Crank, veneno en la sangre                                                                                                                                                                                           & 2006                                                                                                                                                                                                                 & Action,Crime,Thriller                                                                                                                                                                                                &     Professional assassin Chev Chelios learns his rival has injected him with a poison that will kill him if his heart rate drops                                                                                   \\\\\n",
       "\t 5                                                                                                                                                                                                                    & Sin Control                                                                                                                                                                                                          & 2014                                                                                                                                                                                                                 & Action,Crime,Thriller                                                                                                                                                                                                &     An ex-hit-man comes out of retirement to track down the gangsters that killed his dog and took everything from him                                                                                              \\\\\n",
       "\t 6                                                                                                                                                                                                                    & John Wick 2: Un nuevo día para matar                                                                                                                                                                                 & 2017                                                                                                                                                                                                                 & Action,Crime,Thriller                                                                                                                                                                                                &     After returning to the criminal underworld to repay a debt, John Wick discovers that a large bounty has been put on his life                                                                                    \\\\\n",
       "\t 7                                                                                                                                                                                                                    & Amigos de armas                                                                                                                                                                                                      & 2016                                                                                                                                                                                                                 & Biography,Comedy,Crime                                                                                                                                                                                               &     Loosely based on the true story of two young men, David Packouz and Efraim Diveroli, who won a three hundred million dollar contract from the Pentagon to arm America's allies in Afghanistan                   \\\\\n",
       "\t 8                                                                                                                                                                                                                    & Los 8 más odiados                                                                                                                                                                                                    & 2015                                                                                                                                                                                                                 & Crime,Drama,Mystery                                                                                                                                                                                                  &     In the dead of a Wyoming winter, a bounty hunter and his prisoner find shelter in a cabin currently inhabited by a collection of nefarious characters                                                           \\\\\n",
       "\t 9                                                                                                                                                                                                                    & Una película serbia                                                                                                                                                                                                  & 2010                                                                                                                                                                                                                 & Horror,Mystery,Thriller                                                                                                                                                                                              &     An aging porn star agrees to participate in an \"art film\" in order to make a clean break from the business, only to discover that he has been drafted into making a pedophilia and necrophilia themed snuff film\\\\\n",
       "\t 10                                                                                                                                                                                                                   & Pecados capitales                                                                                                                                                                                                    & 1995                                                                                                                                                                                                                 & Crime,Drama,Mystery                                                                                                                                                                                                  &     Two detectives, a rookie and a veteran, hunt a serial killer who uses the seven deadly sins as his motives                                                                                                      \\\\\n",
       "\\end{tabular}\n"
      ],
      "text/markdown": [
       "\n",
       "| rank | title | year | genre | summary |\n",
       "|---|---|---|---|---|\n",
       "| 1                                                                                                                                                                                                                    | Breaking Bad                                                                                                                                                                                                         | 2013                                                                                                                                                                                                                 | Crime,Drama,Thriller                                                                                                                                                                                                 |     A high school chemistry teacher diagnosed with inoperable lung cancer turns to manufacturing and selling methamphetamine in order to secure his family's future                                                  |\n",
       "| 2                                                                                                                                                                                                                    | Crank 2: Alto voltaje                                                                                                                                                                                                | 2009                                                                                                                                                                                                                 | Action,Thriller                                                                                                                                                                                                      |     Chelios faces a Chinese mobster who has stolen his nearly indestructible heart and replaced it with a battery-powered ticker which requires regular jolts of electricity to keep working                         |\n",
       "| 3                                                                                                                                                                                                                    | Django sin cadenas                                                                                                                                                                                                   | 2012                                                                                                                                                                                                                 | Drama,Western                                                                                                                                                                                                        |     With the help of a German bounty hunter, a freed slave sets out to rescue his wife from a brutal Mississippi plantation owner                                                                                    |\n",
       "| 4                                                                                                                                                                                                                    | Crank, veneno en la sangre                                                                                                                                                                                           | 2006                                                                                                                                                                                                                 | Action,Crime,Thriller                                                                                                                                                                                                |     Professional assassin Chev Chelios learns his rival has injected him with a poison that will kill him if his heart rate drops                                                                                    |\n",
       "| 5                                                                                                                                                                                                                    | Sin Control                                                                                                                                                                                                          | 2014                                                                                                                                                                                                                 | Action,Crime,Thriller                                                                                                                                                                                                |     An ex-hit-man comes out of retirement to track down the gangsters that killed his dog and took everything from him                                                                                               |\n",
       "| 6                                                                                                                                                                                                                    | John Wick 2: Un nuevo día para matar                                                                                                                                                                                 | 2017                                                                                                                                                                                                                 | Action,Crime,Thriller                                                                                                                                                                                                |     After returning to the criminal underworld to repay a debt, John Wick discovers that a large bounty has been put on his life                                                                                     |\n",
       "| 7                                                                                                                                                                                                                    | Amigos de armas                                                                                                                                                                                                      | 2016                                                                                                                                                                                                                 | Biography,Comedy,Crime                                                                                                                                                                                               |     Loosely based on the true story of two young men, David Packouz and Efraim Diveroli, who won a three hundred million dollar contract from the Pentagon to arm America's allies in Afghanistan                    |\n",
       "| 8                                                                                                                                                                                                                    | Los 8 más odiados                                                                                                                                                                                                    | 2015                                                                                                                                                                                                                 | Crime,Drama,Mystery                                                                                                                                                                                                  |     In the dead of a Wyoming winter, a bounty hunter and his prisoner find shelter in a cabin currently inhabited by a collection of nefarious characters                                                            |\n",
       "| 9                                                                                                                                                                                                                    | Una película serbia                                                                                                                                                                                                  | 2010                                                                                                                                                                                                                 | Horror,Mystery,Thriller                                                                                                                                                                                              |     An aging porn star agrees to participate in an \"art film\" in order to make a clean break from the business, only to discover that he has been drafted into making a pedophilia and necrophilia themed snuff film |\n",
       "| 10                                                                                                                                                                                                                   | Pecados capitales                                                                                                                                                                                                    | 1995                                                                                                                                                                                                                 | Crime,Drama,Mystery                                                                                                                                                                                                  |     Two detectives, a rookie and a veteran, hunt a serial killer who uses the seven deadly sins as his motives                                                                                                       |\n",
       "\n"
      ],
      "text/plain": [
       "   rank title                                year genre                  \n",
       "1  1    Breaking Bad                         2013 Crime,Drama,Thriller   \n",
       "2  2    Crank 2: Alto voltaje                2009 Action,Thriller        \n",
       "3  3    Django sin cadenas                   2012 Drama,Western          \n",
       "4  4    Crank, veneno en la sangre           2006 Action,Crime,Thriller  \n",
       "5  5    Sin Control                          2014 Action,Crime,Thriller  \n",
       "6  6    John Wick 2: Un nuevo día para matar 2017 Action,Crime,Thriller  \n",
       "7  7    Amigos de armas                      2016 Biography,Comedy,Crime \n",
       "8  8    Los 8 más odiados                    2015 Crime,Drama,Mystery    \n",
       "9  9    Una película serbia                  2010 Horror,Mystery,Thriller\n",
       "10 10   Pecados capitales                    1995 Crime,Drama,Mystery    \n",
       "   summary                                                                                                                                                                                                             \n",
       "1      A high school chemistry teacher diagnosed with inoperable lung cancer turns to manufacturing and selling methamphetamine in order to secure his family's future                                                 \n",
       "2      Chelios faces a Chinese mobster who has stolen his nearly indestructible heart and replaced it with a battery-powered ticker which requires regular jolts of electricity to keep working                        \n",
       "3      With the help of a German bounty hunter, a freed slave sets out to rescue his wife from a brutal Mississippi plantation owner                                                                                   \n",
       "4      Professional assassin Chev Chelios learns his rival has injected him with a poison that will kill him if his heart rate drops                                                                                   \n",
       "5      An ex-hit-man comes out of retirement to track down the gangsters that killed his dog and took everything from him                                                                                              \n",
       "6      After returning to the criminal underworld to repay a debt, John Wick discovers that a large bounty has been put on his life                                                                                    \n",
       "7      Loosely based on the true story of two young men, David Packouz and Efraim Diveroli, who won a three hundred million dollar contract from the Pentagon to arm America's allies in Afghanistan                   \n",
       "8      In the dead of a Wyoming winter, a bounty hunter and his prisoner find shelter in a cabin currently inhabited by a collection of nefarious characters                                                           \n",
       "9      An aging porn star agrees to participate in an \"art film\" in order to make a clean break from the business, only to discover that he has been drafted into making a pedophilia and necrophilia themed snuff film\n",
       "10     Two detectives, a rookie and a veteran, hunt a serial killer who uses the seven deadly sins as his motives                                                                                                      "
      ]
     },
     "metadata": {},
     "output_type": "display_data"
    }
   ],
   "source": [
    "dataset <- rbindlist(paginas)\n",
    "head(dataset, 10)"
   ]
  },
  {
   "cell_type": "code",
   "execution_count": 7,
   "metadata": {},
   "outputs": [
    {
     "data": {
      "text/html": [
       "<ol class=list-inline>\n",
       "\t<li>300</li>\n",
       "\t<li>5</li>\n",
       "</ol>\n"
      ],
      "text/latex": [
       "\\begin{enumerate*}\n",
       "\\item 300\n",
       "\\item 5\n",
       "\\end{enumerate*}\n"
      ],
      "text/markdown": [
       "1. 300\n",
       "2. 5\n",
       "\n",
       "\n"
      ],
      "text/plain": [
       "[1] 300   5"
      ]
     },
     "metadata": {},
     "output_type": "display_data"
    }
   ],
   "source": [
    "dim(dataset)"
   ]
  },
  {
   "cell_type": "code",
   "execution_count": 8,
   "metadata": {},
   "outputs": [
    {
     "data": {
      "text/html": [
       "<ol class=list-inline>\n",
       "\t<li>'Crime,Drama,Thriller'</li>\n",
       "\t<li>'Action,Thriller'</li>\n",
       "\t<li>'Drama,Western'</li>\n",
       "\t<li>'Action,Crime,Thriller'</li>\n",
       "\t<li>'Biography,Comedy,Crime'</li>\n",
       "\t<li>'Crime,Drama,Mystery'</li>\n",
       "\t<li>'Horror,Mystery,Thriller'</li>\n",
       "\t<li>'Crime,Drama'</li>\n",
       "\t<li>'Biography,Crime,Drama'</li>\n",
       "\t<li>'Adventure,Drama,War'</li>\n",
       "\t<li>'Comedy,Crime,Drama'</li>\n",
       "\t<li>'Horror'</li>\n",
       "\t<li>'Action,Drama,War'</li>\n",
       "\t<li>'Action,Biography,Drama'</li>\n",
       "\t<li>'Drama,Thriller'</li>\n",
       "\t<li>'Comedy,Drama,Sci-Fi'</li>\n",
       "\t<li>'Action,Crime,Drama'</li>\n",
       "\t<li>'Crime,Horror,Thriller'</li>\n",
       "\t<li>'Comedy,Fantasy'</li>\n",
       "\t<li>'Comedy'</li>\n",
       "\t<li>'Comedy,Horror'</li>\n",
       "\t<li>'Biography,Drama'</li>\n",
       "\t<li>'Drama,Fantasy,Horror'</li>\n",
       "\t<li>'Mystery,Thriller'</li>\n",
       "\t<li>'Comedy,Crime'</li>\n",
       "\t<li>'Drama'</li>\n",
       "\t<li>'Drama,War'</li>\n",
       "\t<li>'Action,Comedy,Crime'</li>\n",
       "\t<li>'Adventure,Drama,Romance'</li>\n",
       "\t<li>'Biography,Drama,War'</li>\n",
       "\t<li>'Crime,Horror,Mystery'</li>\n",
       "\t<li>'Drama,Music,Romance'</li>\n",
       "\t<li>'Biography,Comedy,Drama'</li>\n",
       "\t<li>'Horror,Mystery,Sci-Fi'</li>\n",
       "\t<li>'Action,Adventure,Sci-Fi'</li>\n",
       "\t<li>'Drama,Horror'</li>\n",
       "\t<li>'Drama,Mystery,Sci-Fi'</li>\n",
       "\t<li>'Crime,Drama,Sci-Fi'</li>\n",
       "\t<li>'Mystery,Sci-Fi,Thriller'</li>\n",
       "\t<li>'Crime,Drama,Fantasy'</li>\n",
       "\t<li>'Action,Drama,History'</li>\n",
       "\t<li>'Action,Adventure,Comedy'</li>\n",
       "\t<li>'Horror,Sci-Fi'</li>\n",
       "\t<li>'Western'</li>\n",
       "\t<li>'Biography,Drama,Thriller'</li>\n",
       "\t<li>'Horror,Thriller'</li>\n",
       "\t<li>'Adventure,Sci-Fi'</li>\n",
       "\t<li>'Action,Drama,Sci-Fi'</li>\n",
       "\t<li>'Drama,Sci-Fi,Thriller'</li>\n",
       "\t<li>'Adventure,Drama,Thriller'</li>\n",
       "\t<li>'Action,Adventure'</li>\n",
       "\t<li>'Action,Sci-Fi'</li>\n",
       "\t<li>'Crime,Mystery,Thriller'</li>\n",
       "\t<li>'Crime,Thriller'</li>\n",
       "\t<li>'Action,Crime,Horror'</li>\n",
       "\t<li>'Horror,Sci-Fi,Thriller'</li>\n",
       "\t<li>'Action,Adventure,Thriller'</li>\n",
       "\t<li>'Adventure,Comedy'</li>\n",
       "\t<li>'Drama,Horror,Sci-Fi'</li>\n",
       "\t<li>'Action,Adventure,Drama'</li>\n",
       "\t<li>'Adventure,Comedy,Sci-Fi'</li>\n",
       "\t<li>'Biography,Drama,Music'</li>\n",
       "\t<li>'Action,Adventure,Crime'</li>\n",
       "\t<li>'Comedy,Crime,Sport'</li>\n",
       "\t<li>'Drama,Horror,Thriller'</li>\n",
       "\t<li>'Drama,Mystery,Thriller'</li>\n",
       "\t<li>'Adventure,Drama,Fantasy'</li>\n",
       "\t<li>'Action,Drama'</li>\n",
       "\t<li>'Biography,Drama,History'</li>\n",
       "\t<li>'Documentary,Biography,History'</li>\n",
       "\t<li>'Crime,Drama,History'</li>\n",
       "\t<li>'Adventure,Comedy,Drama'</li>\n",
       "\t<li>'Adventure,Drama'</li>\n",
       "\t<li>'Action,Comedy,Fantasy'</li>\n",
       "\t<li>'Fantasy,Horror'</li>\n",
       "\t<li>'Horror,Mystery'</li>\n",
       "\t<li>'Action,Horror,Sci-Fi'</li>\n",
       "\t<li>'Animation,Action,Adventure'</li>\n",
       "\t<li>'Drama,Horror,Music'</li>\n",
       "\t<li>'Adventure,Sci-Fi,Thriller'</li>\n",
       "\t<li>'Biography,Drama,Sport'</li>\n",
       "\t<li>'Drama,Fantasy'</li>\n",
       "\t<li>'Action,Adventure,Horror'</li>\n",
       "\t<li>'Adventure,Horror,Thriller'</li>\n",
       "\t<li>'Action,Adventure,Fantasy'</li>\n",
       "\t<li>'Action,Drama,Thriller'</li>\n",
       "\t<li>'Animation,Adventure,Comedy'</li>\n",
       "\t<li>'Drama,Romance'</li>\n",
       "\t<li>'Adventure,Comedy,Fantasy'</li>\n",
       "\t<li>'Animation,Adventure,Drama'</li>\n",
       "\t<li>'Comedy,Crime,Thriller'</li>\n",
       "\t<li>'Comedy,Drama,Music'</li>\n",
       "\t<li>'Drama,Music'</li>\n",
       "\t<li>'Drama,Horror,Mystery'</li>\n",
       "\t<li>'Adventure,Horror'</li>\n",
       "\t<li>'Action,Comedy,War'</li>\n",
       "\t<li>'Comedy,Drama'</li>\n",
       "\t<li>'Adventure,Drama,Mystery'</li>\n",
       "\t<li>'Action,Crime,Sci-Fi'</li>\n",
       "\t<li>'Comedy,Romance'</li>\n",
       "\t<li>'Drama,Mystery,War'</li>\n",
       "\t<li>'Adventure,Comedy,Music'</li>\n",
       "\t<li>'Adventure,Biography,Drama'</li>\n",
       "\t<li>'Comedy,Drama,Thriller'</li>\n",
       "\t<li>'Adventure,Family,Fantasy'</li>\n",
       "\t<li>'Comedy,Crime,Mystery'</li>\n",
       "\t<li>'Drama,Thriller,War'</li>\n",
       "\t<li>'Action,Sci-Fi,Thriller'</li>\n",
       "\t<li>'Fantasy,Horror,Mystery'</li>\n",
       "\t<li>'Drama,Fantasy,War'</li>\n",
       "\t<li>'Sci-Fi,Thriller'</li>\n",
       "\t<li>'Drama,Romance,Sci-Fi'</li>\n",
       "\t<li>'Drama,History,Thriller'</li>\n",
       "\t<li>'Action,Mystery,Thriller'</li>\n",
       "\t<li>'Comedy,Drama,Musical'</li>\n",
       "</ol>\n"
      ],
      "text/latex": [
       "\\begin{enumerate*}\n",
       "\\item 'Crime,Drama,Thriller'\n",
       "\\item 'Action,Thriller'\n",
       "\\item 'Drama,Western'\n",
       "\\item 'Action,Crime,Thriller'\n",
       "\\item 'Biography,Comedy,Crime'\n",
       "\\item 'Crime,Drama,Mystery'\n",
       "\\item 'Horror,Mystery,Thriller'\n",
       "\\item 'Crime,Drama'\n",
       "\\item 'Biography,Crime,Drama'\n",
       "\\item 'Adventure,Drama,War'\n",
       "\\item 'Comedy,Crime,Drama'\n",
       "\\item 'Horror'\n",
       "\\item 'Action,Drama,War'\n",
       "\\item 'Action,Biography,Drama'\n",
       "\\item 'Drama,Thriller'\n",
       "\\item 'Comedy,Drama,Sci-Fi'\n",
       "\\item 'Action,Crime,Drama'\n",
       "\\item 'Crime,Horror,Thriller'\n",
       "\\item 'Comedy,Fantasy'\n",
       "\\item 'Comedy'\n",
       "\\item 'Comedy,Horror'\n",
       "\\item 'Biography,Drama'\n",
       "\\item 'Drama,Fantasy,Horror'\n",
       "\\item 'Mystery,Thriller'\n",
       "\\item 'Comedy,Crime'\n",
       "\\item 'Drama'\n",
       "\\item 'Drama,War'\n",
       "\\item 'Action,Comedy,Crime'\n",
       "\\item 'Adventure,Drama,Romance'\n",
       "\\item 'Biography,Drama,War'\n",
       "\\item 'Crime,Horror,Mystery'\n",
       "\\item 'Drama,Music,Romance'\n",
       "\\item 'Biography,Comedy,Drama'\n",
       "\\item 'Horror,Mystery,Sci-Fi'\n",
       "\\item 'Action,Adventure,Sci-Fi'\n",
       "\\item 'Drama,Horror'\n",
       "\\item 'Drama,Mystery,Sci-Fi'\n",
       "\\item 'Crime,Drama,Sci-Fi'\n",
       "\\item 'Mystery,Sci-Fi,Thriller'\n",
       "\\item 'Crime,Drama,Fantasy'\n",
       "\\item 'Action,Drama,History'\n",
       "\\item 'Action,Adventure,Comedy'\n",
       "\\item 'Horror,Sci-Fi'\n",
       "\\item 'Western'\n",
       "\\item 'Biography,Drama,Thriller'\n",
       "\\item 'Horror,Thriller'\n",
       "\\item 'Adventure,Sci-Fi'\n",
       "\\item 'Action,Drama,Sci-Fi'\n",
       "\\item 'Drama,Sci-Fi,Thriller'\n",
       "\\item 'Adventure,Drama,Thriller'\n",
       "\\item 'Action,Adventure'\n",
       "\\item 'Action,Sci-Fi'\n",
       "\\item 'Crime,Mystery,Thriller'\n",
       "\\item 'Crime,Thriller'\n",
       "\\item 'Action,Crime,Horror'\n",
       "\\item 'Horror,Sci-Fi,Thriller'\n",
       "\\item 'Action,Adventure,Thriller'\n",
       "\\item 'Adventure,Comedy'\n",
       "\\item 'Drama,Horror,Sci-Fi'\n",
       "\\item 'Action,Adventure,Drama'\n",
       "\\item 'Adventure,Comedy,Sci-Fi'\n",
       "\\item 'Biography,Drama,Music'\n",
       "\\item 'Action,Adventure,Crime'\n",
       "\\item 'Comedy,Crime,Sport'\n",
       "\\item 'Drama,Horror,Thriller'\n",
       "\\item 'Drama,Mystery,Thriller'\n",
       "\\item 'Adventure,Drama,Fantasy'\n",
       "\\item 'Action,Drama'\n",
       "\\item 'Biography,Drama,History'\n",
       "\\item 'Documentary,Biography,History'\n",
       "\\item 'Crime,Drama,History'\n",
       "\\item 'Adventure,Comedy,Drama'\n",
       "\\item 'Adventure,Drama'\n",
       "\\item 'Action,Comedy,Fantasy'\n",
       "\\item 'Fantasy,Horror'\n",
       "\\item 'Horror,Mystery'\n",
       "\\item 'Action,Horror,Sci-Fi'\n",
       "\\item 'Animation,Action,Adventure'\n",
       "\\item 'Drama,Horror,Music'\n",
       "\\item 'Adventure,Sci-Fi,Thriller'\n",
       "\\item 'Biography,Drama,Sport'\n",
       "\\item 'Drama,Fantasy'\n",
       "\\item 'Action,Adventure,Horror'\n",
       "\\item 'Adventure,Horror,Thriller'\n",
       "\\item 'Action,Adventure,Fantasy'\n",
       "\\item 'Action,Drama,Thriller'\n",
       "\\item 'Animation,Adventure,Comedy'\n",
       "\\item 'Drama,Romance'\n",
       "\\item 'Adventure,Comedy,Fantasy'\n",
       "\\item 'Animation,Adventure,Drama'\n",
       "\\item 'Comedy,Crime,Thriller'\n",
       "\\item 'Comedy,Drama,Music'\n",
       "\\item 'Drama,Music'\n",
       "\\item 'Drama,Horror,Mystery'\n",
       "\\item 'Adventure,Horror'\n",
       "\\item 'Action,Comedy,War'\n",
       "\\item 'Comedy,Drama'\n",
       "\\item 'Adventure,Drama,Mystery'\n",
       "\\item 'Action,Crime,Sci-Fi'\n",
       "\\item 'Comedy,Romance'\n",
       "\\item 'Drama,Mystery,War'\n",
       "\\item 'Adventure,Comedy,Music'\n",
       "\\item 'Adventure,Biography,Drama'\n",
       "\\item 'Comedy,Drama,Thriller'\n",
       "\\item 'Adventure,Family,Fantasy'\n",
       "\\item 'Comedy,Crime,Mystery'\n",
       "\\item 'Drama,Thriller,War'\n",
       "\\item 'Action,Sci-Fi,Thriller'\n",
       "\\item 'Fantasy,Horror,Mystery'\n",
       "\\item 'Drama,Fantasy,War'\n",
       "\\item 'Sci-Fi,Thriller'\n",
       "\\item 'Drama,Romance,Sci-Fi'\n",
       "\\item 'Drama,History,Thriller'\n",
       "\\item 'Action,Mystery,Thriller'\n",
       "\\item 'Comedy,Drama,Musical'\n",
       "\\end{enumerate*}\n"
      ],
      "text/markdown": [
       "1. 'Crime,Drama,Thriller'\n",
       "2. 'Action,Thriller'\n",
       "3. 'Drama,Western'\n",
       "4. 'Action,Crime,Thriller'\n",
       "5. 'Biography,Comedy,Crime'\n",
       "6. 'Crime,Drama,Mystery'\n",
       "7. 'Horror,Mystery,Thriller'\n",
       "8. 'Crime,Drama'\n",
       "9. 'Biography,Crime,Drama'\n",
       "10. 'Adventure,Drama,War'\n",
       "11. 'Comedy,Crime,Drama'\n",
       "12. 'Horror'\n",
       "13. 'Action,Drama,War'\n",
       "14. 'Action,Biography,Drama'\n",
       "15. 'Drama,Thriller'\n",
       "16. 'Comedy,Drama,Sci-Fi'\n",
       "17. 'Action,Crime,Drama'\n",
       "18. 'Crime,Horror,Thriller'\n",
       "19. 'Comedy,Fantasy'\n",
       "20. 'Comedy'\n",
       "21. 'Comedy,Horror'\n",
       "22. 'Biography,Drama'\n",
       "23. 'Drama,Fantasy,Horror'\n",
       "24. 'Mystery,Thriller'\n",
       "25. 'Comedy,Crime'\n",
       "26. 'Drama'\n",
       "27. 'Drama,War'\n",
       "28. 'Action,Comedy,Crime'\n",
       "29. 'Adventure,Drama,Romance'\n",
       "30. 'Biography,Drama,War'\n",
       "31. 'Crime,Horror,Mystery'\n",
       "32. 'Drama,Music,Romance'\n",
       "33. 'Biography,Comedy,Drama'\n",
       "34. 'Horror,Mystery,Sci-Fi'\n",
       "35. 'Action,Adventure,Sci-Fi'\n",
       "36. 'Drama,Horror'\n",
       "37. 'Drama,Mystery,Sci-Fi'\n",
       "38. 'Crime,Drama,Sci-Fi'\n",
       "39. 'Mystery,Sci-Fi,Thriller'\n",
       "40. 'Crime,Drama,Fantasy'\n",
       "41. 'Action,Drama,History'\n",
       "42. 'Action,Adventure,Comedy'\n",
       "43. 'Horror,Sci-Fi'\n",
       "44. 'Western'\n",
       "45. 'Biography,Drama,Thriller'\n",
       "46. 'Horror,Thriller'\n",
       "47. 'Adventure,Sci-Fi'\n",
       "48. 'Action,Drama,Sci-Fi'\n",
       "49. 'Drama,Sci-Fi,Thriller'\n",
       "50. 'Adventure,Drama,Thriller'\n",
       "51. 'Action,Adventure'\n",
       "52. 'Action,Sci-Fi'\n",
       "53. 'Crime,Mystery,Thriller'\n",
       "54. 'Crime,Thriller'\n",
       "55. 'Action,Crime,Horror'\n",
       "56. 'Horror,Sci-Fi,Thriller'\n",
       "57. 'Action,Adventure,Thriller'\n",
       "58. 'Adventure,Comedy'\n",
       "59. 'Drama,Horror,Sci-Fi'\n",
       "60. 'Action,Adventure,Drama'\n",
       "61. 'Adventure,Comedy,Sci-Fi'\n",
       "62. 'Biography,Drama,Music'\n",
       "63. 'Action,Adventure,Crime'\n",
       "64. 'Comedy,Crime,Sport'\n",
       "65. 'Drama,Horror,Thriller'\n",
       "66. 'Drama,Mystery,Thriller'\n",
       "67. 'Adventure,Drama,Fantasy'\n",
       "68. 'Action,Drama'\n",
       "69. 'Biography,Drama,History'\n",
       "70. 'Documentary,Biography,History'\n",
       "71. 'Crime,Drama,History'\n",
       "72. 'Adventure,Comedy,Drama'\n",
       "73. 'Adventure,Drama'\n",
       "74. 'Action,Comedy,Fantasy'\n",
       "75. 'Fantasy,Horror'\n",
       "76. 'Horror,Mystery'\n",
       "77. 'Action,Horror,Sci-Fi'\n",
       "78. 'Animation,Action,Adventure'\n",
       "79. 'Drama,Horror,Music'\n",
       "80. 'Adventure,Sci-Fi,Thriller'\n",
       "81. 'Biography,Drama,Sport'\n",
       "82. 'Drama,Fantasy'\n",
       "83. 'Action,Adventure,Horror'\n",
       "84. 'Adventure,Horror,Thriller'\n",
       "85. 'Action,Adventure,Fantasy'\n",
       "86. 'Action,Drama,Thriller'\n",
       "87. 'Animation,Adventure,Comedy'\n",
       "88. 'Drama,Romance'\n",
       "89. 'Adventure,Comedy,Fantasy'\n",
       "90. 'Animation,Adventure,Drama'\n",
       "91. 'Comedy,Crime,Thriller'\n",
       "92. 'Comedy,Drama,Music'\n",
       "93. 'Drama,Music'\n",
       "94. 'Drama,Horror,Mystery'\n",
       "95. 'Adventure,Horror'\n",
       "96. 'Action,Comedy,War'\n",
       "97. 'Comedy,Drama'\n",
       "98. 'Adventure,Drama,Mystery'\n",
       "99. 'Action,Crime,Sci-Fi'\n",
       "100. 'Comedy,Romance'\n",
       "101. 'Drama,Mystery,War'\n",
       "102. 'Adventure,Comedy,Music'\n",
       "103. 'Adventure,Biography,Drama'\n",
       "104. 'Comedy,Drama,Thriller'\n",
       "105. 'Adventure,Family,Fantasy'\n",
       "106. 'Comedy,Crime,Mystery'\n",
       "107. 'Drama,Thriller,War'\n",
       "108. 'Action,Sci-Fi,Thriller'\n",
       "109. 'Fantasy,Horror,Mystery'\n",
       "110. 'Drama,Fantasy,War'\n",
       "111. 'Sci-Fi,Thriller'\n",
       "112. 'Drama,Romance,Sci-Fi'\n",
       "113. 'Drama,History,Thriller'\n",
       "114. 'Action,Mystery,Thriller'\n",
       "115. 'Comedy,Drama,Musical'\n",
       "\n",
       "\n"
      ],
      "text/plain": [
       "  [1] \"Crime,Drama,Thriller\"          \"Action,Thriller\"              \n",
       "  [3] \"Drama,Western\"                 \"Action,Crime,Thriller\"        \n",
       "  [5] \"Biography,Comedy,Crime\"        \"Crime,Drama,Mystery\"          \n",
       "  [7] \"Horror,Mystery,Thriller\"       \"Crime,Drama\"                  \n",
       "  [9] \"Biography,Crime,Drama\"         \"Adventure,Drama,War\"          \n",
       " [11] \"Comedy,Crime,Drama\"            \"Horror\"                       \n",
       " [13] \"Action,Drama,War\"              \"Action,Biography,Drama\"       \n",
       " [15] \"Drama,Thriller\"                \"Comedy,Drama,Sci-Fi\"          \n",
       " [17] \"Action,Crime,Drama\"            \"Crime,Horror,Thriller\"        \n",
       " [19] \"Comedy,Fantasy\"                \"Comedy\"                       \n",
       " [21] \"Comedy,Horror\"                 \"Biography,Drama\"              \n",
       " [23] \"Drama,Fantasy,Horror\"          \"Mystery,Thriller\"             \n",
       " [25] \"Comedy,Crime\"                  \"Drama\"                        \n",
       " [27] \"Drama,War\"                     \"Action,Comedy,Crime\"          \n",
       " [29] \"Adventure,Drama,Romance\"       \"Biography,Drama,War\"          \n",
       " [31] \"Crime,Horror,Mystery\"          \"Drama,Music,Romance\"          \n",
       " [33] \"Biography,Comedy,Drama\"        \"Horror,Mystery,Sci-Fi\"        \n",
       " [35] \"Action,Adventure,Sci-Fi\"       \"Drama,Horror\"                 \n",
       " [37] \"Drama,Mystery,Sci-Fi\"          \"Crime,Drama,Sci-Fi\"           \n",
       " [39] \"Mystery,Sci-Fi,Thriller\"       \"Crime,Drama,Fantasy\"          \n",
       " [41] \"Action,Drama,History\"          \"Action,Adventure,Comedy\"      \n",
       " [43] \"Horror,Sci-Fi\"                 \"Western\"                      \n",
       " [45] \"Biography,Drama,Thriller\"      \"Horror,Thriller\"              \n",
       " [47] \"Adventure,Sci-Fi\"              \"Action,Drama,Sci-Fi\"          \n",
       " [49] \"Drama,Sci-Fi,Thriller\"         \"Adventure,Drama,Thriller\"     \n",
       " [51] \"Action,Adventure\"              \"Action,Sci-Fi\"                \n",
       " [53] \"Crime,Mystery,Thriller\"        \"Crime,Thriller\"               \n",
       " [55] \"Action,Crime,Horror\"           \"Horror,Sci-Fi,Thriller\"       \n",
       " [57] \"Action,Adventure,Thriller\"     \"Adventure,Comedy\"             \n",
       " [59] \"Drama,Horror,Sci-Fi\"           \"Action,Adventure,Drama\"       \n",
       " [61] \"Adventure,Comedy,Sci-Fi\"       \"Biography,Drama,Music\"        \n",
       " [63] \"Action,Adventure,Crime\"        \"Comedy,Crime,Sport\"           \n",
       " [65] \"Drama,Horror,Thriller\"         \"Drama,Mystery,Thriller\"       \n",
       " [67] \"Adventure,Drama,Fantasy\"       \"Action,Drama\"                 \n",
       " [69] \"Biography,Drama,History\"       \"Documentary,Biography,History\"\n",
       " [71] \"Crime,Drama,History\"           \"Adventure,Comedy,Drama\"       \n",
       " [73] \"Adventure,Drama\"               \"Action,Comedy,Fantasy\"        \n",
       " [75] \"Fantasy,Horror\"                \"Horror,Mystery\"               \n",
       " [77] \"Action,Horror,Sci-Fi\"          \"Animation,Action,Adventure\"   \n",
       " [79] \"Drama,Horror,Music\"            \"Adventure,Sci-Fi,Thriller\"    \n",
       " [81] \"Biography,Drama,Sport\"         \"Drama,Fantasy\"                \n",
       " [83] \"Action,Adventure,Horror\"       \"Adventure,Horror,Thriller\"    \n",
       " [85] \"Action,Adventure,Fantasy\"      \"Action,Drama,Thriller\"        \n",
       " [87] \"Animation,Adventure,Comedy\"    \"Drama,Romance\"                \n",
       " [89] \"Adventure,Comedy,Fantasy\"      \"Animation,Adventure,Drama\"    \n",
       " [91] \"Comedy,Crime,Thriller\"         \"Comedy,Drama,Music\"           \n",
       " [93] \"Drama,Music\"                   \"Drama,Horror,Mystery\"         \n",
       " [95] \"Adventure,Horror\"              \"Action,Comedy,War\"            \n",
       " [97] \"Comedy,Drama\"                  \"Adventure,Drama,Mystery\"      \n",
       " [99] \"Action,Crime,Sci-Fi\"           \"Comedy,Romance\"               \n",
       "[101] \"Drama,Mystery,War\"             \"Adventure,Comedy,Music\"       \n",
       "[103] \"Adventure,Biography,Drama\"     \"Comedy,Drama,Thriller\"        \n",
       "[105] \"Adventure,Family,Fantasy\"      \"Comedy,Crime,Mystery\"         \n",
       "[107] \"Drama,Thriller,War\"            \"Action,Sci-Fi,Thriller\"       \n",
       "[109] \"Fantasy,Horror,Mystery\"        \"Drama,Fantasy,War\"            \n",
       "[111] \"Sci-Fi,Thriller\"               \"Drama,Romance,Sci-Fi\"         \n",
       "[113] \"Drama,History,Thriller\"        \"Action,Mystery,Thriller\"      \n",
       "[115] \"Comedy,Drama,Musical\"         "
      ]
     },
     "metadata": {},
     "output_type": "display_data"
    }
   ],
   "source": [
    "# Géneros de películas\n",
    "unique(dataset$genre)"
   ]
  },
  {
   "cell_type": "markdown",
   "metadata": {},
   "source": [
    "## Limpieza inicial"
   ]
  },
  {
   "cell_type": "code",
   "execution_count": 9,
   "metadata": {},
   "outputs": [],
   "source": [
    "limpiar <- function(texto){\n",
    "  # Eliminación de páginas web (palabras que empiezan por \"http.\" seguidas \n",
    "  # de cualquier cosa que no sea un espacio)\n",
    "  nuevo_texto <- str_replace_all(texto,\"http\\\\S*\", \"\")\n",
    "  # Eliminación de signos de puntuación\n",
    "  nuevo_texto <- str_replace_all(nuevo_texto,\"[[:punct:]]\", \" \")\n",
    "  # Eliminación de números\n",
    "  nuevo_texto <- str_replace_all(nuevo_texto,\"[[:digit:]]\", \" \")\n",
    "  # Eliminación de espacios en blanco múltiples\n",
    "  nuevo_texto <- str_replace_all(nuevo_texto,\"[\\\\s]+\", \" \")\n",
    "  # Se convierte todo el texto a minúsculas\n",
    "  nuevo_texto <- tolower(nuevo_texto)\n",
    "  # Elimino palabras vacías\n",
    "  nuevo_texto <- removeWords(nuevo_texto, stopwords(\"english\"))\n",
    "  # Steeming\n",
    "  nuevo_texto <- stemDocument(nuevo_texto, language = \"english\")\n",
    "    \n",
    "  return(nuevo_texto)\n",
    "}"
   ]
  },
  {
   "cell_type": "code",
   "execution_count": 10,
   "metadata": {},
   "outputs": [
    {
     "data": {
      "text/html": [
       "<table>\n",
       "<thead><tr><th scope=col>summary</th><th scope=col>summary_clean</th></tr></thead>\n",
       "<tbody>\n",
       "\t<tr><td>    A high school chemistry teacher diagnosed with inoperable lung cancer turns to manufacturing and selling methamphetamine in order to secure his family's future                                                 </td><td>high school chemistri teacher diagnos inoper lung cancer turn manufactur sell methamphetamin order secur famili s futur                                                                                             </td></tr>\n",
       "\t<tr><td>    Chelios faces a Chinese mobster who has stolen his nearly indestructible heart and replaced it with a battery-powered ticker which requires regular jolts of electricity to keep working                        </td><td>chelio face chines mobster stolen near indestruct heart replac batteri power ticker requir regular jolt electr keep work                                                                                            </td></tr>\n",
       "\t<tr><td>    With the help of a German bounty hunter, a freed slave sets out to rescue his wife from a brutal Mississippi plantation owner                                                                                   </td><td>help german bounti hunter freed slave set rescu wife brutal mississippi plantat owner                                                                                                                               </td></tr>\n",
       "\t<tr><td>    Professional assassin Chev Chelios learns his rival has injected him with a poison that will kill him if his heart rate drops                                                                                   </td><td>profession assassin chev chelio learn rival inject poison will kill heart rate drop                                                                                                                                 </td></tr>\n",
       "\t<tr><td>    An ex-hit-man comes out of retirement to track down the gangsters that killed his dog and took everything from him                                                                                              </td><td>ex hit man come retir track gangster kill dog took everyth                                                                                                                                                          </td></tr>\n",
       "\t<tr><td>    After returning to the criminal underworld to repay a debt, John Wick discovers that a large bounty has been put on his life                                                                                    </td><td>return crimin underworld repay debt john wick discov larg bounti put life                                                                                                                                           </td></tr>\n",
       "\t<tr><td>    Loosely based on the true story of two young men, David Packouz and Efraim Diveroli, who won a three hundred million dollar contract from the Pentagon to arm America's allies in Afghanistan                   </td><td>loos base true stori two young men david packouz efraim diveroli won three hundr million dollar contract pentagon arm america s alli afghanistan                                                                    </td></tr>\n",
       "\t<tr><td>    In the dead of a Wyoming winter, a bounty hunter and his prisoner find shelter in a cabin currently inhabited by a collection of nefarious characters                                                           </td><td>dead wyom winter bounti hunter prison find shelter cabin current inhabit collect nefari charact                                                                                                                     </td></tr>\n",
       "\t<tr><td>    An aging porn star agrees to participate in an \"art film\" in order to make a clean break from the business, only to discover that he has been drafted into making a pedophilia and necrophilia themed snuff film</td><td>age porn star agre particip art film order make clean break busi discov draft make pedophilia necrophilia theme snuff film                                                                                          </td></tr>\n",
       "\t<tr><td>    Two detectives, a rookie and a veteran, hunt a serial killer who uses the seven deadly sins as his motives                                                                                                      </td><td>two detect rooki veteran hunt serial killer use seven dead sin motiv                                                                                                                                                </td></tr>\n",
       "</tbody>\n",
       "</table>\n"
      ],
      "text/latex": [
       "\\begin{tabular}{r|ll}\n",
       " summary & summary\\_clean\\\\\n",
       "\\hline\n",
       "\t     A high school chemistry teacher diagnosed with inoperable lung cancer turns to manufacturing and selling methamphetamine in order to secure his family's future                                                  & high school chemistri teacher diagnos inoper lung cancer turn manufactur sell methamphetamin order secur famili s futur                                                                                             \\\\\n",
       "\t     Chelios faces a Chinese mobster who has stolen his nearly indestructible heart and replaced it with a battery-powered ticker which requires regular jolts of electricity to keep working                         & chelio face chines mobster stolen near indestruct heart replac batteri power ticker requir regular jolt electr keep work                                                                                            \\\\\n",
       "\t     With the help of a German bounty hunter, a freed slave sets out to rescue his wife from a brutal Mississippi plantation owner                                                                                    & help german bounti hunter freed slave set rescu wife brutal mississippi plantat owner                                                                                                                               \\\\\n",
       "\t     Professional assassin Chev Chelios learns his rival has injected him with a poison that will kill him if his heart rate drops                                                                                    & profession assassin chev chelio learn rival inject poison will kill heart rate drop                                                                                                                                 \\\\\n",
       "\t     An ex-hit-man comes out of retirement to track down the gangsters that killed his dog and took everything from him                                                                                               & ex hit man come retir track gangster kill dog took everyth                                                                                                                                                          \\\\\n",
       "\t     After returning to the criminal underworld to repay a debt, John Wick discovers that a large bounty has been put on his life                                                                                     & return crimin underworld repay debt john wick discov larg bounti put life                                                                                                                                           \\\\\n",
       "\t     Loosely based on the true story of two young men, David Packouz and Efraim Diveroli, who won a three hundred million dollar contract from the Pentagon to arm America's allies in Afghanistan                    & loos base true stori two young men david packouz efraim diveroli won three hundr million dollar contract pentagon arm america s alli afghanistan                                                                    \\\\\n",
       "\t     In the dead of a Wyoming winter, a bounty hunter and his prisoner find shelter in a cabin currently inhabited by a collection of nefarious characters                                                            & dead wyom winter bounti hunter prison find shelter cabin current inhabit collect nefari charact                                                                                                                     \\\\\n",
       "\t     An aging porn star agrees to participate in an \"art film\" in order to make a clean break from the business, only to discover that he has been drafted into making a pedophilia and necrophilia themed snuff film & age porn star agre particip art film order make clean break busi discov draft make pedophilia necrophilia theme snuff film                                                                                          \\\\\n",
       "\t     Two detectives, a rookie and a veteran, hunt a serial killer who uses the seven deadly sins as his motives                                                                                                       & two detect rooki veteran hunt serial killer use seven dead sin motiv                                                                                                                                                \\\\\n",
       "\\end{tabular}\n"
      ],
      "text/markdown": [
       "\n",
       "| summary | summary_clean |\n",
       "|---|---|\n",
       "|     A high school chemistry teacher diagnosed with inoperable lung cancer turns to manufacturing and selling methamphetamine in order to secure his family's future                                                  | high school chemistri teacher diagnos inoper lung cancer turn manufactur sell methamphetamin order secur famili s futur                                                                                              |\n",
       "|     Chelios faces a Chinese mobster who has stolen his nearly indestructible heart and replaced it with a battery-powered ticker which requires regular jolts of electricity to keep working                         | chelio face chines mobster stolen near indestruct heart replac batteri power ticker requir regular jolt electr keep work                                                                                             |\n",
       "|     With the help of a German bounty hunter, a freed slave sets out to rescue his wife from a brutal Mississippi plantation owner                                                                                    | help german bounti hunter freed slave set rescu wife brutal mississippi plantat owner                                                                                                                                |\n",
       "|     Professional assassin Chev Chelios learns his rival has injected him with a poison that will kill him if his heart rate drops                                                                                    | profession assassin chev chelio learn rival inject poison will kill heart rate drop                                                                                                                                  |\n",
       "|     An ex-hit-man comes out of retirement to track down the gangsters that killed his dog and took everything from him                                                                                               | ex hit man come retir track gangster kill dog took everyth                                                                                                                                                           |\n",
       "|     After returning to the criminal underworld to repay a debt, John Wick discovers that a large bounty has been put on his life                                                                                     | return crimin underworld repay debt john wick discov larg bounti put life                                                                                                                                            |\n",
       "|     Loosely based on the true story of two young men, David Packouz and Efraim Diveroli, who won a three hundred million dollar contract from the Pentagon to arm America's allies in Afghanistan                    | loos base true stori two young men david packouz efraim diveroli won three hundr million dollar contract pentagon arm america s alli afghanistan                                                                     |\n",
       "|     In the dead of a Wyoming winter, a bounty hunter and his prisoner find shelter in a cabin currently inhabited by a collection of nefarious characters                                                            | dead wyom winter bounti hunter prison find shelter cabin current inhabit collect nefari charact                                                                                                                      |\n",
       "|     An aging porn star agrees to participate in an \"art film\" in order to make a clean break from the business, only to discover that he has been drafted into making a pedophilia and necrophilia themed snuff film | age porn star agre particip art film order make clean break busi discov draft make pedophilia necrophilia theme snuff film                                                                                           |\n",
       "|     Two detectives, a rookie and a veteran, hunt a serial killer who uses the seven deadly sins as his motives                                                                                                       | two detect rooki veteran hunt serial killer use seven dead sin motiv                                                                                                                                                 |\n",
       "\n"
      ],
      "text/plain": [
       "   summary                                                                                                                                                                                                             \n",
       "1      A high school chemistry teacher diagnosed with inoperable lung cancer turns to manufacturing and selling methamphetamine in order to secure his family's future                                                 \n",
       "2      Chelios faces a Chinese mobster who has stolen his nearly indestructible heart and replaced it with a battery-powered ticker which requires regular jolts of electricity to keep working                        \n",
       "3      With the help of a German bounty hunter, a freed slave sets out to rescue his wife from a brutal Mississippi plantation owner                                                                                   \n",
       "4      Professional assassin Chev Chelios learns his rival has injected him with a poison that will kill him if his heart rate drops                                                                                   \n",
       "5      An ex-hit-man comes out of retirement to track down the gangsters that killed his dog and took everything from him                                                                                              \n",
       "6      After returning to the criminal underworld to repay a debt, John Wick discovers that a large bounty has been put on his life                                                                                    \n",
       "7      Loosely based on the true story of two young men, David Packouz and Efraim Diveroli, who won a three hundred million dollar contract from the Pentagon to arm America's allies in Afghanistan                   \n",
       "8      In the dead of a Wyoming winter, a bounty hunter and his prisoner find shelter in a cabin currently inhabited by a collection of nefarious characters                                                           \n",
       "9      An aging porn star agrees to participate in an \"art film\" in order to make a clean break from the business, only to discover that he has been drafted into making a pedophilia and necrophilia themed snuff film\n",
       "10     Two detectives, a rookie and a veteran, hunt a serial killer who uses the seven deadly sins as his motives                                                                                                      \n",
       "   summary_clean                                                                                                                                   \n",
       "1  high school chemistri teacher diagnos inoper lung cancer turn manufactur sell methamphetamin order secur famili s futur                         \n",
       "2  chelio face chines mobster stolen near indestruct heart replac batteri power ticker requir regular jolt electr keep work                        \n",
       "3  help german bounti hunter freed slave set rescu wife brutal mississippi plantat owner                                                           \n",
       "4  profession assassin chev chelio learn rival inject poison will kill heart rate drop                                                             \n",
       "5  ex hit man come retir track gangster kill dog took everyth                                                                                      \n",
       "6  return crimin underworld repay debt john wick discov larg bounti put life                                                                       \n",
       "7  loos base true stori two young men david packouz efraim diveroli won three hundr million dollar contract pentagon arm america s alli afghanistan\n",
       "8  dead wyom winter bounti hunter prison find shelter cabin current inhabit collect nefari charact                                                 \n",
       "9  age porn star agre particip art film order make clean break busi discov draft make pedophilia necrophilia theme snuff film                      \n",
       "10 two detect rooki veteran hunt serial killer use seven dead sin motiv                                                                            "
      ]
     },
     "metadata": {},
     "output_type": "display_data"
    }
   ],
   "source": [
    "# Aplico función de limpieza\n",
    "dataset <- dataset %>% \n",
    "    mutate(summary_clean = map(.x = summary, .f = limpiar))\n",
    "\n",
    "head(dataset[, c(\"summary\", \"summary_clean\")], 10)"
   ]
  },
  {
   "cell_type": "markdown",
   "metadata": {},
   "source": [
    "## Corpus"
   ]
  },
  {
   "cell_type": "code",
   "execution_count": 11,
   "metadata": {},
   "outputs": [],
   "source": [
    "# Armo el corpus\n",
    "corpus <- Corpus(VectorSource(dataset$summary_clean)) \n",
    "\n",
    "# Guardo información para mostar en los clusters\n",
    "labels <- dataset$title\n",
    "genres <- dataset$genre"
   ]
  },
  {
   "cell_type": "markdown",
   "metadata": {},
   "source": [
    "## Matriz DTM"
   ]
  },
  {
   "cell_type": "code",
   "execution_count": 12,
   "metadata": {},
   "outputs": [],
   "source": [
    "tdm       <- DocumentTermMatrix(corpus) \n",
    "tdm_tfidf <- weightTfIdf(tdm)"
   ]
  },
  {
   "cell_type": "code",
   "execution_count": 13,
   "metadata": {},
   "outputs": [
    {
     "data": {
      "text/plain": [
       "<<DocumentTermMatrix (documents: 300, terms: 2125)>>\n",
       "Non-/sparse entries: 4546/632954\n",
       "Sparsity           : 99%\n",
       "Maximal term length: 14\n",
       "Weighting          : term frequency - inverse document frequency (normalized) (tf-idf)"
      ]
     },
     "metadata": {},
     "output_type": "display_data"
    }
   ],
   "source": [
    "tdm_tfidf"
   ]
  },
  {
   "cell_type": "code",
   "execution_count": 14,
   "metadata": {},
   "outputs": [
    {
     "data": {
      "text/plain": [
       "<<DocumentTermMatrix (documents: 300, terms: 272)>>\n",
       "Non-/sparse entries: 2026/79574\n",
       "Sparsity           : 98%\n",
       "Maximal term length: 12\n",
       "Weighting          : term frequency - inverse document frequency (normalized) (tf-idf)"
      ]
     },
     "metadata": {},
     "output_type": "display_data"
    }
   ],
   "source": [
    "# Se prueban diferentes valores para eliminar términos dispersos\n",
    "removeSparseTerms(tdm_tfidf, 0.99) "
   ]
  },
  {
   "cell_type": "code",
   "execution_count": 15,
   "metadata": {},
   "outputs": [],
   "source": [
    "tdm_tfidf <- removeSparseTerms(tdm_tfidf, 0.99) "
   ]
  },
  {
   "cell_type": "code",
   "execution_count": 16,
   "metadata": {},
   "outputs": [],
   "source": [
    "# Dada la cantidad de términos se decide trabajar con la cantidad obtenida (no se remueven términos dispersos)\n",
    "tfidf_matrix <- as.matrix(tdm_tfidf) "
   ]
  },
  {
   "cell_type": "code",
   "execution_count": 17,
   "metadata": {},
   "outputs": [
    {
     "data": {
      "text/html": [
       "<ol class=list-inline>\n",
       "\t<li>300</li>\n",
       "\t<li>272</li>\n",
       "</ol>\n"
      ],
      "text/latex": [
       "\\begin{enumerate*}\n",
       "\\item 300\n",
       "\\item 272\n",
       "\\end{enumerate*}\n"
      ],
      "text/markdown": [
       "1. 300\n",
       "2. 272\n",
       "\n",
       "\n"
      ],
      "text/plain": [
       "[1] 300 272"
      ]
     },
     "metadata": {},
     "output_type": "display_data"
    }
   ],
   "source": [
    "dim(tfidf_matrix)"
   ]
  },
  {
   "cell_type": "markdown",
   "metadata": {},
   "source": [
    "## Clustering"
   ]
  },
  {
   "cell_type": "code",
   "execution_count": 18,
   "metadata": {},
   "outputs": [],
   "source": [
    "# Matriz de distancia (método coseno)\n",
    "dist_matrix = dist(tfidf_matrix, method = \"cosine\") "
   ]
  },
  {
   "cell_type": "markdown",
   "metadata": {},
   "source": [
    "### Clúster Jerárquico"
   ]
  },
  {
   "cell_type": "code",
   "execution_count": 19,
   "metadata": {},
   "outputs": [
    {
     "data": {
      "image/png": "[encoded data removed]",
      "text/plain": [
       "Plot with title \"Cluster Dendrogram\""
      ]
     },
     "metadata": {},
     "output_type": "display_data"
    }
   ],
   "source": [
    "# Se crea el dendograma\n",
    "hc <- hclust(dist_matrix, method = \"ward.D2\")\n",
    "plot(hc, labels = labels, sub = \"\", cex = 0.2)"
   ]
  },
  {
   "cell_type": "code",
   "execution_count": 20,
   "metadata": {},
   "outputs": [
    {
     "data": {
      "image/png": "[encoded data removed]",
      "text/plain": [
       "plot without title"
      ]
     },
     "metadata": {},
     "output_type": "display_data"
    }
   ],
   "source": [
    "# Se prueba dividir el dendograma en 7 grupos\n",
    "par(mar=c(1,1,1,1))\n",
    "as.dendrogram(hc) %>% \n",
    "  set(\"labels_cex\", 0.1) %>%\n",
    "  set(\"labels_col\", k=7) %>%\n",
    "  set(\"branches_k_color\", k=7) %>%\n",
    "  plot(horiz=TRUE, axes=FALSE)"
   ]
  },
  {
   "cell_type": "markdown",
   "metadata": {},
   "source": [
    "Para poder visualizar mejor los grupos se establece un punto de corte en la altura del dendograma y se elige un sub-árbol."
   ]
  },
  {
   "cell_type": "code",
   "execution_count": 21,
   "metadata": {},
   "outputs": [
    {
     "data": {
      "image/png": "[encoded data removed]",
      "text/plain": [
       "plot without title"
      ]
     },
     "metadata": {},
     "output_type": "display_data"
    }
   ],
   "source": [
    "# Sub-árbol\n",
    "dend   <- cut(as.dendrogram(hc), h=1.9)\n",
    "leaves <- dend$lower[[3]]\n",
    "\n",
    "# Gráfico con títulos de películas (se eligen 7 grupos)\n",
    "par(mar=c(1,1,1,10))\n",
    "leaves %>% \n",
    "  set(\"labels_cex\", 0.5) %>%\n",
    "  set(\"labels_col\", k=7) %>%\n",
    "  set(\"branches_k_color\", k=7) %>%\n",
    "  set_labels(labels[order.dendrogram(leaves)]) %>%\n",
    "  plot(horiz=TRUE, axes=FALSE)"
   ]
  },
  {
   "cell_type": "markdown",
   "metadata": {},
   "source": [
    "Dividiendo el sub-árbol en 7 sectores se observan grupos razonables, pero también algunas inconsistencias, por ejemplo, la película \"Zoolander\" se encuentra en el mismo grupo que \"Duro de matar\". Ahora se gráfica el mismo sub-árbol pero con los géneros correspondientes."
   ]
  },
  {
   "cell_type": "code",
   "execution_count": 22,
   "metadata": {},
   "outputs": [
    {
     "data": {
      "image/png": "[encoded data removed]",
      "text/plain": [
       "plot without title"
      ]
     },
     "metadata": {},
     "output_type": "display_data"
    }
   ],
   "source": [
    "# Sub-árbol\n",
    "dend   <- cut(as.dendrogram(hc), h=1.9)\n",
    "leaves <- dend$lower[[3]]\n",
    "\n",
    "# Gráfico con géneros de películas (se eligen 7 grupos)\n",
    "par(mar=c(1,1,1,10))\n",
    "leaves %>% \n",
    "  set(\"labels_cex\", 0.5) %>%\n",
    "  set(\"labels_col\", k=7) %>%\n",
    "  set(\"branches_k_color\", k=7) %>%\n",
    "  set_labels(genres[order.dendrogram(leaves)]) %>%\n",
    "  plot(horiz=TRUE, axes=FALSE)"
   ]
  },
  {
   "cell_type": "markdown",
   "metadata": {},
   "source": [
    "Desde el punto de vista de los géneros de películas el resultado también parece coherente aunque películas etiquetadas como biográficas fueron asignadas en distintos grupos."
   ]
  },
  {
   "cell_type": "markdown",
   "metadata": {},
   "source": [
    "## Kmeans\n",
    "Para visualizar el rendimiento del algoritmo kmeans se proyecta la matriz tf-idf en 2 dimensiones con el méotodo t-SNE."
   ]
  },
  {
   "cell_type": "markdown",
   "metadata": {},
   "source": [
    "### Proyección en el plano (t-SNE)"
   ]
  },
  {
   "cell_type": "code",
   "execution_count": 23,
   "metadata": {},
   "outputs": [],
   "source": [
    "# Reducción de la dimensión (método t-SNE)\n",
    "tsne <- Rtsne(X = tfidf_matrix, is_distance = FALSE, dims = 2, perplexity = 30, theta = 0.5, max_iter = 500)\n",
    "\n",
    "# Guardo proyecciones en 2D\n",
    "dt_2D_tsne = as.data.frame(tsne$Y)"
   ]
  },
  {
   "cell_type": "markdown",
   "metadata": {},
   "source": [
    "### Algoritmo"
   ]
  },
  {
   "cell_type": "code",
   "execution_count": 24,
   "metadata": {},
   "outputs": [
    {
     "name": "stdout",
     "output_type": "stream",
     "text": [
      "List of 9\n",
      " $ cluster     : Named int [1:300] 4 4 6 4 4 6 5 6 4 3 ...\n",
      "  ..- attr(*, \"names\")= chr [1:300] \"1\" \"2\" \"3\" \"4\" ...\n",
      " $ centers     : num [1:8, 1:272] -0.2372 0.2104 0.0856 -0.0946 -0.2372 ...\n",
      "  ..- attr(*, \"dimnames\")=List of 2\n",
      "  .. ..$ : chr [1:8] \"1\" \"2\" \"3\" \"4\" ...\n",
      "  .. ..$ : chr [1:272] \"famili\" \"futur\" \"high\" \"order\" ...\n",
      " $ totss       : num 81328\n",
      " $ withinss    : num [1:8] 3707 3058 9066 50630 3243 ...\n",
      " $ tot.withinss: num 76245\n",
      " $ betweenss   : num 5083\n",
      " $ size        : int [1:8] 13 8 34 210 11 10 7 7\n",
      " $ iter        : int 5\n",
      " $ ifault      : int 0\n",
      " - attr(*, \"class\")= chr \"kmeans\"\n"
     ]
    }
   ],
   "source": [
    "# Kmeans\n",
    "km <- kmeans(scale(tfidf_matrix), centers = 8, nstart = 25)\n",
    "str(km)"
   ]
  },
  {
   "cell_type": "code",
   "execution_count": 25,
   "metadata": {},
   "outputs": [],
   "source": [
    "# Agrego características al dataset\n",
    "dt_2D_tsne$cl_kmeans <- factor(km$cluster)\n",
    "dt_2D_tsne$labels    <- labels\n",
    "dt_2D_tsne$genres    <- genres"
   ]
  },
  {
   "cell_type": "code",
   "execution_count": 26,
   "metadata": {},
   "outputs": [],
   "source": [
    "# Tomo una muestra de 50 películas\n",
    "set.seed(123)\n",
    "sample <- dt_2D_tsne[sample(1:300, 50),]"
   ]
  },
  {
   "cell_type": "code",
   "execution_count": 27,
   "metadata": {},
   "outputs": [
    {
     "data": {
      "image/png": "[encoded data removed]",
      "text/plain": [
       "plot without title"
      ]
     },
     "metadata": {},
     "output_type": "display_data"
    }
   ],
   "source": [
    "# Gráfico 2D con títulos de películas\n",
    "ggplot(sample, aes_string(x=\"V1\", y=\"V2\", color=sample$cl_kmeans)) +\n",
    "geom_point(size=0.25) +\n",
    "geom_text(aes(label=sample$labels), size = 3, hjust=0, vjust=0) +\n",
    "guides(colour=guide_legend(override.aes=list(size=8))) +\n",
    "xlab(\"\") + \n",
    "ylab(\"\") +\n",
    "ggtitle(\"\") +\n",
    "theme_light(base_size=10) +\n",
    "theme(axis.text.x=element_blank(),\n",
    "      axis.text.y=element_blank(),\n",
    "      legend.direction = \"horizontal\", \n",
    "      legend.position = \"bottom\",\n",
    "      legend.box = \"horizontal\") + \n",
    "scale_colour_brewer(palette = \"Accent\") "
   ]
  },
  {
   "cell_type": "code",
   "execution_count": 28,
   "metadata": {},
   "outputs": [
    {
     "data": {
      "image/png": "[encoded data removed]",
      "text/plain": [
       "plot without title"
      ]
     },
     "metadata": {},
     "output_type": "display_data"
    }
   ],
   "source": [
    "# Gráfico 2D con géneros de películas\n",
    "ggplot(sample, aes_string(x=\"V1\", y=\"V2\", color=sample$cl_kmeans)) +\n",
    "geom_point(size=0.25) +\n",
    "geom_text(aes(label=sample$genres), size = 3, hjust=0, vjust=0) +\n",
    "guides(colour=guide_legend(override.aes=list(size=8))) +\n",
    "xlab(\"\") + \n",
    "ylab(\"\") +\n",
    "ggtitle(\"\") +\n",
    "theme_light(base_size=10) +\n",
    "theme(axis.text.x=element_blank(),\n",
    "      axis.text.y=element_blank(),\n",
    "      legend.direction = \"horizontal\", \n",
    "      legend.position = \"bottom\",\n",
    "      legend.box = \"horizontal\") + \n",
    "scale_colour_brewer(palette = \"Accent\") "
   ]
  },
  {
   "cell_type": "markdown",
   "metadata": {},
   "source": [
    "En este caso es más difícil ver la relación entre los grupos de pelícluas en comparación con los gráficos de los clústeres jerárquicos. Es posible que la representación en el plano no sea buena. Se prueba representar los grupos en un gráfico 3D."
   ]
  },
  {
   "cell_type": "code",
   "execution_count": 29,
   "metadata": {},
   "outputs": [],
   "source": [
    "# Reducción de dimensiones (método t-SNE)\n",
    "tsne_3d <- Rtsne(X = tfidf_matrix, is_distance = FALSE, dims = 3, perplexity = 20,  theta = 0.5, max_iter = 500)\n",
    "\n",
    "# Guardo proyecciones en 3D\n",
    "dt_3D_tsne <-  as.data.frame(tsne_3d$Y)\n",
    "colnames(dt_3D_tsne) <- c(\"dim_1\", \"dim_2\", \"dim_3\")\n",
    "\n",
    "dt_3D_tsne$cl_kmeans <- factor(km$cluster)\n",
    "dt_3D_tsne$labels    <- labels\n",
    "dt_3D_tsne$genres    <- genres"
   ]
  },
  {
   "cell_type": "code",
   "execution_count": 30,
   "metadata": {},
   "outputs": [],
   "source": [
    "# Tomo una muestra de 50 películas\n",
    "set.seed(123)\n",
    "sample_3d <- dt_3D_tsne[sample(1:300, 30),]"
   ]
  },
  {
   "cell_type": "code",
   "execution_count": 31,
   "metadata": {
    "scrolled": false
   },
   "outputs": [
    {
     "name": "stderr",
     "output_type": "stream",
     "text": [
      "Warning message in data.matrix(x):\n",
      "\"NAs introducidos por coerción\"Warning message in data.matrix(x):\n",
      "\"NAs introducidos por coerción\""
     ]
    },
    {
     "data": {
      "image/png": "[encoded data removed]",
      "text/plain": [
       "plot without title"
      ]
     },
     "metadata": {},
     "output_type": "display_data"
    }
   ],
   "source": [
    "# Gráfico 3D con géneros de películas\n",
    "\n",
    "colores <- brewer.pal(n = 8, name = \"Paired\")\n",
    "colores <- colores[as.numeric(sample_3d$cl_kmeans)]\n",
    "\n",
    "s3d <- scatterplot3d(sample_3d,\n",
    "              pch = 10, color = colores, cex.lab = 0.7,\n",
    "              grid = TRUE, box = FALSE)\n",
    "\n",
    "text(s3d$xyz.convert(sample_3d[,1:3]), \n",
    "     labels = sample_3d$genres, cex= 0.7,  col = colores)\n",
    "\n",
    "legend(\"bottom\", legend = levels(sample_3d$cl_kmeans),\n",
    "      col = colores, pch = 5,\n",
    "      inset = -0.15, xpd = TRUE, horiz = TRUE)"
   ]
  },
  {
   "cell_type": "markdown",
   "metadata": {},
   "source": [
    "Tampoco es fácil distinguir los grupos en un gráfico 3D pero se pueden apreciar algunas relaciones que tienen cierta coherencia."
   ]
  },
  {
   "cell_type": "markdown",
   "metadata": {},
   "source": [
    "## Dbscan\n",
    "Del mismo modo en que se trabajó con kmeans ahora se prueba con el algoritmo Dbscan, en este caso, utilizando la matriz de distancia como entrada."
   ]
  },
  {
   "cell_type": "markdown",
   "metadata": {},
   "source": [
    "### Proyección en el plano (t-SNE)"
   ]
  },
  {
   "cell_type": "code",
   "execution_count": 32,
   "metadata": {},
   "outputs": [],
   "source": [
    "# Reducción de la dimensión (método t-SNE)\n",
    "tsne_db <- Rtsne(X = dist_matrix, is_distance = TRUE, dims = 2, perplexity = 30,\n",
    "              theta = 0.5, max_iter = 500)\n",
    "\n",
    "# Guardo proyecciones en 2D\n",
    "dt_2D_tsne_db = as.data.frame(tsne_db$Y)"
   ]
  },
  {
   "cell_type": "markdown",
   "metadata": {},
   "source": [
    "### Algoritmo"
   ]
  },
  {
   "cell_type": "code",
   "execution_count": 33,
   "metadata": {
    "scrolled": false
   },
   "outputs": [],
   "source": [
    "# Kmeans\n",
    "db <- hdbscan(dist_matrix, minPts = 5) "
   ]
  },
  {
   "cell_type": "code",
   "execution_count": 34,
   "metadata": {},
   "outputs": [],
   "source": [
    "# Agrego características al dataset\n",
    "dt_2D_tsne_db$cl_dbscan <- factor(db$cluster)\n",
    "dt_2D_tsne_db$labels    <- labels\n",
    "dt_2D_tsne_db$genres    <- genres"
   ]
  },
  {
   "cell_type": "code",
   "execution_count": 35,
   "metadata": {},
   "outputs": [],
   "source": [
    "# Tomo una muestra de 50 películas\n",
    "set.seed(123)\n",
    "sample_db <- dt_2D_tsne_db[sample(1:300, 100),]"
   ]
  },
  {
   "cell_type": "code",
   "execution_count": 36,
   "metadata": {},
   "outputs": [
    {
     "data": {
      "text/plain": [
       "\n",
       " 0  1  2  3  4 \n",
       "86  4  3  3  4 "
      ]
     },
     "metadata": {},
     "output_type": "display_data"
    }
   ],
   "source": [
    "# Cantidad de individuos en cada grupo\n",
    "table(sample_db$cl_dbscan)"
   ]
  },
  {
   "cell_type": "code",
   "execution_count": 37,
   "metadata": {},
   "outputs": [
    {
     "data": {
      "image/png": "[encoded data removed]",
      "text/plain": [
       "plot without title"
      ]
     },
     "metadata": {},
     "output_type": "display_data"
    }
   ],
   "source": [
    "# Gráfico 2D con títulos de películas\n",
    "ggplot(sample_db, aes_string(x=\"V1\", y=\"V2\", color=sample_db$cl_dbscan)) +\n",
    "geom_point(size=0.25) +\n",
    "geom_text(aes(label=sample_db$labels), size = 3, hjust=0, vjust=0) +\n",
    "guides(colour=guide_legend(override.aes=list(size=11))) +\n",
    "xlab(\"\") + \n",
    "ylab(\"\") +\n",
    "ggtitle(\"\") +\n",
    "theme_light(base_size=10) +\n",
    "theme(axis.text.x=element_blank(),\n",
    "      axis.text.y=element_blank(),\n",
    "      legend.direction = \"horizontal\", \n",
    "      legend.position = \"bottom\",\n",
    "      legend.box = \"horizontal\") + \n",
    "scale_colour_brewer(palette = \"Accent\") "
   ]
  },
  {
   "cell_type": "code",
   "execution_count": 38,
   "metadata": {},
   "outputs": [
    {
     "data": {
      "image/png": "[encoded data removed]",
      "text/plain": [
       "plot without title"
      ]
     },
     "metadata": {},
     "output_type": "display_data"
    }
   ],
   "source": [
    "# Gráfico 2D con títulos de géneros\n",
    "ggplot(sample_db, aes_string(x=\"V1\", y=\"V2\", color=sample_db$cl_dbscan)) +\n",
    "geom_point(size=0.25) +\n",
    "geom_text(aes(label=sample_db$genre), size = 3, hjust=0, vjust=0) +\n",
    "guides(colour=guide_legend(override.aes=list(size=11))) +\n",
    "xlab(\"\") + \n",
    "ylab(\"\") +\n",
    "ggtitle(\"\") +\n",
    "theme_light(base_size=10) +\n",
    "theme(axis.text.x=element_blank(),\n",
    "      axis.text.y=element_blank(),\n",
    "      legend.direction = \"horizontal\", \n",
    "      legend.position = \"bottom\",\n",
    "      legend.box = \"horizontal\") + \n",
    "scale_colour_brewer(palette = \"Accent\") "
   ]
  },
  {
   "cell_type": "markdown",
   "metadata": {},
   "source": [
    "\n",
    "####  Como conclusión se puede decir que para los datos analizados el agrupamiento jerárquico fue más eficaz en cuanto a la interpretación gráfica de los resultados, no obstante, no significa que los otros algoritmos sean peores en términos de clasificación, sino que tal vez la representación de los clústers en un esquema de 2 o 3 dimensiones no es la indicada."
   ]
  }
 ],
 "metadata": {
  "kernelspec": {
   "display_name": "Python 3",
   "language": "python",
   "name": "python3"
  },
  "language_info": {
   "codemirror_mode": {
    "name": "ipython",
    "version": 3
   },
   "file_extension": ".py",
   "mimetype": "text/x-python",
   "name": "python",
   "nbconvert_exporter": "python",
   "pygments_lexer": "ipython3",
   "version": "3.8.3"
  }
 },
 "nbformat": 4,
 "nbformat_minor": 2
}
