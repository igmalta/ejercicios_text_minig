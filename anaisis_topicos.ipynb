{
 "cells": [
  {
   "cell_type": "markdown",
   "metadata": {},
   "source": [
    "## Ejercicio Nro. 9 - Tópicos de series"
   ]
  },
  {
   "cell_type": "markdown",
   "metadata": {},
   "source": [
    "## Librerías"
   ]
  },
  {
   "cell_type": "code",
   "execution_count": 36,
   "metadata": {
    "scrolled": true
   },
   "outputs": [],
   "source": [
    "# Instalación\n",
    "packages <- c(\"data.table\", \"dplyr\", \"textclean\", \"purrr\", \"stringr\", \"tm\", \"textstem\", \"tidytext\", \"topicmodels\", \n",
    "              \"ggplot2\", \"scales\", \"tidyr\", \"wordcloud\")\n",
    "if (length(setdiff(packages, rownames(installed.packages()))) > 0) {\n",
    "  install.packages(setdiff(packages, rownames(installed.packages())))  \n",
    "}\n",
    "\n",
    "\n",
    "library(\"data.table\")\n",
    "library(\"dplyr\")\n",
    "library(\"textclean\")\n",
    "library(\"purrr\")\n",
    "library(\"stringr\")\n",
    "library(\"tm\")\n",
    "library(\"textstem\")\n",
    "library(\"tidytext\")\n",
    "library(\"topicmodels\")\n",
    "library(\"ggplot2\")\n",
    "library(\"scales\")\n",
    "library(\"tidyr\")\n",
    "library(\"wordcloud\")"
   ]
  },
  {
   "cell_type": "markdown",
   "metadata": {},
   "source": [
    "## Cargo datos"
   ]
  },
  {
   "cell_type": "code",
   "execution_count": 2,
   "metadata": {},
   "outputs": [],
   "source": [
    "setwd(\"C:/Users/ig/Desktop/txm/tps/tp9\")\n",
    "game_of_thrones <- fread(\"Game_of_Thrones_Script.csv\")\n",
    "the_simpsons    <- fread(\"simpsons_dataset.csv\")"
   ]
  },
  {
   "cell_type": "code",
   "execution_count": 3,
   "metadata": {},
   "outputs": [
    {
     "data": {
      "text/html": [
       "<table>\n",
       "<thead><tr><th scope=col>Release Date</th><th scope=col>Season</th><th scope=col>Episode</th><th scope=col>Episode Title</th><th scope=col>Name</th><th scope=col>Sentence</th></tr></thead>\n",
       "<tbody>\n",
       "\t<tr><td>2011-04-17                                                                                                                               </td><td>Season 1                                                                                                                                 </td><td>Episode 1                                                                                                                                </td><td>Winter is Coming                                                                                                                         </td><td>waymar royce                                                                                                                             </td><td>What do you expect? They're savages. One lot steals a goat from another lot and before you know it, they're ripping each other to pieces.</td></tr>\n",
       "\t<tr><td>2011-04-17                                                                                                                               </td><td>Season 1                                                                                                                                 </td><td>Episode 1                                                                                                                                </td><td>Winter is Coming                                                                                                                         </td><td>will                                                                                                                                     </td><td>I've never seen wildlings do a thing like this. I've never seen a thing like this, not ever in my life.                                  </td></tr>\n",
       "\t<tr><td>2011-04-17                                                                                                                               </td><td>Season 1                                                                                                                                 </td><td>Episode 1                                                                                                                                </td><td>Winter is Coming                                                                                                                         </td><td>waymar royce                                                                                                                             </td><td>How close did you get?                                                                                                                   </td></tr>\n",
       "\t<tr><td>2011-04-17                                                                                                                               </td><td>Season 1                                                                                                                                 </td><td>Episode 1                                                                                                                                </td><td>Winter is Coming                                                                                                                         </td><td>will                                                                                                                                     </td><td>Close as any man would.                                                                                                                  </td></tr>\n",
       "\t<tr><td>2011-04-17                                                                                                                               </td><td>Season 1                                                                                                                                 </td><td>Episode 1                                                                                                                                </td><td>Winter is Coming                                                                                                                         </td><td>gared                                                                                                                                    </td><td>We should head back to the wall.                                                                                                         </td></tr>\n",
       "\t<tr><td>2011-04-17                                                                                                                               </td><td>Season 1                                                                                                                                 </td><td>Episode 1                                                                                                                                </td><td>Winter is Coming                                                                                                                         </td><td>royce                                                                                                                                    </td><td>Do the dead frighten you?                                                                                                                </td></tr>\n",
       "</tbody>\n",
       "</table>\n"
      ],
      "text/latex": [
       "\\begin{tabular}{r|llllll}\n",
       " Release Date & Season & Episode & Episode Title & Name & Sentence\\\\\n",
       "\\hline\n",
       "\t 2011-04-17                                                                                                                                & Season 1                                                                                                                                  & Episode 1                                                                                                                                 & Winter is Coming                                                                                                                          & waymar royce                                                                                                                              & What do you expect? They're savages. One lot steals a goat from another lot and before you know it, they're ripping each other to pieces.\\\\\n",
       "\t 2011-04-17                                                                                                                                & Season 1                                                                                                                                  & Episode 1                                                                                                                                 & Winter is Coming                                                                                                                          & will                                                                                                                                      & I've never seen wildlings do a thing like this. I've never seen a thing like this, not ever in my life.                                  \\\\\n",
       "\t 2011-04-17                                                                                                                                & Season 1                                                                                                                                  & Episode 1                                                                                                                                 & Winter is Coming                                                                                                                          & waymar royce                                                                                                                              & How close did you get?                                                                                                                   \\\\\n",
       "\t 2011-04-17                                                                                                                                & Season 1                                                                                                                                  & Episode 1                                                                                                                                 & Winter is Coming                                                                                                                          & will                                                                                                                                      & Close as any man would.                                                                                                                  \\\\\n",
       "\t 2011-04-17                                                                                                                                & Season 1                                                                                                                                  & Episode 1                                                                                                                                 & Winter is Coming                                                                                                                          & gared                                                                                                                                     & We should head back to the wall.                                                                                                         \\\\\n",
       "\t 2011-04-17                                                                                                                                & Season 1                                                                                                                                  & Episode 1                                                                                                                                 & Winter is Coming                                                                                                                          & royce                                                                                                                                     & Do the dead frighten you?                                                                                                                \\\\\n",
       "\\end{tabular}\n"
      ],
      "text/markdown": [
       "\n",
       "| Release Date | Season | Episode | Episode Title | Name | Sentence |\n",
       "|---|---|---|---|---|---|\n",
       "| 2011-04-17                                                                                                                                | Season 1                                                                                                                                  | Episode 1                                                                                                                                 | Winter is Coming                                                                                                                          | waymar royce                                                                                                                              | What do you expect? They're savages. One lot steals a goat from another lot and before you know it, they're ripping each other to pieces. |\n",
       "| 2011-04-17                                                                                                                                | Season 1                                                                                                                                  | Episode 1                                                                                                                                 | Winter is Coming                                                                                                                          | will                                                                                                                                      | I've never seen wildlings do a thing like this. I've never seen a thing like this, not ever in my life.                                   |\n",
       "| 2011-04-17                                                                                                                                | Season 1                                                                                                                                  | Episode 1                                                                                                                                 | Winter is Coming                                                                                                                          | waymar royce                                                                                                                              | How close did you get?                                                                                                                    |\n",
       "| 2011-04-17                                                                                                                                | Season 1                                                                                                                                  | Episode 1                                                                                                                                 | Winter is Coming                                                                                                                          | will                                                                                                                                      | Close as any man would.                                                                                                                   |\n",
       "| 2011-04-17                                                                                                                                | Season 1                                                                                                                                  | Episode 1                                                                                                                                 | Winter is Coming                                                                                                                          | gared                                                                                                                                     | We should head back to the wall.                                                                                                          |\n",
       "| 2011-04-17                                                                                                                                | Season 1                                                                                                                                  | Episode 1                                                                                                                                 | Winter is Coming                                                                                                                          | royce                                                                                                                                     | Do the dead frighten you?                                                                                                                 |\n",
       "\n"
      ],
      "text/plain": [
       "  Release Date Season   Episode   Episode Title    Name        \n",
       "1 2011-04-17   Season 1 Episode 1 Winter is Coming waymar royce\n",
       "2 2011-04-17   Season 1 Episode 1 Winter is Coming will        \n",
       "3 2011-04-17   Season 1 Episode 1 Winter is Coming waymar royce\n",
       "4 2011-04-17   Season 1 Episode 1 Winter is Coming will        \n",
       "5 2011-04-17   Season 1 Episode 1 Winter is Coming gared       \n",
       "6 2011-04-17   Season 1 Episode 1 Winter is Coming royce       \n",
       "  Sentence                                                                                                                                 \n",
       "1 What do you expect? They're savages. One lot steals a goat from another lot and before you know it, they're ripping each other to pieces.\n",
       "2 I've never seen wildlings do a thing like this. I've never seen a thing like this, not ever in my life.                                  \n",
       "3 How close did you get?                                                                                                                   \n",
       "4 Close as any man would.                                                                                                                  \n",
       "5 We should head back to the wall.                                                                                                         \n",
       "6 Do the dead frighten you?                                                                                                                "
      ]
     },
     "metadata": {},
     "output_type": "display_data"
    }
   ],
   "source": [
    "head(game_of_thrones)"
   ]
  },
  {
   "cell_type": "code",
   "execution_count": 4,
   "metadata": {},
   "outputs": [
    {
     "data": {
      "text/html": [
       "<table>\n",
       "<thead><tr><th scope=col>raw_character_text</th><th scope=col>spoken_words</th></tr></thead>\n",
       "<tbody>\n",
       "\t<tr><td>Miss Hoover                                                                                                                                                              </td><td>No, actually, it was a little of both. Sometimes when a disease is in all the magazines and all the news shows, it's only natural that you think you have it.            </td></tr>\n",
       "\t<tr><td>Lisa Simpson                                                                                                                                                             </td><td>Where's Mr. Bergstrom?                                                                                                                                                   </td></tr>\n",
       "\t<tr><td>Miss Hoover                                                                                                                                                              </td><td>I don't know. Although I'd sure like to talk to him. He didn't touch my lesson plan. What did he teach you?                                                              </td></tr>\n",
       "\t<tr><td>Lisa Simpson                                                                                                                                                             </td><td>That life is worth living.                                                                                                                                               </td></tr>\n",
       "\t<tr><td>Edna Krabappel-Flanders                                                                                                                                                  </td><td>The polls will be open from now until the end of recess. Now, just in case any of you have decided to put any thought into this, we'll have our final statements. Martin?</td></tr>\n",
       "\t<tr><td>Martin Prince                                                                                                                                                            </td><td>I don't think there's anything left to say.                                                                                                                              </td></tr>\n",
       "</tbody>\n",
       "</table>\n"
      ],
      "text/latex": [
       "\\begin{tabular}{r|ll}\n",
       " raw\\_character\\_text & spoken\\_words\\\\\n",
       "\\hline\n",
       "\t Miss Hoover                                                                                                                                                               & No, actually, it was a little of both. Sometimes when a disease is in all the magazines and all the news shows, it's only natural that you think you have it.            \\\\\n",
       "\t Lisa Simpson                                                                                                                                                              & Where's Mr. Bergstrom?                                                                                                                                                   \\\\\n",
       "\t Miss Hoover                                                                                                                                                               & I don't know. Although I'd sure like to talk to him. He didn't touch my lesson plan. What did he teach you?                                                              \\\\\n",
       "\t Lisa Simpson                                                                                                                                                              & That life is worth living.                                                                                                                                               \\\\\n",
       "\t Edna Krabappel-Flanders                                                                                                                                                   & The polls will be open from now until the end of recess. Now, just in case any of you have decided to put any thought into this, we'll have our final statements. Martin?\\\\\n",
       "\t Martin Prince                                                                                                                                                             & I don't think there's anything left to say.                                                                                                                              \\\\\n",
       "\\end{tabular}\n"
      ],
      "text/markdown": [
       "\n",
       "| raw_character_text | spoken_words |\n",
       "|---|---|\n",
       "| Miss Hoover                                                                                                                                                               | No, actually, it was a little of both. Sometimes when a disease is in all the magazines and all the news shows, it's only natural that you think you have it.             |\n",
       "| Lisa Simpson                                                                                                                                                              | Where's Mr. Bergstrom?                                                                                                                                                    |\n",
       "| Miss Hoover                                                                                                                                                               | I don't know. Although I'd sure like to talk to him. He didn't touch my lesson plan. What did he teach you?                                                               |\n",
       "| Lisa Simpson                                                                                                                                                              | That life is worth living.                                                                                                                                                |\n",
       "| Edna Krabappel-Flanders                                                                                                                                                   | The polls will be open from now until the end of recess. Now, just in case any of you have decided to put any thought into this, we'll have our final statements. Martin? |\n",
       "| Martin Prince                                                                                                                                                             | I don't think there's anything left to say.                                                                                                                               |\n",
       "\n"
      ],
      "text/plain": [
       "  raw_character_text     \n",
       "1 Miss Hoover            \n",
       "2 Lisa Simpson           \n",
       "3 Miss Hoover            \n",
       "4 Lisa Simpson           \n",
       "5 Edna Krabappel-Flanders\n",
       "6 Martin Prince          \n",
       "  spoken_words                                                                                                                                                             \n",
       "1 No, actually, it was a little of both. Sometimes when a disease is in all the magazines and all the news shows, it's only natural that you think you have it.            \n",
       "2 Where's Mr. Bergstrom?                                                                                                                                                   \n",
       "3 I don't know. Although I'd sure like to talk to him. He didn't touch my lesson plan. What did he teach you?                                                              \n",
       "4 That life is worth living.                                                                                                                                               \n",
       "5 The polls will be open from now until the end of recess. Now, just in case any of you have decided to put any thought into this, we'll have our final statements. Martin?\n",
       "6 I don't think there's anything left to say.                                                                                                                              "
      ]
     },
     "metadata": {},
     "output_type": "display_data"
    }
   ],
   "source": [
    "head(the_simpsons)"
   ]
  },
  {
   "cell_type": "markdown",
   "metadata": {},
   "source": [
    "## Selección de personajes"
   ]
  },
  {
   "cell_type": "code",
   "execution_count": 5,
   "metadata": {},
   "outputs": [
    {
     "name": "stderr",
     "output_type": "stream",
     "text": [
      "Selecting by n\n"
     ]
    },
    {
     "data": {
      "text/html": [
       "<ol class=list-inline>\n",
       "\t<li>'tyrion lannister'</li>\n",
       "\t<li>'jon snow'</li>\n",
       "\t<li>'daenerys targaryen'</li>\n",
       "\t<li>'cersei lannister'</li>\n",
       "\t<li>'jaime lannister'</li>\n",
       "\t<li>'sansa stark'</li>\n",
       "\t<li>'arya stark'</li>\n",
       "\t<li>'davos'</li>\n",
       "\t<li>'theon greyjoy'</li>\n",
       "\t<li>'petyr baelish'</li>\n",
       "\t<li>'bran stark'</li>\n",
       "\t<li>'sam'</li>\n",
       "\t<li>'bronn'</li>\n",
       "\t<li>'jorah mormont'</li>\n",
       "\t<li>'tywin lannister'</li>\n",
       "\t<li>'varys'</li>\n",
       "\t<li>'brienne'</li>\n",
       "\t<li>'eddard stark'</li>\n",
       "\t<li>'robb stark'</li>\n",
       "</ol>\n"
      ],
      "text/latex": [
       "\\begin{enumerate*}\n",
       "\\item 'tyrion lannister'\n",
       "\\item 'jon snow'\n",
       "\\item 'daenerys targaryen'\n",
       "\\item 'cersei lannister'\n",
       "\\item 'jaime lannister'\n",
       "\\item 'sansa stark'\n",
       "\\item 'arya stark'\n",
       "\\item 'davos'\n",
       "\\item 'theon greyjoy'\n",
       "\\item 'petyr baelish'\n",
       "\\item 'bran stark'\n",
       "\\item 'sam'\n",
       "\\item 'bronn'\n",
       "\\item 'jorah mormont'\n",
       "\\item 'tywin lannister'\n",
       "\\item 'varys'\n",
       "\\item 'brienne'\n",
       "\\item 'eddard stark'\n",
       "\\item 'robb stark'\n",
       "\\end{enumerate*}\n"
      ],
      "text/markdown": [
       "1. 'tyrion lannister'\n",
       "2. 'jon snow'\n",
       "3. 'daenerys targaryen'\n",
       "4. 'cersei lannister'\n",
       "5. 'jaime lannister'\n",
       "6. 'sansa stark'\n",
       "7. 'arya stark'\n",
       "8. 'davos'\n",
       "9. 'theon greyjoy'\n",
       "10. 'petyr baelish'\n",
       "11. 'bran stark'\n",
       "12. 'sam'\n",
       "13. 'bronn'\n",
       "14. 'jorah mormont'\n",
       "15. 'tywin lannister'\n",
       "16. 'varys'\n",
       "17. 'brienne'\n",
       "18. 'eddard stark'\n",
       "19. 'robb stark'\n",
       "\n",
       "\n"
      ],
      "text/plain": [
       " [1] \"tyrion lannister\"   \"jon snow\"           \"daenerys targaryen\"\n",
       " [4] \"cersei lannister\"   \"jaime lannister\"    \"sansa stark\"       \n",
       " [7] \"arya stark\"         \"davos\"              \"theon greyjoy\"     \n",
       "[10] \"petyr baelish\"      \"bran stark\"         \"sam\"               \n",
       "[13] \"bronn\"              \"jorah mormont\"      \"tywin lannister\"   \n",
       "[16] \"varys\"              \"brienne\"            \"eddard stark\"      \n",
       "[19] \"robb stark\"        "
      ]
     },
     "metadata": {},
     "output_type": "display_data"
    }
   ],
   "source": [
    "# Selecciono los 20 personajes de Games of Thrones con más sentencias (documentos) en el dataset.\n",
    "# Dentro del top 20 está el personaje \"man\", el cual elimino y me quedo con los 19 restantes.\n",
    "personajes_got <- game_of_thrones %>%\n",
    "    count(Name,sort = TRUE) %>%\n",
    "    top_n(20)  %>%\n",
    "    select(Name) %>%\n",
    "    filter(Name !=\"man\") %>%\n",
    "    pull()\n",
    "\n",
    "personajes_got"
   ]
  },
  {
   "cell_type": "code",
   "execution_count": 6,
   "metadata": {},
   "outputs": [
    {
     "name": "stderr",
     "output_type": "stream",
     "text": [
      "Selecting by n\n"
     ]
    },
    {
     "data": {
      "text/html": [
       "<ol class=list-inline>\n",
       "\t<li>'Homer Simpson'</li>\n",
       "\t<li>'Marge Simpson'</li>\n",
       "\t<li>'Bart Simpson'</li>\n",
       "\t<li>'Lisa Simpson'</li>\n",
       "\t<li>'C. Montgomery Burns'</li>\n",
       "\t<li>'Moe Szyslak'</li>\n",
       "\t<li>'Seymour Skinner'</li>\n",
       "\t<li>'Ned Flanders'</li>\n",
       "\t<li>'Grampa Simpson'</li>\n",
       "\t<li>'Milhouse Van Houten'</li>\n",
       "\t<li>'Chief Wiggum'</li>\n",
       "\t<li>'Krusty the Clown'</li>\n",
       "\t<li>'Nelson Muntz'</li>\n",
       "\t<li>'Lenny Leonard'</li>\n",
       "\t<li>'Apu Nahasapeemapetilon'</li>\n",
       "\t<li>'Waylon Smithers'</li>\n",
       "\t<li>'Kent Brockman'</li>\n",
       "\t<li>'Carl Carlson'</li>\n",
       "\t<li>'Edna Krabappel-Flanders'</li>\n",
       "</ol>\n"
      ],
      "text/latex": [
       "\\begin{enumerate*}\n",
       "\\item 'Homer Simpson'\n",
       "\\item 'Marge Simpson'\n",
       "\\item 'Bart Simpson'\n",
       "\\item 'Lisa Simpson'\n",
       "\\item 'C. Montgomery Burns'\n",
       "\\item 'Moe Szyslak'\n",
       "\\item 'Seymour Skinner'\n",
       "\\item 'Ned Flanders'\n",
       "\\item 'Grampa Simpson'\n",
       "\\item 'Milhouse Van Houten'\n",
       "\\item 'Chief Wiggum'\n",
       "\\item 'Krusty the Clown'\n",
       "\\item 'Nelson Muntz'\n",
       "\\item 'Lenny Leonard'\n",
       "\\item 'Apu Nahasapeemapetilon'\n",
       "\\item 'Waylon Smithers'\n",
       "\\item 'Kent Brockman'\n",
       "\\item 'Carl Carlson'\n",
       "\\item 'Edna Krabappel-Flanders'\n",
       "\\end{enumerate*}\n"
      ],
      "text/markdown": [
       "1. 'Homer Simpson'\n",
       "2. 'Marge Simpson'\n",
       "3. 'Bart Simpson'\n",
       "4. 'Lisa Simpson'\n",
       "5. 'C. Montgomery Burns'\n",
       "6. 'Moe Szyslak'\n",
       "7. 'Seymour Skinner'\n",
       "8. 'Ned Flanders'\n",
       "9. 'Grampa Simpson'\n",
       "10. 'Milhouse Van Houten'\n",
       "11. 'Chief Wiggum'\n",
       "12. 'Krusty the Clown'\n",
       "13. 'Nelson Muntz'\n",
       "14. 'Lenny Leonard'\n",
       "15. 'Apu Nahasapeemapetilon'\n",
       "16. 'Waylon Smithers'\n",
       "17. 'Kent Brockman'\n",
       "18. 'Carl Carlson'\n",
       "19. 'Edna Krabappel-Flanders'\n",
       "\n",
       "\n"
      ],
      "text/plain": [
       " [1] \"Homer Simpson\"           \"Marge Simpson\"          \n",
       " [3] \"Bart Simpson\"            \"Lisa Simpson\"           \n",
       " [5] \"C. Montgomery Burns\"     \"Moe Szyslak\"            \n",
       " [7] \"Seymour Skinner\"         \"Ned Flanders\"           \n",
       " [9] \"Grampa Simpson\"          \"Milhouse Van Houten\"    \n",
       "[11] \"Chief Wiggum\"            \"Krusty the Clown\"       \n",
       "[13] \"Nelson Muntz\"            \"Lenny Leonard\"          \n",
       "[15] \"Apu Nahasapeemapetilon\"  \"Waylon Smithers\"        \n",
       "[17] \"Kent Brockman\"           \"Carl Carlson\"           \n",
       "[19] \"Edna Krabappel-Flanders\""
      ]
     },
     "metadata": {},
     "output_type": "display_data"
    }
   ],
   "source": [
    "# Selecciono los 20 personajes de Los Simpsons con más sentencias en el dataset.\n",
    "personajes_ts <- the_simpsons %>%\n",
    "    count(raw_character_text, sort = TRUE) %>%\n",
    "    top_n(20)  %>%\n",
    "    select(raw_character_text) %>%\n",
    "    filter(raw_character_text !=\"\") %>%\n",
    "    pull()\n",
    "\n",
    "personajes_ts"
   ]
  },
  {
   "cell_type": "markdown",
   "metadata": {},
   "source": [
    "### Creo dataset"
   ]
  },
  {
   "cell_type": "code",
   "execution_count": 7,
   "metadata": {},
   "outputs": [
    {
     "data": {
      "text/html": [
       "<table>\n",
       "<thead><tr><th scope=col>personaje</th><th scope=col>texto</th></tr></thead>\n",
       "<tbody>\n",
       "\t<tr><td>jon snow                                                                 </td><td>Go on. Father's watching.                                                </td></tr>\n",
       "\t<tr><td>jon snow                                                                 </td><td>And your mother.                                                         </td></tr>\n",
       "\t<tr><td>sansa stark                                                              </td><td>Thank you.                                                               </td></tr>\n",
       "\t<tr><td>eddard stark                                                             </td><td>And which one of you was a marksman at ten? Keep practicing, Bran. Go on.</td></tr>\n",
       "\t<tr><td>jon snow                                                                 </td><td>Don't think too much, Bran.                                              </td></tr>\n",
       "\t<tr><td>robb stark                                                               </td><td>Relax your bow arm.                                                      </td></tr>\n",
       "</tbody>\n",
       "</table>\n"
      ],
      "text/latex": [
       "\\begin{tabular}{r|ll}\n",
       " personaje & texto\\\\\n",
       "\\hline\n",
       "\t jon snow                                                                  & Go on. Father's watching.                                                \\\\\n",
       "\t jon snow                                                                  & And your mother.                                                         \\\\\n",
       "\t sansa stark                                                               & Thank you.                                                               \\\\\n",
       "\t eddard stark                                                              & And which one of you was a marksman at ten? Keep practicing, Bran. Go on.\\\\\n",
       "\t jon snow                                                                  & Don't think too much, Bran.                                              \\\\\n",
       "\t robb stark                                                                & Relax your bow arm.                                                      \\\\\n",
       "\\end{tabular}\n"
      ],
      "text/markdown": [
       "\n",
       "| personaje | texto |\n",
       "|---|---|\n",
       "| jon snow                                                                  | Go on. Father's watching.                                                 |\n",
       "| jon snow                                                                  | And your mother.                                                          |\n",
       "| sansa stark                                                               | Thank you.                                                                |\n",
       "| eddard stark                                                              | And which one of you was a marksman at ten? Keep practicing, Bran. Go on. |\n",
       "| jon snow                                                                  | Don't think too much, Bran.                                               |\n",
       "| robb stark                                                                | Relax your bow arm.                                                       |\n",
       "\n"
      ],
      "text/plain": [
       "  personaje   \n",
       "1 jon snow    \n",
       "2 jon snow    \n",
       "3 sansa stark \n",
       "4 eddard stark\n",
       "5 jon snow    \n",
       "6 robb stark  \n",
       "  texto                                                                    \n",
       "1 Go on. Father's watching.                                                \n",
       "2 And your mother.                                                         \n",
       "3 Thank you.                                                               \n",
       "4 And which one of you was a marksman at ten? Keep practicing, Bran. Go on.\n",
       "5 Don't think too much, Bran.                                              \n",
       "6 Relax your bow arm.                                                      "
      ]
     },
     "metadata": {},
     "output_type": "display_data"
    }
   ],
   "source": [
    "# Me quedo con las columnas \"Name\" y \"Sentence\" y los diálogos de los personajes elegidos de Games of Thrones\n",
    "game_of_thrones <- game_of_thrones %>%\n",
    " filter(Name %in% personajes_got) %>%\n",
    " select(c(\"Name\",\"Sentence\"))\n",
    " #mutate(Name, paste0(\"1_\", Name))\n",
    " \n",
    "# Renombro columnas\n",
    "names(game_of_thrones) <- c(\"personaje\", \"texto\")\n",
    "\n",
    "head(game_of_thrones)"
   ]
  },
  {
   "cell_type": "code",
   "execution_count": 8,
   "metadata": {},
   "outputs": [
    {
     "data": {
      "text/html": [
       "<ol class=list-inline>\n",
       "\t<li>12237</li>\n",
       "\t<li>2</li>\n",
       "</ol>\n"
      ],
      "text/latex": [
       "\\begin{enumerate*}\n",
       "\\item 12237\n",
       "\\item 2\n",
       "\\end{enumerate*}\n"
      ],
      "text/markdown": [
       "1. 12237\n",
       "2. 2\n",
       "\n",
       "\n"
      ],
      "text/plain": [
       "[1] 12237     2"
      ]
     },
     "metadata": {},
     "output_type": "display_data"
    }
   ],
   "source": [
    "dim(game_of_thrones)"
   ]
  },
  {
   "cell_type": "code",
   "execution_count": 9,
   "metadata": {},
   "outputs": [
    {
     "data": {
      "text/html": [
       "<table>\n",
       "<thead><tr><th scope=col>personaje</th><th scope=col>texto</th></tr></thead>\n",
       "<tbody>\n",
       "\t<tr><td>Lisa Simpson                                                                                                                                                             </td><td>Where's Mr. Bergstrom?                                                                                                                                                   </td></tr>\n",
       "\t<tr><td>Lisa Simpson                                                                                                                                                             </td><td>That life is worth living.                                                                                                                                               </td></tr>\n",
       "\t<tr><td>Edna Krabappel-Flanders                                                                                                                                                  </td><td>The polls will be open from now until the end of recess. Now, just in case any of you have decided to put any thought into this, we'll have our final statements. Martin?</td></tr>\n",
       "\t<tr><td>Edna Krabappel-Flanders                                                                                                                                                  </td><td>Bart?                                                                                                                                                                    </td></tr>\n",
       "\t<tr><td>Bart Simpson                                                                                                                                                             </td><td>Victory party under the slide!                                                                                                                                           </td></tr>\n",
       "\t<tr><td>Lisa Simpson                                                                                                                                                             </td><td>Mr. Bergstrom! Mr. Bergstrom!                                                                                                                                            </td></tr>\n",
       "</tbody>\n",
       "</table>\n"
      ],
      "text/latex": [
       "\\begin{tabular}{r|ll}\n",
       " personaje & texto\\\\\n",
       "\\hline\n",
       "\t Lisa Simpson                                                                                                                                                              & Where's Mr. Bergstrom?                                                                                                                                                   \\\\\n",
       "\t Lisa Simpson                                                                                                                                                              & That life is worth living.                                                                                                                                               \\\\\n",
       "\t Edna Krabappel-Flanders                                                                                                                                                   & The polls will be open from now until the end of recess. Now, just in case any of you have decided to put any thought into this, we'll have our final statements. Martin?\\\\\n",
       "\t Edna Krabappel-Flanders                                                                                                                                                   & Bart?                                                                                                                                                                    \\\\\n",
       "\t Bart Simpson                                                                                                                                                              & Victory party under the slide!                                                                                                                                           \\\\\n",
       "\t Lisa Simpson                                                                                                                                                              & Mr. Bergstrom! Mr. Bergstrom!                                                                                                                                            \\\\\n",
       "\\end{tabular}\n"
      ],
      "text/markdown": [
       "\n",
       "| personaje | texto |\n",
       "|---|---|\n",
       "| Lisa Simpson                                                                                                                                                              | Where's Mr. Bergstrom?                                                                                                                                                    |\n",
       "| Lisa Simpson                                                                                                                                                              | That life is worth living.                                                                                                                                                |\n",
       "| Edna Krabappel-Flanders                                                                                                                                                   | The polls will be open from now until the end of recess. Now, just in case any of you have decided to put any thought into this, we'll have our final statements. Martin? |\n",
       "| Edna Krabappel-Flanders                                                                                                                                                   | Bart?                                                                                                                                                                     |\n",
       "| Bart Simpson                                                                                                                                                              | Victory party under the slide!                                                                                                                                            |\n",
       "| Lisa Simpson                                                                                                                                                              | Mr. Bergstrom! Mr. Bergstrom!                                                                                                                                             |\n",
       "\n"
      ],
      "text/plain": [
       "  personaje              \n",
       "1 Lisa Simpson           \n",
       "2 Lisa Simpson           \n",
       "3 Edna Krabappel-Flanders\n",
       "4 Edna Krabappel-Flanders\n",
       "5 Bart Simpson           \n",
       "6 Lisa Simpson           \n",
       "  texto                                                                                                                                                                    \n",
       "1 Where's Mr. Bergstrom?                                                                                                                                                   \n",
       "2 That life is worth living.                                                                                                                                               \n",
       "3 The polls will be open from now until the end of recess. Now, just in case any of you have decided to put any thought into this, we'll have our final statements. Martin?\n",
       "4 Bart?                                                                                                                                                                    \n",
       "5 Victory party under the slide!                                                                                                                                           \n",
       "6 Mr. Bergstrom! Mr. Bergstrom!                                                                                                                                            "
      ]
     },
     "metadata": {},
     "output_type": "display_data"
    }
   ],
   "source": [
    "# Me quedo con los diálogos de los personajes elegidos de Los Simpsons\n",
    "the_simpsons <- the_simpsons %>%\n",
    " filter(raw_character_text %in% personajes_ts)\n",
    " \n",
    "# Renombro columnas\n",
    "names(the_simpsons) <- c(\"personaje\", \"texto\")\n",
    "\n",
    "head(the_simpsons)"
   ]
  },
  {
   "cell_type": "code",
   "execution_count": 10,
   "metadata": {},
   "outputs": [
    {
     "data": {
      "text/html": [
       "<ol class=list-inline>\n",
       "\t<li>93970</li>\n",
       "\t<li>2</li>\n",
       "</ol>\n"
      ],
      "text/latex": [
       "\\begin{enumerate*}\n",
       "\\item 93970\n",
       "\\item 2\n",
       "\\end{enumerate*}\n"
      ],
      "text/markdown": [
       "1. 93970\n",
       "2. 2\n",
       "\n",
       "\n"
      ],
      "text/plain": [
       "[1] 93970     2"
      ]
     },
     "metadata": {},
     "output_type": "display_data"
    }
   ],
   "source": [
    "dim(the_simpsons)"
   ]
  },
  {
   "cell_type": "code",
   "execution_count": 11,
   "metadata": {},
   "outputs": [
    {
     "data": {
      "text/html": [
       "<table>\n",
       "<thead><tr><th scope=col>personaje</th><th scope=col>texto</th></tr></thead>\n",
       "<tbody>\n",
       "\t<tr><td>jon snow                                                                 </td><td>Go on. Father's watching.                                                </td></tr>\n",
       "\t<tr><td>jon snow                                                                 </td><td>And your mother.                                                         </td></tr>\n",
       "\t<tr><td>sansa stark                                                              </td><td>Thank you.                                                               </td></tr>\n",
       "\t<tr><td>eddard stark                                                             </td><td>And which one of you was a marksman at ten? Keep practicing, Bran. Go on.</td></tr>\n",
       "\t<tr><td>jon snow                                                                 </td><td>Don't think too much, Bran.                                              </td></tr>\n",
       "\t<tr><td>robb stark                                                               </td><td>Relax your bow arm.                                                      </td></tr>\n",
       "</tbody>\n",
       "</table>\n"
      ],
      "text/latex": [
       "\\begin{tabular}{r|ll}\n",
       " personaje & texto\\\\\n",
       "\\hline\n",
       "\t jon snow                                                                  & Go on. Father's watching.                                                \\\\\n",
       "\t jon snow                                                                  & And your mother.                                                         \\\\\n",
       "\t sansa stark                                                               & Thank you.                                                               \\\\\n",
       "\t eddard stark                                                              & And which one of you was a marksman at ten? Keep practicing, Bran. Go on.\\\\\n",
       "\t jon snow                                                                  & Don't think too much, Bran.                                              \\\\\n",
       "\t robb stark                                                                & Relax your bow arm.                                                      \\\\\n",
       "\\end{tabular}\n"
      ],
      "text/markdown": [
       "\n",
       "| personaje | texto |\n",
       "|---|---|\n",
       "| jon snow                                                                  | Go on. Father's watching.                                                 |\n",
       "| jon snow                                                                  | And your mother.                                                          |\n",
       "| sansa stark                                                               | Thank you.                                                                |\n",
       "| eddard stark                                                              | And which one of you was a marksman at ten? Keep practicing, Bran. Go on. |\n",
       "| jon snow                                                                  | Don't think too much, Bran.                                               |\n",
       "| robb stark                                                                | Relax your bow arm.                                                       |\n",
       "\n"
      ],
      "text/plain": [
       "  personaje   \n",
       "1 jon snow    \n",
       "2 jon snow    \n",
       "3 sansa stark \n",
       "4 eddard stark\n",
       "5 jon snow    \n",
       "6 robb stark  \n",
       "  texto                                                                    \n",
       "1 Go on. Father's watching.                                                \n",
       "2 And your mother.                                                         \n",
       "3 Thank you.                                                               \n",
       "4 And which one of you was a marksman at ten? Keep practicing, Bran. Go on.\n",
       "5 Don't think too much, Bran.                                              \n",
       "6 Relax your bow arm.                                                      "
      ]
     },
     "metadata": {},
     "output_type": "display_data"
    }
   ],
   "source": [
    "# Junto datasets de las series\n",
    "dataset_series <- data.table(rbind(game_of_thrones, the_simpsons))\n",
    "\n",
    "head(dataset_series)"
   ]
  },
  {
   "cell_type": "code",
   "execution_count": 12,
   "metadata": {},
   "outputs": [
    {
     "data": {
      "text/html": [
       "<ol class=list-inline>\n",
       "\t<li>106207</li>\n",
       "\t<li>2</li>\n",
       "</ol>\n"
      ],
      "text/latex": [
       "\\begin{enumerate*}\n",
       "\\item 106207\n",
       "\\item 2\n",
       "\\end{enumerate*}\n"
      ],
      "text/markdown": [
       "1. 106207\n",
       "2. 2\n",
       "\n",
       "\n"
      ],
      "text/plain": [
       "[1] 106207      2"
      ]
     },
     "metadata": {},
     "output_type": "display_data"
    }
   ],
   "source": [
    "dim(dataset_series)"
   ]
  },
  {
   "cell_type": "markdown",
   "metadata": {},
   "source": [
    "## Limpieza de texto"
   ]
  },
  {
   "cell_type": "markdown",
   "metadata": {},
   "source": [
    "### Función de limpieza"
   ]
  },
  {
   "cell_type": "code",
   "execution_count": 13,
   "metadata": {},
   "outputs": [],
   "source": [
    "limpiar <- function(texto){\n",
    "    # Se convierte todo el texto a minúsculas\n",
    "    nuevo_texto <- tolower(texto)\n",
    "    # Reemplazo contracciones en ingles\n",
    "    nuevo_texto <- replace_contraction(nuevo_texto)\n",
    "    # Eliminación de signos de puntuación\n",
    "    nuevo_texto <- str_replace_all(nuevo_texto,\"[[:punct:]]\", \" \")\n",
    "    # Eliminación de números\n",
    "    nuevo_texto <- str_replace_all(nuevo_texto,\"[[:digit:]]\", \" \")\n",
    "    # Eliminación de espacios en blanco múltiples\n",
    "    nuevo_texto <- str_replace_all(nuevo_texto,\"[\\\\s]+\", \" \")\n",
    "    # Elimino carácteres únicos\n",
    "    nuevo_texto <- gsub(\"\\\\W*\\\\b\\\\w\\\\b\\\\W*\", \" \", nuevo_texto)\n",
    "    \n",
    "    return(nuevo_texto)\n",
    "}"
   ]
  },
  {
   "cell_type": "code",
   "execution_count": 14,
   "metadata": {},
   "outputs": [
    {
     "data": {
      "text/html": [
       "<table>\n",
       "<thead><tr><th scope=col>personaje</th><th scope=col>texto</th><th scope=col>texto_limpio</th></tr></thead>\n",
       "<tbody>\n",
       "\t<tr><td>jon snow                                                                 </td><td>Go on. Father's watching.                                                </td><td>go on father watching                                                    </td></tr>\n",
       "\t<tr><td>jon snow                                                                 </td><td>And your mother.                                                         </td><td>and your mother                                                          </td></tr>\n",
       "\t<tr><td>sansa stark                                                              </td><td>Thank you.                                                               </td><td>thank you                                                                </td></tr>\n",
       "\t<tr><td>eddard stark                                                             </td><td>And which one of you was a marksman at ten? Keep practicing, Bran. Go on.</td><td>and which one of you was marksman at ten keep practicing bran go on      </td></tr>\n",
       "\t<tr><td>jon snow                                                                 </td><td>Don't think too much, Bran.                                              </td><td>do not think too much bran                                               </td></tr>\n",
       "\t<tr><td>robb stark                                                               </td><td>Relax your bow arm.                                                      </td><td>relax your bow arm                                                       </td></tr>\n",
       "</tbody>\n",
       "</table>\n"
      ],
      "text/latex": [
       "\\begin{tabular}{r|lll}\n",
       " personaje & texto & texto\\_limpio\\\\\n",
       "\\hline\n",
       "\t jon snow                                                                  & Go on. Father's watching.                                                 & go on father watching                                                    \\\\\n",
       "\t jon snow                                                                  & And your mother.                                                          & and your mother                                                          \\\\\n",
       "\t sansa stark                                                               & Thank you.                                                                & thank you                                                                \\\\\n",
       "\t eddard stark                                                              & And which one of you was a marksman at ten? Keep practicing, Bran. Go on. & and which one of you was marksman at ten keep practicing bran go on      \\\\\n",
       "\t jon snow                                                                  & Don't think too much, Bran.                                               & do not think too much bran                                               \\\\\n",
       "\t robb stark                                                                & Relax your bow arm.                                                       & relax your bow arm                                                       \\\\\n",
       "\\end{tabular}\n"
      ],
      "text/markdown": [
       "\n",
       "| personaje | texto | texto_limpio |\n",
       "|---|---|---|\n",
       "| jon snow                                                                  | Go on. Father's watching.                                                 | go on father watching                                                     |\n",
       "| jon snow                                                                  | And your mother.                                                          | and your mother                                                           |\n",
       "| sansa stark                                                               | Thank you.                                                                | thank you                                                                 |\n",
       "| eddard stark                                                              | And which one of you was a marksman at ten? Keep practicing, Bran. Go on. | and which one of you was marksman at ten keep practicing bran go on       |\n",
       "| jon snow                                                                  | Don't think too much, Bran.                                               | do not think too much bran                                                |\n",
       "| robb stark                                                                | Relax your bow arm.                                                       | relax your bow arm                                                        |\n",
       "\n"
      ],
      "text/plain": [
       "  personaje   \n",
       "1 jon snow    \n",
       "2 jon snow    \n",
       "3 sansa stark \n",
       "4 eddard stark\n",
       "5 jon snow    \n",
       "6 robb stark  \n",
       "  texto                                                                    \n",
       "1 Go on. Father's watching.                                                \n",
       "2 And your mother.                                                         \n",
       "3 Thank you.                                                               \n",
       "4 And which one of you was a marksman at ten? Keep practicing, Bran. Go on.\n",
       "5 Don't think too much, Bran.                                              \n",
       "6 Relax your bow arm.                                                      \n",
       "  texto_limpio                                                        \n",
       "1 go on father watching                                               \n",
       "2 and your mother                                                     \n",
       "3 thank you                                                           \n",
       "4 and which one of you was marksman at ten keep practicing bran go on \n",
       "5 do not think too much bran                                          \n",
       "6 relax your bow arm                                                  "
      ]
     },
     "metadata": {},
     "output_type": "display_data"
    }
   ],
   "source": [
    "# Aplico función de limpieza\n",
    "dataset_series <- dataset_series %>% mutate(texto_limpio = map(.x = texto, .f = limpiar))\n",
    "head(dataset_series)"
   ]
  },
  {
   "cell_type": "markdown",
   "metadata": {},
   "source": [
    "### Tokenización y limpieza de palabras vacías"
   ]
  },
  {
   "cell_type": "code",
   "execution_count": 15,
   "metadata": {},
   "outputs": [
    {
     "name": "stderr",
     "output_type": "stream",
     "text": [
      "Joining, by = \"word\"\n"
     ]
    },
    {
     "data": {
      "text/html": [
       "<table>\n",
       "<thead><tr><th scope=col>personaje</th><th scope=col>texto</th><th scope=col>word</th></tr></thead>\n",
       "<tbody>\n",
       "\t<tr><td>jon snow                                                                 </td><td>Go on. Father's watching.                                                </td><td>father                                                                   </td></tr>\n",
       "\t<tr><td>jon snow                                                                 </td><td>Go on. Father's watching.                                                </td><td>watching                                                                 </td></tr>\n",
       "\t<tr><td>jon snow                                                                 </td><td>And your mother.                                                         </td><td>mother                                                                   </td></tr>\n",
       "\t<tr><td>eddard stark                                                             </td><td>And which one of you was a marksman at ten? Keep practicing, Bran. Go on.</td><td>marksman                                                                 </td></tr>\n",
       "\t<tr><td>eddard stark                                                             </td><td>And which one of you was a marksman at ten? Keep practicing, Bran. Go on.</td><td>ten                                                                      </td></tr>\n",
       "\t<tr><td>eddard stark                                                             </td><td>And which one of you was a marksman at ten? Keep practicing, Bran. Go on.</td><td>practicing                                                               </td></tr>\n",
       "</tbody>\n",
       "</table>\n"
      ],
      "text/latex": [
       "\\begin{tabular}{r|lll}\n",
       " personaje & texto & word\\\\\n",
       "\\hline\n",
       "\t jon snow                                                                  & Go on. Father's watching.                                                 & father                                                                   \\\\\n",
       "\t jon snow                                                                  & Go on. Father's watching.                                                 & watching                                                                 \\\\\n",
       "\t jon snow                                                                  & And your mother.                                                          & mother                                                                   \\\\\n",
       "\t eddard stark                                                              & And which one of you was a marksman at ten? Keep practicing, Bran. Go on. & marksman                                                                 \\\\\n",
       "\t eddard stark                                                              & And which one of you was a marksman at ten? Keep practicing, Bran. Go on. & ten                                                                      \\\\\n",
       "\t eddard stark                                                              & And which one of you was a marksman at ten? Keep practicing, Bran. Go on. & practicing                                                               \\\\\n",
       "\\end{tabular}\n"
      ],
      "text/markdown": [
       "\n",
       "| personaje | texto | word |\n",
       "|---|---|---|\n",
       "| jon snow                                                                  | Go on. Father's watching.                                                 | father                                                                    |\n",
       "| jon snow                                                                  | Go on. Father's watching.                                                 | watching                                                                  |\n",
       "| jon snow                                                                  | And your mother.                                                          | mother                                                                    |\n",
       "| eddard stark                                                              | And which one of you was a marksman at ten? Keep practicing, Bran. Go on. | marksman                                                                  |\n",
       "| eddard stark                                                              | And which one of you was a marksman at ten? Keep practicing, Bran. Go on. | ten                                                                       |\n",
       "| eddard stark                                                              | And which one of you was a marksman at ten? Keep practicing, Bran. Go on. | practicing                                                                |\n",
       "\n"
      ],
      "text/plain": [
       "  personaje   \n",
       "1 jon snow    \n",
       "2 jon snow    \n",
       "3 jon snow    \n",
       "4 eddard stark\n",
       "5 eddard stark\n",
       "6 eddard stark\n",
       "  texto                                                                    \n",
       "1 Go on. Father's watching.                                                \n",
       "2 Go on. Father's watching.                                                \n",
       "3 And your mother.                                                         \n",
       "4 And which one of you was a marksman at ten? Keep practicing, Bran. Go on.\n",
       "5 And which one of you was a marksman at ten? Keep practicing, Bran. Go on.\n",
       "6 And which one of you was a marksman at ten? Keep practicing, Bran. Go on.\n",
       "  word      \n",
       "1 father    \n",
       "2 watching  \n",
       "3 mother    \n",
       "4 marksman  \n",
       "5 ten       \n",
       "6 practicing"
      ]
     },
     "metadata": {},
     "output_type": "display_data"
    }
   ],
   "source": [
    "by_personaje <- dataset_series %>%\n",
    "  unnest_tokens(word, texto_limpio) %>%\n",
    "  anti_join(stop_words)\n",
    "\n",
    "head(by_personaje)"
   ]
  },
  {
   "cell_type": "markdown",
   "metadata": {},
   "source": [
    "### Lematizado"
   ]
  },
  {
   "cell_type": "code",
   "execution_count": 16,
   "metadata": {},
   "outputs": [
    {
     "data": {
      "text/html": [
       "<table>\n",
       "<thead><tr><th scope=col>personaje</th><th scope=col>texto</th><th scope=col>word</th></tr></thead>\n",
       "<tbody>\n",
       "\t<tr><td>jon snow                                                                 </td><td>Go on. Father's watching.                                                </td><td>father                                                                   </td></tr>\n",
       "\t<tr><td>jon snow                                                                 </td><td>Go on. Father's watching.                                                </td><td>watch                                                                    </td></tr>\n",
       "\t<tr><td>jon snow                                                                 </td><td>And your mother.                                                         </td><td>mother                                                                   </td></tr>\n",
       "\t<tr><td>eddard stark                                                             </td><td>And which one of you was a marksman at ten? Keep practicing, Bran. Go on.</td><td>marksman                                                                 </td></tr>\n",
       "\t<tr><td>eddard stark                                                             </td><td>And which one of you was a marksman at ten? Keep practicing, Bran. Go on.</td><td>ten                                                                      </td></tr>\n",
       "\t<tr><td>eddard stark                                                             </td><td>And which one of you was a marksman at ten? Keep practicing, Bran. Go on.</td><td>practice                                                                 </td></tr>\n",
       "</tbody>\n",
       "</table>\n"
      ],
      "text/latex": [
       "\\begin{tabular}{r|lll}\n",
       " personaje & texto & word\\\\\n",
       "\\hline\n",
       "\t jon snow                                                                  & Go on. Father's watching.                                                 & father                                                                   \\\\\n",
       "\t jon snow                                                                  & Go on. Father's watching.                                                 & watch                                                                    \\\\\n",
       "\t jon snow                                                                  & And your mother.                                                          & mother                                                                   \\\\\n",
       "\t eddard stark                                                              & And which one of you was a marksman at ten? Keep practicing, Bran. Go on. & marksman                                                                 \\\\\n",
       "\t eddard stark                                                              & And which one of you was a marksman at ten? Keep practicing, Bran. Go on. & ten                                                                      \\\\\n",
       "\t eddard stark                                                              & And which one of you was a marksman at ten? Keep practicing, Bran. Go on. & practice                                                                 \\\\\n",
       "\\end{tabular}\n"
      ],
      "text/markdown": [
       "\n",
       "| personaje | texto | word |\n",
       "|---|---|---|\n",
       "| jon snow                                                                  | Go on. Father's watching.                                                 | father                                                                    |\n",
       "| jon snow                                                                  | Go on. Father's watching.                                                 | watch                                                                     |\n",
       "| jon snow                                                                  | And your mother.                                                          | mother                                                                    |\n",
       "| eddard stark                                                              | And which one of you was a marksman at ten? Keep practicing, Bran. Go on. | marksman                                                                  |\n",
       "| eddard stark                                                              | And which one of you was a marksman at ten? Keep practicing, Bran. Go on. | ten                                                                       |\n",
       "| eddard stark                                                              | And which one of you was a marksman at ten? Keep practicing, Bran. Go on. | practice                                                                  |\n",
       "\n"
      ],
      "text/plain": [
       "  personaje   \n",
       "1 jon snow    \n",
       "2 jon snow    \n",
       "3 jon snow    \n",
       "4 eddard stark\n",
       "5 eddard stark\n",
       "6 eddard stark\n",
       "  texto                                                                    \n",
       "1 Go on. Father's watching.                                                \n",
       "2 Go on. Father's watching.                                                \n",
       "3 And your mother.                                                         \n",
       "4 And which one of you was a marksman at ten? Keep practicing, Bran. Go on.\n",
       "5 And which one of you was a marksman at ten? Keep practicing, Bran. Go on.\n",
       "6 And which one of you was a marksman at ten? Keep practicing, Bran. Go on.\n",
       "  word    \n",
       "1 father  \n",
       "2 watch   \n",
       "3 mother  \n",
       "4 marksman\n",
       "5 ten     \n",
       "6 practice"
      ]
     },
     "metadata": {},
     "output_type": "display_data"
    }
   ],
   "source": [
    "by_personaje$word <- lemmatize_words(by_personaje$word)\n",
    "head(by_personaje)"
   ]
  },
  {
   "cell_type": "markdown",
   "metadata": {},
   "source": [
    "### Conteo de palabras"
   ]
  },
  {
   "cell_type": "code",
   "execution_count": 17,
   "metadata": {},
   "outputs": [
    {
     "data": {
      "text/html": [
       "<table>\n",
       "<thead><tr><th scope=col>personaje</th><th scope=col>word</th><th scope=col>n</th></tr></thead>\n",
       "<tbody>\n",
       "\t<tr><td>Homer Simpson</td><td>marge        </td><td>1822         </td></tr>\n",
       "\t<tr><td>Marge Simpson</td><td>homer        </td><td>1384         </td></tr>\n",
       "\t<tr><td>Lisa Simpson </td><td>dad          </td><td>1138         </td></tr>\n",
       "\t<tr><td>Homer Simpson</td><td>hey          </td><td> 959         </td></tr>\n",
       "\t<tr><td>Bart Simpson </td><td>dad          </td><td> 935         </td></tr>\n",
       "\t<tr><td>Lisa Simpson </td><td>bart         </td><td> 786         </td></tr>\n",
       "\t<tr><td>Homer Simpson</td><td>yes          </td><td> 742         </td></tr>\n",
       "\t<tr><td>Homer Simpson</td><td>gonna        </td><td> 732         </td></tr>\n",
       "\t<tr><td>Bart Simpson </td><td>hey          </td><td> 680         </td></tr>\n",
       "\t<tr><td>Homer Simpson</td><td>uh           </td><td> 672         </td></tr>\n",
       "</tbody>\n",
       "</table>\n"
      ],
      "text/latex": [
       "\\begin{tabular}{r|lll}\n",
       " personaje & word & n\\\\\n",
       "\\hline\n",
       "\t Homer Simpson & marge         & 1822         \\\\\n",
       "\t Marge Simpson & homer         & 1384         \\\\\n",
       "\t Lisa Simpson  & dad           & 1138         \\\\\n",
       "\t Homer Simpson & hey           &  959         \\\\\n",
       "\t Bart Simpson  & dad           &  935         \\\\\n",
       "\t Lisa Simpson  & bart          &  786         \\\\\n",
       "\t Homer Simpson & yes           &  742         \\\\\n",
       "\t Homer Simpson & gonna         &  732         \\\\\n",
       "\t Bart Simpson  & hey           &  680         \\\\\n",
       "\t Homer Simpson & uh            &  672         \\\\\n",
       "\\end{tabular}\n"
      ],
      "text/markdown": [
       "\n",
       "| personaje | word | n |\n",
       "|---|---|---|\n",
       "| Homer Simpson | marge         | 1822          |\n",
       "| Marge Simpson | homer         | 1384          |\n",
       "| Lisa Simpson  | dad           | 1138          |\n",
       "| Homer Simpson | hey           |  959          |\n",
       "| Bart Simpson  | dad           |  935          |\n",
       "| Lisa Simpson  | bart          |  786          |\n",
       "| Homer Simpson | yes           |  742          |\n",
       "| Homer Simpson | gonna         |  732          |\n",
       "| Bart Simpson  | hey           |  680          |\n",
       "| Homer Simpson | uh            |  672          |\n",
       "\n"
      ],
      "text/plain": [
       "   personaje     word  n   \n",
       "1  Homer Simpson marge 1822\n",
       "2  Marge Simpson homer 1384\n",
       "3  Lisa Simpson  dad   1138\n",
       "4  Homer Simpson hey    959\n",
       "5  Bart Simpson  dad    935\n",
       "6  Lisa Simpson  bart   786\n",
       "7  Homer Simpson yes    742\n",
       "8  Homer Simpson gonna  732\n",
       "9  Bart Simpson  hey    680\n",
       "10 Homer Simpson uh     672"
      ]
     },
     "metadata": {},
     "output_type": "display_data"
    }
   ],
   "source": [
    "palabras_cantidad <- by_personaje %>%\n",
    "  count(personaje, word, sort = TRUE) %>%\n",
    "  ungroup()\n",
    "\n",
    "head(palabras_cantidad, 10)"
   ]
  },
  {
   "cell_type": "markdown",
   "metadata": {},
   "source": [
    "## Matriz DTM"
   ]
  },
  {
   "cell_type": "code",
   "execution_count": 18,
   "metadata": {},
   "outputs": [
    {
     "data": {
      "text/plain": [
       "<<DocumentTermMatrix (documents: 38, terms: 23868)>>\n",
       "Non-/sparse entries: 88192/818792\n",
       "Sparsity           : 90%\n",
       "Maximal term length: 37\n",
       "Weighting          : term frequency (tf)"
      ]
     },
     "metadata": {},
     "output_type": "display_data"
    }
   ],
   "source": [
    "# Genero la matriz correspondiente\n",
    "dtm <- palabras_cantidad %>%\n",
    "  cast_dtm(document  = personaje, \n",
    "           term      = word, \n",
    "           value     = n)\n",
    "\n",
    "dtm"
   ]
  },
  {
   "cell_type": "markdown",
   "metadata": {},
   "source": [
    "## LDA"
   ]
  },
  {
   "cell_type": "code",
   "execution_count": 19,
   "metadata": {},
   "outputs": [
    {
     "data": {
      "text/plain": [
       "A LDA_VEM topic model with 2 topics."
      ]
     },
     "metadata": {},
     "output_type": "display_data"
    }
   ],
   "source": [
    "# Aplico algoritmo lda\n",
    "topicos_lda <- LDA(dtm, k = 2, control = list(seed = 45566))\n",
    "topicos_lda"
   ]
  },
  {
   "cell_type": "markdown",
   "metadata": {},
   "source": [
    "## Probabilidad de las palabras en cada tópico"
   ]
  },
  {
   "cell_type": "code",
   "execution_count": 20,
   "metadata": {},
   "outputs": [
    {
     "data": {
      "text/html": [
       "<table>\n",
       "<thead><tr><th scope=col>topic</th><th scope=col>term</th><th scope=col>beta</th></tr></thead>\n",
       "<tbody>\n",
       "\t<tr><td>1           </td><td>marge       </td><td>7.018151e-03</td></tr>\n",
       "\t<tr><td>2           </td><td>marge       </td><td>5.321737e-18</td></tr>\n",
       "\t<tr><td>1           </td><td>homer       </td><td>9.905792e-03</td></tr>\n",
       "\t<tr><td>2           </td><td>homer       </td><td>1.346059e-13</td></tr>\n",
       "\t<tr><td>1           </td><td>dad         </td><td>8.057561e-03</td></tr>\n",
       "\t<tr><td>2           </td><td>dad         </td><td>9.766631e-04</td></tr>\n",
       "</tbody>\n",
       "</table>\n"
      ],
      "text/latex": [
       "\\begin{tabular}{r|lll}\n",
       " topic & term & beta\\\\\n",
       "\\hline\n",
       "\t 1            & marge        & 7.018151e-03\\\\\n",
       "\t 2            & marge        & 5.321737e-18\\\\\n",
       "\t 1            & homer        & 9.905792e-03\\\\\n",
       "\t 2            & homer        & 1.346059e-13\\\\\n",
       "\t 1            & dad          & 8.057561e-03\\\\\n",
       "\t 2            & dad          & 9.766631e-04\\\\\n",
       "\\end{tabular}\n"
      ],
      "text/markdown": [
       "\n",
       "| topic | term | beta |\n",
       "|---|---|---|\n",
       "| 1            | marge        | 7.018151e-03 |\n",
       "| 2            | marge        | 5.321737e-18 |\n",
       "| 1            | homer        | 9.905792e-03 |\n",
       "| 2            | homer        | 1.346059e-13 |\n",
       "| 1            | dad          | 8.057561e-03 |\n",
       "| 2            | dad          | 9.766631e-04 |\n",
       "\n"
      ],
      "text/plain": [
       "  topic term  beta        \n",
       "1 1     marge 7.018151e-03\n",
       "2 2     marge 5.321737e-18\n",
       "3 1     homer 9.905792e-03\n",
       "4 2     homer 1.346059e-13\n",
       "5 1     dad   8.057561e-03\n",
       "6 2     dad   9.766631e-04"
      ]
     },
     "metadata": {},
     "output_type": "display_data"
    }
   ],
   "source": [
    "# la probabilidad de que una palabra se genere en un tópico se define por el valor beta\n",
    "topicos_lda_beta <- tidy(topicos_lda, matrix = \"beta\")\n",
    "head(topicos_lda_beta)"
   ]
  },
  {
   "cell_type": "markdown",
   "metadata": {},
   "source": [
    "### Wordcloud de tópicos\n",
    "Se crea una nube de palabras por cada tópico para obtener una impresión general de las palabras más frecuentes en cada tópico definida por el valor β."
   ]
  },
  {
   "cell_type": "code",
   "execution_count": 21,
   "metadata": {},
   "outputs": [
    {
     "data": {
      "image/png": "[encoded data removed]",
      "text/plain": [
       "plot without title"
      ]
     },
     "metadata": {},
     "output_type": "display_data"
    }
   ],
   "source": [
    "# Wordcloud Tópico 1\n",
    "wc_t1 <- data.frame(term = topicos_lda@terms, p = exp(topicos_lda@beta[1,]))\n",
    "\n",
    "gt1 <- wordcloud(words = wc_t1$term,\n",
    "                 freq = wc_t1$p,\n",
    "                 max.words = 200,\n",
    "                 random.order = FALSE,\n",
    "                 rot.per = 0.35,\n",
    "                 colors=brewer.pal(8, \"Dark2\"))"
   ]
  },
  {
   "cell_type": "code",
   "execution_count": 22,
   "metadata": {},
   "outputs": [
    {
     "data": {
      "image/png": "[encoded data removed]",
      "text/plain": [
       "plot without title"
      ]
     },
     "metadata": {},
     "output_type": "display_data"
    }
   ],
   "source": [
    "# Wordcloud Tópico 2\n",
    "wc_t2 <- data.frame(term = topicos_lda@terms, p = exp(topicos_lda@beta[2,]))\n",
    "\n",
    "gt2 <- wordcloud(words = wc_t2$term,\n",
    "                 freq = wc_t2$p,\n",
    "                 max.words = 200,\n",
    "                 random.order = FALSE,\n",
    "                 rot.per = 0.35,\n",
    "                 colors=brewer.pal(8, \"Dark2\"))"
   ]
  },
  {
   "cell_type": "markdown",
   "metadata": {},
   "source": [
    "Se aprecia como el tópico 1 se relaciona mejor con la serie \"The Simpsons\" a través de palabras como \"homer\" o \"marge\", es decir, es más probable que dichas palabras se generen a partir del tópico 1. Por otro lado, el tópico 2 se vincula mejor a la serie \"Games of Thrones\" con palabras como \"king\" o \"lord\". "
   ]
  },
  {
   "cell_type": "markdown",
   "metadata": {},
   "source": [
    "###  Términos más frecuentes en cada tópico"
   ]
  },
  {
   "cell_type": "code",
   "execution_count": 23,
   "metadata": {},
   "outputs": [],
   "source": [
    "# Se filtran los 10 términos más frecuentes de cada tópico\n",
    "terminos_frecuentes <- topicos_lda_beta %>%\n",
    "  group_by(topic) %>%\n",
    "  top_n(10, beta) %>%\n",
    "  ungroup() %>%\n",
    "  arrange(topic, -beta)"
   ]
  },
  {
   "cell_type": "code",
   "execution_count": 24,
   "metadata": {},
   "outputs": [
    {
     "data": {
      "image/png": "[encoded data removed]",
      "text/plain": [
       "plot without title"
      ]
     },
     "metadata": {},
     "output_type": "display_data"
    }
   ],
   "source": [
    "# Gráfico de los 10 términos más frecuentes en cada tópico\n",
    "terminos_frecuentes %>%\n",
    "  mutate(term = reorder(term, beta)) %>%\n",
    "  ggplot(aes(term, beta, fill = factor(topic))) +\n",
    "  geom_col(show.legend = FALSE) +\n",
    "  facet_wrap(~ topic, scales = \"free\") +\n",
    "  coord_flip()"
   ]
  },
  {
   "cell_type": "markdown",
   "metadata": {},
   "source": [
    "Al igual que en las nubes de palabras, en la figura anterior se observan las palabras más representativas de cada tópico, donde el tópico N° 1 hace referencia a la serie \"The Simpsons\" y el N° 2 a la serie \"Games of Thrones\".\n",
    "\n",
    "Como alternativa, podríamos graficar los términos que tuvieron la mayor diferencia de β entre ambos tópicos."
   ]
  },
  {
   "cell_type": "code",
   "execution_count": 25,
   "metadata": {},
   "outputs": [
    {
     "data": {
      "image/png": "[encoded data removed]",
      "text/plain": [
       "plot without title"
      ]
     },
     "metadata": {},
     "output_type": "display_data"
    }
   ],
   "source": [
    "# Diferencia de probabilidades (\"beta\") de palabras entre tópicos\n",
    "dif_beta <- topicos_lda_beta %>%\n",
    "  mutate(topic = paste0(\"topic\", topic)) %>%\n",
    "  spread(topic, beta) %>%\n",
    "  filter(topic1 > .001 | topic2 > .001) %>%\n",
    "  mutate(log_ratio = log2(topic2 / topic1))  %>%\n",
    "  arrange(log_ratio)\n",
    "\n",
    "# Selecciono los 10 mayores y 10 menores log_ratios\n",
    "sel_beta <- rbind(head(dif_beta, 10), tail(dif_beta, 10))\n",
    "\n",
    "# Gráfico de diferencias de probabilidades\n",
    "ggplot(data = sel_beta,\n",
    "       aes(x = reorder(term, log_ratio), y = log_ratio))+\n",
    "  geom_bar(stat = \"identity\") +\n",
    "  coord_flip()"
   ]
  },
  {
   "cell_type": "markdown",
   "metadata": {},
   "source": [
    "Se nota claramente la diferencia entre los tópicos. Se puede ver, por ejemplo, que los nombres de los personajes están muy relacionados con uno de los tópicos y es muy poco probable que aparezca en el otro. Esto ayuda a confirmar que los resultados (tópicos) son coherentes con lo esperado."
   ]
  },
  {
   "cell_type": "markdown",
   "metadata": {},
   "source": [
    "##  Probabilidades de los documentos en cada tópico\n",
    "Se pueden examinar las probabilidades de los documentos a partir del valor \"gamma\". En este caso, cada documento es el diálogo de un personaje de una de las series estudiadas."
   ]
  },
  {
   "cell_type": "code",
   "execution_count": 26,
   "metadata": {},
   "outputs": [
    {
     "data": {
      "text/html": [
       "<table>\n",
       "<thead><tr><th scope=col>document</th><th scope=col>topic</th><th scope=col>gamma</th></tr></thead>\n",
       "<tbody>\n",
       "\t<tr><td>Homer Simpson      </td><td>1                  </td><td>0.9990816          </td></tr>\n",
       "\t<tr><td>Marge Simpson      </td><td>1                  </td><td>0.9980567          </td></tr>\n",
       "\t<tr><td>Lisa Simpson       </td><td>1                  </td><td>0.8320932          </td></tr>\n",
       "\t<tr><td>Bart Simpson       </td><td>1                  </td><td>0.9988583          </td></tr>\n",
       "\t<tr><td>Waylon Smithers    </td><td>1                  </td><td>0.6330451          </td></tr>\n",
       "\t<tr><td>C. Montgomery Burns</td><td>1                  </td><td>0.9545978          </td></tr>\n",
       "</tbody>\n",
       "</table>\n"
      ],
      "text/latex": [
       "\\begin{tabular}{r|lll}\n",
       " document & topic & gamma\\\\\n",
       "\\hline\n",
       "\t Homer Simpson       & 1                   & 0.9990816          \\\\\n",
       "\t Marge Simpson       & 1                   & 0.9980567          \\\\\n",
       "\t Lisa Simpson        & 1                   & 0.8320932          \\\\\n",
       "\t Bart Simpson        & 1                   & 0.9988583          \\\\\n",
       "\t Waylon Smithers     & 1                   & 0.6330451          \\\\\n",
       "\t C. Montgomery Burns & 1                   & 0.9545978          \\\\\n",
       "\\end{tabular}\n"
      ],
      "text/markdown": [
       "\n",
       "| document | topic | gamma |\n",
       "|---|---|---|\n",
       "| Homer Simpson       | 1                   | 0.9990816           |\n",
       "| Marge Simpson       | 1                   | 0.9980567           |\n",
       "| Lisa Simpson        | 1                   | 0.8320932           |\n",
       "| Bart Simpson        | 1                   | 0.9988583           |\n",
       "| Waylon Smithers     | 1                   | 0.6330451           |\n",
       "| C. Montgomery Burns | 1                   | 0.9545978           |\n",
       "\n"
      ],
      "text/plain": [
       "  document            topic gamma    \n",
       "1 Homer Simpson       1     0.9990816\n",
       "2 Marge Simpson       1     0.9980567\n",
       "3 Lisa Simpson        1     0.8320932\n",
       "4 Bart Simpson        1     0.9988583\n",
       "5 Waylon Smithers     1     0.6330451\n",
       "6 C. Montgomery Burns 1     0.9545978"
      ]
     },
     "metadata": {},
     "output_type": "display_data"
    }
   ],
   "source": [
    "personajes_lda_gamma <- tidy(topicos_lda, matrix = \"gamma\")\n",
    "head(personajes_lda_gamma)"
   ]
  },
  {
   "cell_type": "markdown",
   "metadata": {},
   "source": [
    "Por ejemplo, el modelo estima que más del 99% de las palabras que comprenden al personaje \"Homer Simpson\" se generaron a partir del tópico 1, Mientras que el 63 % de las palabras que involucran al personaje \"Waylon Smithers\" provienen de dicho tópico. Se puede encontrar que la palabra más pronunciada por el personaje Homero Simpson es \"Marge\"."
   ]
  },
  {
   "cell_type": "code",
   "execution_count": 27,
   "metadata": {},
   "outputs": [
    {
     "name": "stderr",
     "output_type": "stream",
     "text": [
      "Selecting by count\n"
     ]
    },
    {
     "data": {
      "text/html": [
       "<table>\n",
       "<thead><tr><th scope=col>document</th><th scope=col>term</th><th scope=col>count</th></tr></thead>\n",
       "<tbody>\n",
       "\t<tr><td>Homer Simpson</td><td>marge        </td><td>1822         </td></tr>\n",
       "\t<tr><td>Homer Simpson</td><td>hey          </td><td> 959         </td></tr>\n",
       "\t<tr><td>Homer Simpson</td><td>yes          </td><td> 742         </td></tr>\n",
       "\t<tr><td>Homer Simpson</td><td>gonna        </td><td> 732         </td></tr>\n",
       "\t<tr><td>Homer Simpson</td><td>uh           </td><td> 672         </td></tr>\n",
       "\t<tr><td>Homer Simpson</td><td>boy          </td><td> 665         </td></tr>\n",
       "\t<tr><td>Homer Simpson</td><td>time         </td><td> 644         </td></tr>\n",
       "\t<tr><td>Homer Simpson</td><td>kid          </td><td> 616         </td></tr>\n",
       "\t<tr><td>Homer Simpson</td><td>bart         </td><td> 585         </td></tr>\n",
       "\t<tr><td>Homer Simpson</td><td>love         </td><td> 568         </td></tr>\n",
       "</tbody>\n",
       "</table>\n"
      ],
      "text/latex": [
       "\\begin{tabular}{r|lll}\n",
       " document & term & count\\\\\n",
       "\\hline\n",
       "\t Homer Simpson & marge         & 1822         \\\\\n",
       "\t Homer Simpson & hey           &  959         \\\\\n",
       "\t Homer Simpson & yes           &  742         \\\\\n",
       "\t Homer Simpson & gonna         &  732         \\\\\n",
       "\t Homer Simpson & uh            &  672         \\\\\n",
       "\t Homer Simpson & boy           &  665         \\\\\n",
       "\t Homer Simpson & time          &  644         \\\\\n",
       "\t Homer Simpson & kid           &  616         \\\\\n",
       "\t Homer Simpson & bart          &  585         \\\\\n",
       "\t Homer Simpson & love          &  568         \\\\\n",
       "\\end{tabular}\n"
      ],
      "text/markdown": [
       "\n",
       "| document | term | count |\n",
       "|---|---|---|\n",
       "| Homer Simpson | marge         | 1822          |\n",
       "| Homer Simpson | hey           |  959          |\n",
       "| Homer Simpson | yes           |  742          |\n",
       "| Homer Simpson | gonna         |  732          |\n",
       "| Homer Simpson | uh            |  672          |\n",
       "| Homer Simpson | boy           |  665          |\n",
       "| Homer Simpson | time          |  644          |\n",
       "| Homer Simpson | kid           |  616          |\n",
       "| Homer Simpson | bart          |  585          |\n",
       "| Homer Simpson | love          |  568          |\n",
       "\n"
      ],
      "text/plain": [
       "   document      term  count\n",
       "1  Homer Simpson marge 1822 \n",
       "2  Homer Simpson hey    959 \n",
       "3  Homer Simpson yes    742 \n",
       "4  Homer Simpson gonna  732 \n",
       "5  Homer Simpson uh     672 \n",
       "6  Homer Simpson boy    665 \n",
       "7  Homer Simpson time   644 \n",
       "8  Homer Simpson kid    616 \n",
       "9  Homer Simpson bart   585 \n",
       "10 Homer Simpson love   568 "
      ]
     },
     "metadata": {},
     "output_type": "display_data"
    }
   ],
   "source": [
    "# Palabras más pronunciadas por Homero Simpson\n",
    "tidy(dtm) %>%\n",
    "  filter(document == \"Homer Simpson\") %>%\n",
    "  top_n(10) %>%\n",
    "  arrange(desc(count))"
   ]
  },
  {
   "cell_type": "markdown",
   "metadata": {},
   "source": [
    "### Relación de los documentos con los tópicos"
   ]
  },
  {
   "cell_type": "code",
   "execution_count": 28,
   "metadata": {},
   "outputs": [
    {
     "data": {
      "image/png": "[encoded data removed]",
      "text/plain": [
       "plot without title"
      ]
     },
     "metadata": {},
     "output_type": "display_data"
    }
   ],
   "source": [
    "# Agrego columna con nombres de las series para graficar\n",
    "personajes_lda_gamma <- data.table(personajes_lda_gamma)\n",
    "personajes_lda_gamma[document %in% personajes_ts , serie := \"The Simpsons\"    ]\n",
    "personajes_lda_gamma[document %in% personajes_got, serie := \"Games of Thrones\"]\n",
    "\n",
    "# Grafico las relaciones entre los documentos y los tópicos\n",
    "personajes_lda_gamma %>%\n",
    "  mutate(title = reorder(serie, gamma * topic)) %>%\n",
    "  ggplot(aes(factor(topic), gamma)) +\n",
    "  geom_boxplot() +\n",
    "  facet_wrap(~ serie)"
   ]
  },
  {
   "cell_type": "markdown",
   "metadata": {},
   "source": [
    "De acuerdo al gráfico anterior parece que algunos personajes de Los Simpsons están algo asociados al tópico de Games of Thrones. En la tabla siguiente se muestra numéricamente como los personajes \"Lisa Simpson\", \"Waylon Smithers\", \"C. Montgomery Burns\", \"Nelson Muntz\" y \"Seymour Skinner\" tienen una probabilidad gamma menor al 99 % con lo cual son relacionados en parte al tópico 2."
   ]
  },
  {
   "cell_type": "code",
   "execution_count": 29,
   "metadata": {},
   "outputs": [
    {
     "data": {
      "text/html": [
       "<table>\n",
       "<thead><tr><th scope=col>document</th><th scope=col>topic</th><th scope=col>gamma</th><th scope=col>serie</th></tr></thead>\n",
       "<tbody>\n",
       "\t<tr><td>Homer Simpson          </td><td>1                      </td><td>0.9990816              </td><td>The Simpsons           </td></tr>\n",
       "\t<tr><td>Marge Simpson          </td><td>1                      </td><td>0.9980567              </td><td>The Simpsons           </td></tr>\n",
       "\t<tr><td>Lisa Simpson           </td><td>1                      </td><td>0.8320932              </td><td>The Simpsons           </td></tr>\n",
       "\t<tr><td>Bart Simpson           </td><td>1                      </td><td>0.9988583              </td><td>The Simpsons           </td></tr>\n",
       "\t<tr><td>Waylon Smithers        </td><td>1                      </td><td>0.6330451              </td><td>The Simpsons           </td></tr>\n",
       "\t<tr><td>C. Montgomery Burns    </td><td>1                      </td><td>0.9545978              </td><td>The Simpsons           </td></tr>\n",
       "\t<tr><td>Moe Szyslak            </td><td>1                      </td><td>0.9999943              </td><td>The Simpsons           </td></tr>\n",
       "\t<tr><td>Nelson Muntz           </td><td>1                      </td><td>0.7556806              </td><td>The Simpsons           </td></tr>\n",
       "\t<tr><td>Ned Flanders           </td><td>1                      </td><td>0.9935868              </td><td>The Simpsons           </td></tr>\n",
       "\t<tr><td>Milhouse Van Houten    </td><td>1                      </td><td>0.9984949              </td><td>The Simpsons           </td></tr>\n",
       "\t<tr><td>Krusty the Clown       </td><td>1                      </td><td>0.9984996              </td><td>The Simpsons           </td></tr>\n",
       "\t<tr><td>Kent Brockman          </td><td>1                      </td><td>0.9735696              </td><td>The Simpsons           </td></tr>\n",
       "\t<tr><td>Seymour Skinner        </td><td>1                      </td><td>0.7650161              </td><td>The Simpsons           </td></tr>\n",
       "\t<tr><td>Lenny Leonard          </td><td>1                      </td><td>0.9999812              </td><td>The Simpsons           </td></tr>\n",
       "\t<tr><td>Chief Wiggum           </td><td>1                      </td><td>0.9999905              </td><td>The Simpsons           </td></tr>\n",
       "\t<tr><td>Carl Carlson           </td><td>1                      </td><td>0.9999740              </td><td>The Simpsons           </td></tr>\n",
       "\t<tr><td>Edna Krabappel-Flanders</td><td>1                      </td><td>0.9931756              </td><td>The Simpsons           </td></tr>\n",
       "\t<tr><td>Grampa Simpson         </td><td>1                      </td><td>0.9908818              </td><td>The Simpsons           </td></tr>\n",
       "\t<tr><td>Apu Nahasapeemapetilon </td><td>1                      </td><td>0.9907968              </td><td>The Simpsons           </td></tr>\n",
       "\t<tr><td>tyrion lannister       </td><td>2                      </td><td>0.9999912              </td><td>Games of Thrones       </td></tr>\n",
       "\t<tr><td>cersei lannister       </td><td>2                      </td><td>0.9999840              </td><td>Games of Thrones       </td></tr>\n",
       "\t<tr><td>sansa stark            </td><td>2                      </td><td>0.9999697              </td><td>Games of Thrones       </td></tr>\n",
       "\t<tr><td>jon snow               </td><td>2                      </td><td>0.9999804              </td><td>Games of Thrones       </td></tr>\n",
       "\t<tr><td>varys                  </td><td>2                      </td><td>0.9999666              </td><td>Games of Thrones       </td></tr>\n",
       "\t<tr><td>arya stark             </td><td>2                      </td><td>0.9999637              </td><td>Games of Thrones       </td></tr>\n",
       "\t<tr><td>tywin lannister        </td><td>2                      </td><td>0.9999616              </td><td>Games of Thrones       </td></tr>\n",
       "\t<tr><td>davos                  </td><td>2                      </td><td>0.9999672              </td><td>Games of Thrones       </td></tr>\n",
       "\t<tr><td>daenerys targaryen     </td><td>2                      </td><td>0.9999809              </td><td>Games of Thrones       </td></tr>\n",
       "\t<tr><td>jaime lannister        </td><td>2                      </td><td>0.9999806              </td><td>Games of Thrones       </td></tr>\n",
       "\t<tr><td>jorah mormont          </td><td>2                      </td><td>0.9999476              </td><td>Games of Thrones       </td></tr>\n",
       "\t<tr><td>petyr baelish          </td><td>2                      </td><td>0.9999698              </td><td>Games of Thrones       </td></tr>\n",
       "\t<tr><td>brienne                </td><td>2                      </td><td>0.9999439              </td><td>Games of Thrones       </td></tr>\n",
       "\t<tr><td>theon greyjoy          </td><td>2                      </td><td>0.9999531              </td><td>Games of Thrones       </td></tr>\n",
       "\t<tr><td>bran stark             </td><td>2                      </td><td>0.9999283              </td><td>Games of Thrones       </td></tr>\n",
       "\t<tr><td>bronn                  </td><td>2                      </td><td>0.9749093              </td><td>Games of Thrones       </td></tr>\n",
       "\t<tr><td>robb stark             </td><td>2                      </td><td>0.9999377              </td><td>Games of Thrones       </td></tr>\n",
       "\t<tr><td>eddard stark           </td><td>2                      </td><td>0.9999322              </td><td>Games of Thrones       </td></tr>\n",
       "\t<tr><td>sam                    </td><td>2                      </td><td>0.9999444              </td><td>Games of Thrones       </td></tr>\n",
       "</tbody>\n",
       "</table>\n"
      ],
      "text/latex": [
       "\\begin{tabular}{r|llll}\n",
       " document & topic & gamma & serie\\\\\n",
       "\\hline\n",
       "\t Homer Simpson           & 1                       & 0.9990816               & The Simpsons           \\\\\n",
       "\t Marge Simpson           & 1                       & 0.9980567               & The Simpsons           \\\\\n",
       "\t Lisa Simpson            & 1                       & 0.8320932               & The Simpsons           \\\\\n",
       "\t Bart Simpson            & 1                       & 0.9988583               & The Simpsons           \\\\\n",
       "\t Waylon Smithers         & 1                       & 0.6330451               & The Simpsons           \\\\\n",
       "\t C. Montgomery Burns     & 1                       & 0.9545978               & The Simpsons           \\\\\n",
       "\t Moe Szyslak             & 1                       & 0.9999943               & The Simpsons           \\\\\n",
       "\t Nelson Muntz            & 1                       & 0.7556806               & The Simpsons           \\\\\n",
       "\t Ned Flanders            & 1                       & 0.9935868               & The Simpsons           \\\\\n",
       "\t Milhouse Van Houten     & 1                       & 0.9984949               & The Simpsons           \\\\\n",
       "\t Krusty the Clown        & 1                       & 0.9984996               & The Simpsons           \\\\\n",
       "\t Kent Brockman           & 1                       & 0.9735696               & The Simpsons           \\\\\n",
       "\t Seymour Skinner         & 1                       & 0.7650161               & The Simpsons           \\\\\n",
       "\t Lenny Leonard           & 1                       & 0.9999812               & The Simpsons           \\\\\n",
       "\t Chief Wiggum            & 1                       & 0.9999905               & The Simpsons           \\\\\n",
       "\t Carl Carlson            & 1                       & 0.9999740               & The Simpsons           \\\\\n",
       "\t Edna Krabappel-Flanders & 1                       & 0.9931756               & The Simpsons           \\\\\n",
       "\t Grampa Simpson          & 1                       & 0.9908818               & The Simpsons           \\\\\n",
       "\t Apu Nahasapeemapetilon  & 1                       & 0.9907968               & The Simpsons           \\\\\n",
       "\t tyrion lannister        & 2                       & 0.9999912               & Games of Thrones       \\\\\n",
       "\t cersei lannister        & 2                       & 0.9999840               & Games of Thrones       \\\\\n",
       "\t sansa stark             & 2                       & 0.9999697               & Games of Thrones       \\\\\n",
       "\t jon snow                & 2                       & 0.9999804               & Games of Thrones       \\\\\n",
       "\t varys                   & 2                       & 0.9999666               & Games of Thrones       \\\\\n",
       "\t arya stark              & 2                       & 0.9999637               & Games of Thrones       \\\\\n",
       "\t tywin lannister         & 2                       & 0.9999616               & Games of Thrones       \\\\\n",
       "\t davos                   & 2                       & 0.9999672               & Games of Thrones       \\\\\n",
       "\t daenerys targaryen      & 2                       & 0.9999809               & Games of Thrones       \\\\\n",
       "\t jaime lannister         & 2                       & 0.9999806               & Games of Thrones       \\\\\n",
       "\t jorah mormont           & 2                       & 0.9999476               & Games of Thrones       \\\\\n",
       "\t petyr baelish           & 2                       & 0.9999698               & Games of Thrones       \\\\\n",
       "\t brienne                 & 2                       & 0.9999439               & Games of Thrones       \\\\\n",
       "\t theon greyjoy           & 2                       & 0.9999531               & Games of Thrones       \\\\\n",
       "\t bran stark              & 2                       & 0.9999283               & Games of Thrones       \\\\\n",
       "\t bronn                   & 2                       & 0.9749093               & Games of Thrones       \\\\\n",
       "\t robb stark              & 2                       & 0.9999377               & Games of Thrones       \\\\\n",
       "\t eddard stark            & 2                       & 0.9999322               & Games of Thrones       \\\\\n",
       "\t sam                     & 2                       & 0.9999444               & Games of Thrones       \\\\\n",
       "\\end{tabular}\n"
      ],
      "text/markdown": [
       "\n",
       "| document | topic | gamma | serie |\n",
       "|---|---|---|---|\n",
       "| Homer Simpson           | 1                       | 0.9990816               | The Simpsons            |\n",
       "| Marge Simpson           | 1                       | 0.9980567               | The Simpsons            |\n",
       "| Lisa Simpson            | 1                       | 0.8320932               | The Simpsons            |\n",
       "| Bart Simpson            | 1                       | 0.9988583               | The Simpsons            |\n",
       "| Waylon Smithers         | 1                       | 0.6330451               | The Simpsons            |\n",
       "| C. Montgomery Burns     | 1                       | 0.9545978               | The Simpsons            |\n",
       "| Moe Szyslak             | 1                       | 0.9999943               | The Simpsons            |\n",
       "| Nelson Muntz            | 1                       | 0.7556806               | The Simpsons            |\n",
       "| Ned Flanders            | 1                       | 0.9935868               | The Simpsons            |\n",
       "| Milhouse Van Houten     | 1                       | 0.9984949               | The Simpsons            |\n",
       "| Krusty the Clown        | 1                       | 0.9984996               | The Simpsons            |\n",
       "| Kent Brockman           | 1                       | 0.9735696               | The Simpsons            |\n",
       "| Seymour Skinner         | 1                       | 0.7650161               | The Simpsons            |\n",
       "| Lenny Leonard           | 1                       | 0.9999812               | The Simpsons            |\n",
       "| Chief Wiggum            | 1                       | 0.9999905               | The Simpsons            |\n",
       "| Carl Carlson            | 1                       | 0.9999740               | The Simpsons            |\n",
       "| Edna Krabappel-Flanders | 1                       | 0.9931756               | The Simpsons            |\n",
       "| Grampa Simpson          | 1                       | 0.9908818               | The Simpsons            |\n",
       "| Apu Nahasapeemapetilon  | 1                       | 0.9907968               | The Simpsons            |\n",
       "| tyrion lannister        | 2                       | 0.9999912               | Games of Thrones        |\n",
       "| cersei lannister        | 2                       | 0.9999840               | Games of Thrones        |\n",
       "| sansa stark             | 2                       | 0.9999697               | Games of Thrones        |\n",
       "| jon snow                | 2                       | 0.9999804               | Games of Thrones        |\n",
       "| varys                   | 2                       | 0.9999666               | Games of Thrones        |\n",
       "| arya stark              | 2                       | 0.9999637               | Games of Thrones        |\n",
       "| tywin lannister         | 2                       | 0.9999616               | Games of Thrones        |\n",
       "| davos                   | 2                       | 0.9999672               | Games of Thrones        |\n",
       "| daenerys targaryen      | 2                       | 0.9999809               | Games of Thrones        |\n",
       "| jaime lannister         | 2                       | 0.9999806               | Games of Thrones        |\n",
       "| jorah mormont           | 2                       | 0.9999476               | Games of Thrones        |\n",
       "| petyr baelish           | 2                       | 0.9999698               | Games of Thrones        |\n",
       "| brienne                 | 2                       | 0.9999439               | Games of Thrones        |\n",
       "| theon greyjoy           | 2                       | 0.9999531               | Games of Thrones        |\n",
       "| bran stark              | 2                       | 0.9999283               | Games of Thrones        |\n",
       "| bronn                   | 2                       | 0.9749093               | Games of Thrones        |\n",
       "| robb stark              | 2                       | 0.9999377               | Games of Thrones        |\n",
       "| eddard stark            | 2                       | 0.9999322               | Games of Thrones        |\n",
       "| sam                     | 2                       | 0.9999444               | Games of Thrones        |\n",
       "\n"
      ],
      "text/plain": [
       "   document                topic gamma     serie           \n",
       "1  Homer Simpson           1     0.9990816 The Simpsons    \n",
       "2  Marge Simpson           1     0.9980567 The Simpsons    \n",
       "3  Lisa Simpson            1     0.8320932 The Simpsons    \n",
       "4  Bart Simpson            1     0.9988583 The Simpsons    \n",
       "5  Waylon Smithers         1     0.6330451 The Simpsons    \n",
       "6  C. Montgomery Burns     1     0.9545978 The Simpsons    \n",
       "7  Moe Szyslak             1     0.9999943 The Simpsons    \n",
       "8  Nelson Muntz            1     0.7556806 The Simpsons    \n",
       "9  Ned Flanders            1     0.9935868 The Simpsons    \n",
       "10 Milhouse Van Houten     1     0.9984949 The Simpsons    \n",
       "11 Krusty the Clown        1     0.9984996 The Simpsons    \n",
       "12 Kent Brockman           1     0.9735696 The Simpsons    \n",
       "13 Seymour Skinner         1     0.7650161 The Simpsons    \n",
       "14 Lenny Leonard           1     0.9999812 The Simpsons    \n",
       "15 Chief Wiggum            1     0.9999905 The Simpsons    \n",
       "16 Carl Carlson            1     0.9999740 The Simpsons    \n",
       "17 Edna Krabappel-Flanders 1     0.9931756 The Simpsons    \n",
       "18 Grampa Simpson          1     0.9908818 The Simpsons    \n",
       "19 Apu Nahasapeemapetilon  1     0.9907968 The Simpsons    \n",
       "20 tyrion lannister        2     0.9999912 Games of Thrones\n",
       "21 cersei lannister        2     0.9999840 Games of Thrones\n",
       "22 sansa stark             2     0.9999697 Games of Thrones\n",
       "23 jon snow                2     0.9999804 Games of Thrones\n",
       "24 varys                   2     0.9999666 Games of Thrones\n",
       "25 arya stark              2     0.9999637 Games of Thrones\n",
       "26 tywin lannister         2     0.9999616 Games of Thrones\n",
       "27 davos                   2     0.9999672 Games of Thrones\n",
       "28 daenerys targaryen      2     0.9999809 Games of Thrones\n",
       "29 jaime lannister         2     0.9999806 Games of Thrones\n",
       "30 jorah mormont           2     0.9999476 Games of Thrones\n",
       "31 petyr baelish           2     0.9999698 Games of Thrones\n",
       "32 brienne                 2     0.9999439 Games of Thrones\n",
       "33 theon greyjoy           2     0.9999531 Games of Thrones\n",
       "34 bran stark              2     0.9999283 Games of Thrones\n",
       "35 bronn                   2     0.9749093 Games of Thrones\n",
       "36 robb stark              2     0.9999377 Games of Thrones\n",
       "37 eddard stark            2     0.9999322 Games of Thrones\n",
       "38 sam                     2     0.9999444 Games of Thrones"
      ]
     },
     "metadata": {},
     "output_type": "display_data"
    }
   ],
   "source": [
    "# Pobabilidad (gamma) de los documentos (personajes) de provenir de cada tópico\n",
    "personajes_clasificacion <- personajes_lda_gamma %>%\n",
    "  group_by(serie, document) %>%\n",
    "  top_n(1, gamma) %>%\n",
    "  ungroup()\n",
    "\n",
    "personajes_clasificacion"
   ]
  },
  {
   "cell_type": "markdown",
   "metadata": {},
   "source": [
    "## Asignaciones por palabra\n",
    "Se evalúa si las asignaciones de las palabras a un tópico determinado son correctas o erróneas."
   ]
  },
  {
   "cell_type": "code",
   "execution_count": 30,
   "metadata": {},
   "outputs": [
    {
     "data": {
      "text/html": [
       "<table>\n",
       "<thead><tr><th scope=col>document</th><th scope=col>term</th><th scope=col>count</th><th scope=col>.topic</th></tr></thead>\n",
       "<tbody>\n",
       "\t<tr><td>Homer Simpson  </td><td>marge          </td><td>1822           </td><td>1              </td></tr>\n",
       "\t<tr><td>Marge Simpson  </td><td>marge          </td><td>  82           </td><td>1              </td></tr>\n",
       "\t<tr><td>Lisa Simpson   </td><td>marge          </td><td>   2           </td><td>1              </td></tr>\n",
       "\t<tr><td>Bart Simpson   </td><td>marge          </td><td>   5           </td><td>1              </td></tr>\n",
       "\t<tr><td>Waylon Smithers</td><td>marge          </td><td>   1           </td><td>1              </td></tr>\n",
       "</tbody>\n",
       "</table>\n"
      ],
      "text/latex": [
       "\\begin{tabular}{r|llll}\n",
       " document & term & count & .topic\\\\\n",
       "\\hline\n",
       "\t Homer Simpson   & marge           & 1822            & 1              \\\\\n",
       "\t Marge Simpson   & marge           &   82            & 1              \\\\\n",
       "\t Lisa Simpson    & marge           &    2            & 1              \\\\\n",
       "\t Bart Simpson    & marge           &    5            & 1              \\\\\n",
       "\t Waylon Smithers & marge           &    1            & 1              \\\\\n",
       "\\end{tabular}\n"
      ],
      "text/markdown": [
       "\n",
       "| document | term | count | .topic |\n",
       "|---|---|---|---|\n",
       "| Homer Simpson   | marge           | 1822            | 1               |\n",
       "| Marge Simpson   | marge           |   82            | 1               |\n",
       "| Lisa Simpson    | marge           |    2            | 1               |\n",
       "| Bart Simpson    | marge           |    5            | 1               |\n",
       "| Waylon Smithers | marge           |    1            | 1               |\n",
       "\n"
      ],
      "text/plain": [
       "  document        term  count .topic\n",
       "1 Homer Simpson   marge 1822  1     \n",
       "2 Marge Simpson   marge   82  1     \n",
       "3 Lisa Simpson    marge    2  1     \n",
       "4 Bart Simpson    marge    5  1     \n",
       "5 Waylon Smithers marge    1  1     "
      ]
     },
     "metadata": {},
     "output_type": "display_data"
    }
   ],
   "source": [
    "asignaciones <- augment(topicos_lda, data = dtm)\n",
    "head(asignaciones, 5)"
   ]
  },
  {
   "cell_type": "code",
   "execution_count": 31,
   "metadata": {},
   "outputs": [
    {
     "data": {
      "text/html": [
       "<table>\n",
       "<thead><tr><th scope=col>document</th><th scope=col>term</th><th scope=col>count</th><th scope=col>.topic</th><th scope=col>consensus</th><th scope=col>serie</th></tr></thead>\n",
       "<tbody>\n",
       "\t<tr><td>Homer Simpson      </td><td>marge              </td><td>1822               </td><td>1                  </td><td>The Simpsons       </td><td>The Simpsons       </td></tr>\n",
       "\t<tr><td>Marge Simpson      </td><td>marge              </td><td>  82               </td><td>1                  </td><td>The Simpsons       </td><td>The Simpsons       </td></tr>\n",
       "\t<tr><td>Lisa Simpson       </td><td>marge              </td><td>   2               </td><td>1                  </td><td>The Simpsons       </td><td>The Simpsons       </td></tr>\n",
       "\t<tr><td>Bart Simpson       </td><td>marge              </td><td>   5               </td><td>1                  </td><td>The Simpsons       </td><td>The Simpsons       </td></tr>\n",
       "\t<tr><td>Waylon Smithers    </td><td>marge              </td><td>   1               </td><td>1                  </td><td>The Simpsons       </td><td>The Simpsons       </td></tr>\n",
       "\t<tr><td>C. Montgomery Burns</td><td>marge              </td><td>  11               </td><td>1                  </td><td>The Simpsons       </td><td>The Simpsons       </td></tr>\n",
       "</tbody>\n",
       "</table>\n"
      ],
      "text/latex": [
       "\\begin{tabular}{r|llllll}\n",
       " document & term & count & .topic & consensus & serie\\\\\n",
       "\\hline\n",
       "\t Homer Simpson       & marge               & 1822                & 1                   & The Simpsons        & The Simpsons       \\\\\n",
       "\t Marge Simpson       & marge               &   82                & 1                   & The Simpsons        & The Simpsons       \\\\\n",
       "\t Lisa Simpson        & marge               &    2                & 1                   & The Simpsons        & The Simpsons       \\\\\n",
       "\t Bart Simpson        & marge               &    5                & 1                   & The Simpsons        & The Simpsons       \\\\\n",
       "\t Waylon Smithers     & marge               &    1                & 1                   & The Simpsons        & The Simpsons       \\\\\n",
       "\t C. Montgomery Burns & marge               &   11                & 1                   & The Simpsons        & The Simpsons       \\\\\n",
       "\\end{tabular}\n"
      ],
      "text/markdown": [
       "\n",
       "| document | term | count | .topic | consensus | serie |\n",
       "|---|---|---|---|---|---|\n",
       "| Homer Simpson       | marge               | 1822                | 1                   | The Simpsons        | The Simpsons        |\n",
       "| Marge Simpson       | marge               |   82                | 1                   | The Simpsons        | The Simpsons        |\n",
       "| Lisa Simpson        | marge               |    2                | 1                   | The Simpsons        | The Simpsons        |\n",
       "| Bart Simpson        | marge               |    5                | 1                   | The Simpsons        | The Simpsons        |\n",
       "| Waylon Smithers     | marge               |    1                | 1                   | The Simpsons        | The Simpsons        |\n",
       "| C. Montgomery Burns | marge               |   11                | 1                   | The Simpsons        | The Simpsons        |\n",
       "\n"
      ],
      "text/plain": [
       "  document            term  count .topic consensus    serie       \n",
       "1 Homer Simpson       marge 1822  1      The Simpsons The Simpsons\n",
       "2 Marge Simpson       marge   82  1      The Simpsons The Simpsons\n",
       "3 Lisa Simpson        marge    2  1      The Simpsons The Simpsons\n",
       "4 Bart Simpson        marge    5  1      The Simpsons The Simpsons\n",
       "5 Waylon Smithers     marge    1  1      The Simpsons The Simpsons\n",
       "6 C. Montgomery Burns marge   11  1      The Simpsons The Simpsons"
      ]
     },
     "metadata": {},
     "output_type": "display_data"
    }
   ],
   "source": [
    "# Tópicos\n",
    "topicos_series <- personajes_clasificacion %>%\n",
    "  count(serie, topic) %>%\n",
    "  group_by(serie) %>%\n",
    "  top_n(1, n) %>%\n",
    "  ungroup() %>%\n",
    "  transmute(consensus = serie, topic)\n",
    "\n",
    "# Asignaciones\n",
    "asignaciones <- asignaciones %>%\n",
    "  inner_join(topicos_series, by = c(\".topic\" = \"topic\"))\n",
    "\n",
    "# Agrego columna con nombres de las series\n",
    "asignaciones <- data.table(asignaciones)\n",
    "asignaciones[document %in% personajes_ts , serie := \"The Simpsons\"    ]\n",
    "asignaciones[document %in% personajes_got, serie := \"Games of Thrones\"]\n",
    "\n",
    "head(asignaciones)"
   ]
  },
  {
   "cell_type": "code",
   "execution_count": 32,
   "metadata": {},
   "outputs": [
    {
     "data": {
      "text/html": [
       "<table>\n",
       "<thead><tr><th scope=col>serie</th><th scope=col>consensus</th><th scope=col>n</th><th scope=col>percent</th></tr></thead>\n",
       "<tbody>\n",
       "\t<tr><td>Games of Thrones</td><td>Games of Thrones</td><td> 45230          </td><td>99.99           </td></tr>\n",
       "\t<tr><td>Games of Thrones</td><td>The Simpsons    </td><td>     4          </td><td> 0.01           </td></tr>\n",
       "\t<tr><td>The Simpsons    </td><td>Games of Thrones</td><td>  6397          </td><td> 2.07           </td></tr>\n",
       "\t<tr><td>The Simpsons    </td><td>The Simpsons    </td><td>302044          </td><td>97.93           </td></tr>\n",
       "</tbody>\n",
       "</table>\n"
      ],
      "text/latex": [
       "\\begin{tabular}{r|llll}\n",
       " serie & consensus & n & percent\\\\\n",
       "\\hline\n",
       "\t Games of Thrones & Games of Thrones &  45230           & 99.99           \\\\\n",
       "\t Games of Thrones & The Simpsons     &      4           &  0.01           \\\\\n",
       "\t The Simpsons     & Games of Thrones &   6397           &  2.07           \\\\\n",
       "\t The Simpsons     & The Simpsons     & 302044           & 97.93           \\\\\n",
       "\\end{tabular}\n"
      ],
      "text/markdown": [
       "\n",
       "| serie | consensus | n | percent |\n",
       "|---|---|---|---|\n",
       "| Games of Thrones | Games of Thrones |  45230           | 99.99            |\n",
       "| Games of Thrones | The Simpsons     |      4           |  0.01            |\n",
       "| The Simpsons     | Games of Thrones |   6397           |  2.07            |\n",
       "| The Simpsons     | The Simpsons     | 302044           | 97.93            |\n",
       "\n"
      ],
      "text/plain": [
       "  serie            consensus        n      percent\n",
       "1 Games of Thrones Games of Thrones  45230 99.99  \n",
       "2 Games of Thrones The Simpsons          4  0.01  \n",
       "3 The Simpsons     Games of Thrones   6397  2.07  \n",
       "4 The Simpsons     The Simpsons     302044 97.93  "
      ]
     },
     "metadata": {},
     "output_type": "display_data"
    }
   ],
   "source": [
    "# Porcentajes de asignaciones correctas o incorrectas\n",
    "matriz_asignaciones <- asignaciones %>%\n",
    "  count(serie, consensus, wt = count) %>%\n",
    "  group_by(serie) %>%\n",
    "  mutate(percent = round(n / sum(n) *100, 2))\n",
    "\n",
    "matriz_asignaciones "
   ]
  },
  {
   "cell_type": "code",
   "execution_count": 33,
   "metadata": {},
   "outputs": [
    {
     "data": {
      "image/png": "[encoded data removed]",
      "text/plain": [
       "plot without title"
      ]
     },
     "metadata": {},
     "output_type": "display_data"
    }
   ],
   "source": [
    "# Gráfico (matriz) de asignaciones\n",
    "asignaciones %>%\n",
    "  count(serie, consensus, wt = count) %>%\n",
    "  group_by(serie) %>%\n",
    "  mutate(percent = n / sum(n)) %>%\n",
    "  ggplot(aes(consensus, serie, fill = percent)) +\n",
    "  geom_tile() +\n",
    "  scale_fill_gradient2(high = \"red\", label = percent_format()) +\n",
    "  theme_minimal() +\n",
    "  theme(axis.text.x = element_text(angle = 90, hjust = 1),\n",
    "        panel.grid = element_blank()) +\n",
    "  labs(x = \"Palabras de los personajes asignadas a\",\n",
    "       y = \"palabras de personajes que provienen de\",\n",
    "       fill = \"% de asignaciones\")"
   ]
  },
  {
   "cell_type": "markdown",
   "metadata": {},
   "source": [
    "Se observa en el gráfico como un 2% de palabras que provienen de personajes de Los Simpsons fueron asignadas al tópico de Game of Throne."
   ]
  },
  {
   "cell_type": "markdown",
   "metadata": {},
   "source": [
    "### Palabras confundidas"
   ]
  },
  {
   "cell_type": "code",
   "execution_count": 34,
   "metadata": {},
   "outputs": [
    {
     "name": "stderr",
     "output_type": "stream",
     "text": [
      "Selecting by n\n"
     ]
    },
    {
     "data": {
      "text/html": [
       "<table>\n",
       "<thead><tr><th scope=col>serie</th><th scope=col>document</th><th scope=col>consensus</th><th scope=col>term</th><th scope=col>n</th></tr></thead>\n",
       "<tbody>\n",
       "\t<tr><td>The Simpsons    </td><td>Waylon Smithers </td><td>Games of Thrones</td><td>sir             </td><td>419             </td></tr>\n",
       "\t<tr><td>The Simpsons    </td><td>Nelson Muntz    </td><td>Games of Thrones</td><td>haw             </td><td>273             </td></tr>\n",
       "\t<tr><td>The Simpsons    </td><td>Lisa Simpson    </td><td>Games of Thrones</td><td>brother         </td><td> 57             </td></tr>\n",
       "\t<tr><td>The Simpsons    </td><td>Lisa Simpson    </td><td>Games of Thrones</td><td>father          </td><td> 40             </td></tr>\n",
       "\t<tr><td>The Simpsons    </td><td>Seymour Skinner </td><td>Games of Thrones</td><td>sir             </td><td> 28             </td></tr>\n",
       "\t<tr><td>The Simpsons    </td><td>Seymour Skinner </td><td>Games of Thrones</td><td>superintendent  </td><td> 27             </td></tr>\n",
       "\t<tr><td>The Simpsons    </td><td>Lisa Simpson    </td><td>Games of Thrones</td><td>fight           </td><td> 25             </td></tr>\n",
       "\t<tr><td>The Simpsons    </td><td>Lisa Simpson    </td><td>Games of Thrones</td><td>speak           </td><td> 24             </td></tr>\n",
       "\t<tr><td>The Simpsons    </td><td>Seymour Skinner </td><td>Games of Thrones</td><td>lord            </td><td> 24             </td></tr>\n",
       "\t<tr><td>The Simpsons    </td><td>Lisa Simpson    </td><td>Games of Thrones</td><td>stacy           </td><td> 23             </td></tr>\n",
       "</tbody>\n",
       "</table>\n"
      ],
      "text/latex": [
       "\\begin{tabular}{r|lllll}\n",
       " serie & document & consensus & term & n\\\\\n",
       "\\hline\n",
       "\t The Simpsons     & Waylon Smithers  & Games of Thrones & sir              & 419             \\\\\n",
       "\t The Simpsons     & Nelson Muntz     & Games of Thrones & haw              & 273             \\\\\n",
       "\t The Simpsons     & Lisa Simpson     & Games of Thrones & brother          &  57             \\\\\n",
       "\t The Simpsons     & Lisa Simpson     & Games of Thrones & father           &  40             \\\\\n",
       "\t The Simpsons     & Seymour Skinner  & Games of Thrones & sir              &  28             \\\\\n",
       "\t The Simpsons     & Seymour Skinner  & Games of Thrones & superintendent   &  27             \\\\\n",
       "\t The Simpsons     & Lisa Simpson     & Games of Thrones & fight            &  25             \\\\\n",
       "\t The Simpsons     & Lisa Simpson     & Games of Thrones & speak            &  24             \\\\\n",
       "\t The Simpsons     & Seymour Skinner  & Games of Thrones & lord             &  24             \\\\\n",
       "\t The Simpsons     & Lisa Simpson     & Games of Thrones & stacy            &  23             \\\\\n",
       "\\end{tabular}\n"
      ],
      "text/markdown": [
       "\n",
       "| serie | document | consensus | term | n |\n",
       "|---|---|---|---|---|\n",
       "| The Simpsons     | Waylon Smithers  | Games of Thrones | sir              | 419              |\n",
       "| The Simpsons     | Nelson Muntz     | Games of Thrones | haw              | 273              |\n",
       "| The Simpsons     | Lisa Simpson     | Games of Thrones | brother          |  57              |\n",
       "| The Simpsons     | Lisa Simpson     | Games of Thrones | father           |  40              |\n",
       "| The Simpsons     | Seymour Skinner  | Games of Thrones | sir              |  28              |\n",
       "| The Simpsons     | Seymour Skinner  | Games of Thrones | superintendent   |  27              |\n",
       "| The Simpsons     | Lisa Simpson     | Games of Thrones | fight            |  25              |\n",
       "| The Simpsons     | Lisa Simpson     | Games of Thrones | speak            |  24              |\n",
       "| The Simpsons     | Seymour Skinner  | Games of Thrones | lord             |  24              |\n",
       "| The Simpsons     | Lisa Simpson     | Games of Thrones | stacy            |  23              |\n",
       "\n"
      ],
      "text/plain": [
       "   serie        document        consensus        term           n  \n",
       "1  The Simpsons Waylon Smithers Games of Thrones sir            419\n",
       "2  The Simpsons Nelson Muntz    Games of Thrones haw            273\n",
       "3  The Simpsons Lisa Simpson    Games of Thrones brother         57\n",
       "4  The Simpsons Lisa Simpson    Games of Thrones father          40\n",
       "5  The Simpsons Seymour Skinner Games of Thrones sir             28\n",
       "6  The Simpsons Seymour Skinner Games of Thrones superintendent  27\n",
       "7  The Simpsons Lisa Simpson    Games of Thrones fight           25\n",
       "8  The Simpsons Lisa Simpson    Games of Thrones speak           24\n",
       "9  The Simpsons Seymour Skinner Games of Thrones lord            24\n",
       "10 The Simpsons Lisa Simpson    Games of Thrones stacy           23"
      ]
     },
     "metadata": {},
     "output_type": "display_data"
    }
   ],
   "source": [
    "palabras_equivocadas <- asignaciones %>%\n",
    "  filter(serie != consensus)\n",
    "\n",
    "palabras_equivocadas %>%\n",
    "  count(serie, document, consensus, term, wt = count) %>%\n",
    "  ungroup() %>%\n",
    "  top_n(10) %>%\n",
    "  arrange(desc(n))\n"
   ]
  },
  {
   "cell_type": "markdown",
   "metadata": {},
   "source": [
    "Por ejemplo la palabra \"sir\" pronunciada múltiples veces por Waylon Smithers se le asignó pertenecia al tópico 2 (Games of Thrones). Pero se puede verificar que únicamente fue pronunciada por personajes de Los Simpsons con lo cual hay un error en la clasificación del algoritmo."
   ]
  },
  {
   "cell_type": "code",
   "execution_count": 35,
   "metadata": {},
   "outputs": [
    {
     "data": {
      "text/html": [
       "<table>\n",
       "<thead><tr><th scope=col>personaje</th><th scope=col>word</th><th scope=col>n</th></tr></thead>\n",
       "<tbody>\n",
       "\t<tr><td>Waylon Smithers        </td><td>sir                    </td><td>419                    </td></tr>\n",
       "\t<tr><td>Homer Simpson          </td><td>sir                    </td><td>109                    </td></tr>\n",
       "\t<tr><td>Bart Simpson           </td><td>sir                    </td><td> 62                    </td></tr>\n",
       "\t<tr><td>Ned Flanders           </td><td>sir                    </td><td> 38                    </td></tr>\n",
       "\t<tr><td>Apu Nahasapeemapetilon </td><td>sir                    </td><td> 36                    </td></tr>\n",
       "\t<tr><td>Seymour Skinner        </td><td>sir                    </td><td> 28                    </td></tr>\n",
       "\t<tr><td>Lisa Simpson           </td><td>sir                    </td><td> 25                    </td></tr>\n",
       "\t<tr><td>Kent Brockman          </td><td>sir                    </td><td> 14                    </td></tr>\n",
       "\t<tr><td>Marge Simpson          </td><td>sir                    </td><td> 13                    </td></tr>\n",
       "\t<tr><td>Milhouse Van Houten    </td><td>sir                    </td><td> 10                    </td></tr>\n",
       "\t<tr><td>C. Montgomery Burns    </td><td>sir                    </td><td>  6                    </td></tr>\n",
       "\t<tr><td>Grampa Simpson         </td><td>sir                    </td><td>  3                    </td></tr>\n",
       "\t<tr><td>Krusty the Clown       </td><td>sir                    </td><td>  3                    </td></tr>\n",
       "\t<tr><td>Lenny Leonard          </td><td>sir                    </td><td>  3                    </td></tr>\n",
       "\t<tr><td>Moe Szyslak            </td><td>sir                    </td><td>  3                    </td></tr>\n",
       "\t<tr><td>Carl Carlson           </td><td>sir                    </td><td>  2                    </td></tr>\n",
       "\t<tr><td>Nelson Muntz           </td><td>sir                    </td><td>  2                    </td></tr>\n",
       "\t<tr><td>Chief Wiggum           </td><td>sir                    </td><td>  1                    </td></tr>\n",
       "\t<tr><td>Edna Krabappel-Flanders</td><td>sir                    </td><td>  1                    </td></tr>\n",
       "\t<tr><td>jon snow               </td><td>sir                    </td><td>  1                    </td></tr>\n",
       "\t<tr><td>sansa stark            </td><td>sir                    </td><td>  1                    </td></tr>\n",
       "</tbody>\n",
       "</table>\n"
      ],
      "text/latex": [
       "\\begin{tabular}{r|lll}\n",
       " personaje & word & n\\\\\n",
       "\\hline\n",
       "\t Waylon Smithers         & sir                     & 419                    \\\\\n",
       "\t Homer Simpson           & sir                     & 109                    \\\\\n",
       "\t Bart Simpson            & sir                     &  62                    \\\\\n",
       "\t Ned Flanders            & sir                     &  38                    \\\\\n",
       "\t Apu Nahasapeemapetilon  & sir                     &  36                    \\\\\n",
       "\t Seymour Skinner         & sir                     &  28                    \\\\\n",
       "\t Lisa Simpson            & sir                     &  25                    \\\\\n",
       "\t Kent Brockman           & sir                     &  14                    \\\\\n",
       "\t Marge Simpson           & sir                     &  13                    \\\\\n",
       "\t Milhouse Van Houten     & sir                     &  10                    \\\\\n",
       "\t C. Montgomery Burns     & sir                     &   6                    \\\\\n",
       "\t Grampa Simpson          & sir                     &   3                    \\\\\n",
       "\t Krusty the Clown        & sir                     &   3                    \\\\\n",
       "\t Lenny Leonard           & sir                     &   3                    \\\\\n",
       "\t Moe Szyslak             & sir                     &   3                    \\\\\n",
       "\t Carl Carlson            & sir                     &   2                    \\\\\n",
       "\t Nelson Muntz            & sir                     &   2                    \\\\\n",
       "\t Chief Wiggum            & sir                     &   1                    \\\\\n",
       "\t Edna Krabappel-Flanders & sir                     &   1                    \\\\\n",
       "\t jon snow                & sir                     &   1                    \\\\\n",
       "\t sansa stark             & sir                     &   1                    \\\\\n",
       "\\end{tabular}\n"
      ],
      "text/markdown": [
       "\n",
       "| personaje | word | n |\n",
       "|---|---|---|\n",
       "| Waylon Smithers         | sir                     | 419                     |\n",
       "| Homer Simpson           | sir                     | 109                     |\n",
       "| Bart Simpson            | sir                     |  62                     |\n",
       "| Ned Flanders            | sir                     |  38                     |\n",
       "| Apu Nahasapeemapetilon  | sir                     |  36                     |\n",
       "| Seymour Skinner         | sir                     |  28                     |\n",
       "| Lisa Simpson            | sir                     |  25                     |\n",
       "| Kent Brockman           | sir                     |  14                     |\n",
       "| Marge Simpson           | sir                     |  13                     |\n",
       "| Milhouse Van Houten     | sir                     |  10                     |\n",
       "| C. Montgomery Burns     | sir                     |   6                     |\n",
       "| Grampa Simpson          | sir                     |   3                     |\n",
       "| Krusty the Clown        | sir                     |   3                     |\n",
       "| Lenny Leonard           | sir                     |   3                     |\n",
       "| Moe Szyslak             | sir                     |   3                     |\n",
       "| Carl Carlson            | sir                     |   2                     |\n",
       "| Nelson Muntz            | sir                     |   2                     |\n",
       "| Chief Wiggum            | sir                     |   1                     |\n",
       "| Edna Krabappel-Flanders | sir                     |   1                     |\n",
       "| jon snow                | sir                     |   1                     |\n",
       "| sansa stark             | sir                     |   1                     |\n",
       "\n"
      ],
      "text/plain": [
       "   personaje               word n  \n",
       "1  Waylon Smithers         sir  419\n",
       "2  Homer Simpson           sir  109\n",
       "3  Bart Simpson            sir   62\n",
       "4  Ned Flanders            sir   38\n",
       "5  Apu Nahasapeemapetilon  sir   36\n",
       "6  Seymour Skinner         sir   28\n",
       "7  Lisa Simpson            sir   25\n",
       "8  Kent Brockman           sir   14\n",
       "9  Marge Simpson           sir   13\n",
       "10 Milhouse Van Houten     sir   10\n",
       "11 C. Montgomery Burns     sir    6\n",
       "12 Grampa Simpson          sir    3\n",
       "13 Krusty the Clown        sir    3\n",
       "14 Lenny Leonard           sir    3\n",
       "15 Moe Szyslak             sir    3\n",
       "16 Carl Carlson            sir    2\n",
       "17 Nelson Muntz            sir    2\n",
       "18 Chief Wiggum            sir    1\n",
       "19 Edna Krabappel-Flanders sir    1\n",
       "20 jon snow                sir    1\n",
       "21 sansa stark             sir    1"
      ]
     },
     "metadata": {},
     "output_type": "display_data"
    }
   ],
   "source": [
    "# Menciones de la palabra \"sir\"\n",
    "palabras_cantidad %>%\n",
    "  filter(word == \"sir\")"
   ]
  },
  {
   "cell_type": "markdown",
   "metadata": {},
   "source": [
    "#### Como conclusión se puede decir que, si bien en este caso se conoce la cantidad real de tópicos, el algoritmo LDA analizado consiguió discriminar de manera no supervisada satisfactoriamente los tópicos esperados (series). Solamente un 2% de palabras que provienen de diálogos de Los Simpsons fueron asignadas a documentos (personajes) de Games of Thrones. "
   ]
  }
 ],
 "metadata": {
  "kernelspec": {
   "display_name": "Python 3",
   "language": "python",
   "name": "python3"
  },
  "language_info": {
   "codemirror_mode": {
    "name": "ipython",
    "version": 3
   },
   "file_extension": ".py",
   "mimetype": "text/x-python",
   "name": "python",
   "nbconvert_exporter": "python",
   "pygments_lexer": "ipython3",
   "version": "3.8.3"
  }
 },
 "nbformat": 4,
 "nbformat_minor": 2
}
