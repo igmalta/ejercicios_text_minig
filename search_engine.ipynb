{
 "cells": [
  {
   "cell_type": "markdown",
   "metadata": {},
   "source": [
    "## Ejercicio Nro. 3 - Search engine con R"
   ]
  },
  {
   "cell_type": "code",
   "execution_count": null,
   "metadata": {},
   "outputs": [],
   "source": [
    "# Bajar tweets con tema a elección\n",
    "# Para ello deben crearse un usuario de twitter, y entrar en el modo desarrollador, para que les genere las claves para el token\n",
    "# Agregar función de stemming para limpiar\n",
    "# Correr función de búsqueda de cuatro palabras, tener en cuenta que esas cuatro palabras tienen que tener stemming tambien. "
   ]
  },
  {
   "cell_type": "markdown",
   "metadata": {},
   "source": [
    "## Librerías"
   ]
  },
  {
   "cell_type": "code",
   "execution_count": 2,
   "metadata": {},
   "outputs": [],
   "source": [
    "# Instalación\n",
    "packages <- c(\"httpuv\", \"rtweet\", \"ggplot2\", \"dplyr\", \"tidytext\", \"purrr\", \"stringr\", \"tm\")\n",
    "if (length(setdiff(packages, rownames(installed.packages()))) > 0) {\n",
    "  install.packages(setdiff(packages, rownames(installed.packages())))  \n",
    "}\n",
    "\n",
    "# Cargo librerías\n",
    "library(\"httpuv\")\n",
    "library(\"rtweet\")\n",
    "library(\"ggplot2\")\n",
    "library(\"dplyr\")\n",
    "library(\"tidytext\")\n",
    "library(\"purrr\")\n",
    "library(\"stringr\")\n",
    "library(\"tm\")"
   ]
  },
  {
   "cell_type": "markdown",
   "metadata": {},
   "source": [
    "## Conexión a Twitter"
   ]
  },
  {
   "cell_type": "code",
   "execution_count": 16,
   "metadata": {},
   "outputs": [],
   "source": [
    "## Buscar sus claves y copiarlas\n",
    "api_key <- \"8F7a0IwVrOUXEoHAqDmd...\"\n",
    "api_secret_key <- \"NpuRVqrFLSel9WF54xIKUI3qph6LACF8DKYt9N0PbdMLZl...\"\n",
    "\n",
    "## authenticate via web browser\n",
    "token <- create_token(\n",
    "  app = 'txmUTN',\n",
    "  consumer_key = api_key,\n",
    "  consumer_secret = api_secret_key)"
   ]
  },
  {
   "cell_type": "markdown",
   "metadata": {},
   "source": [
    "## Scraping de tweets"
   ]
  },
  {
   "cell_type": "code",
   "execution_count": 4,
   "metadata": {},
   "outputs": [
    {
     "name": "stderr",
     "output_type": "stream",
     "text": [
      "Downloading [====================================>----]  90%Warning message:\n",
      "\"Rate limit exceeded - 88\"Warning message:\n",
      "\"Rate limit exceeded\""
     ]
    },
    {
     "data": {
      "text/html": [
       "<table>\n",
       "<thead><tr><th scope=col>user_id</th><th scope=col>status_id</th><th scope=col>created_at</th><th scope=col>screen_name</th><th scope=col>text</th><th scope=col>source</th><th scope=col>display_text_width</th><th scope=col>reply_to_status_id</th><th scope=col>reply_to_user_id</th><th scope=col>reply_to_screen_name</th><th scope=col>...</th><th scope=col>statuses_count</th><th scope=col>favourites_count</th><th scope=col>account_created_at</th><th scope=col>verified</th><th scope=col>profile_url</th><th scope=col>profile_expanded_url</th><th scope=col>account_lang</th><th scope=col>profile_banner_url</th><th scope=col>profile_background_url</th><th scope=col>profile_image_url</th></tr></thead>\n",
       "<tbody>\n",
       "\t<tr><td>718070828563349505                                                                                                                                                                                                                                                                     </td><td>1275161447941713926                                                                                                                                                                                                                                                                    </td><td>2020-06-22 20:19:15                                                                                                                                                                                                                                                                    </td><td>DellatorreRaul                                                                                                                                                                                                                                                                         </td><td>VICENTIN: \"NO HAY UN DEBATE POLITICO EN EL GOBIERNO\". Pedro Peretti en Siempre es ... https://t.co/qQQ7wfZeyh\n",
       "#Argentina #Vicentin #offshorear #debate                                                                                                                                </td><td>Twitter for Android                                                                                                                                                                                                                                                                    </td><td>150                                                                                                                                                                                                                                                                                    </td><td>NA                                                                                                                                                                                                                                                                                     </td><td>NA                                                                                                                                                                                                                                                                                     </td><td>NA                                                                                                                                                                                                                                                                                     </td><td>...                                                                                                                                                                                                                                                                                    </td><td>1738                                                                                                                                                                                                                                                                                   </td><td>1076                                                                                                                                                                                                                                                                                   </td><td>2016-04-07 13:40:01                                                                                                                                                                                                                                                                    </td><td>FALSE                                                                                                                                                                                                                                                                                  </td><td>https://t.co/rUxTWPZjwd                                                                                                                                                                                                                                                                </td><td>http://motoreconomico.com.ar/                                                                                                                                                                                                                                                          </td><td>NA                                                                                                                                                                                                                                                                                     </td><td>https://pbs.twimg.com/profile_banners/718070828563349505/1583780814                                                                                                                                                                                                                    </td><td>http://abs.twimg.com/images/themes/theme1/bg.png                                                                                                                                                                                                                                       </td><td>http://pbs.twimg.com/profile_images/1109755274624200705/A9e9TXn8_normal.jpg                                                                                                                                                                                                            </td></tr>\n",
       "\t<tr><td>718070828563349505                                                                                                                                                                                                                                                                     </td><td>1275036346260885509                                                                                                                                                                                                                                                                    </td><td>2020-06-22 12:02:08                                                                                                                                                                                                                                                                    </td><td>DellatorreRaul                                                                                                                                                                                                                                                                         </td><td>No ES SOLO VICENTIN. El río Paraná esta privatizado. Es una  caja negra. Por allí salen u$s 28.000 millones  de exportaciones anuales en granos y oleaginosas al margen de la vista del Estado. Todos los años este complejo transnacionalizado le evade al fisco 1500 millones de uss.</td><td>Twitter for Android                                                                                                                                                                                                                                                                    </td><td>279                                                                                                                                                                                                                                                                                    </td><td>NA                                                                                                                                                                                                                                                                                     </td><td>NA                                                                                                                                                                                                                                                                                     </td><td>NA                                                                                                                                                                                                                                                                                     </td><td>...                                                                                                                                                                                                                                                                                    </td><td>1738                                                                                                                                                                                                                                                                                   </td><td>1076                                                                                                                                                                                                                                                                                   </td><td>2016-04-07 13:40:01                                                                                                                                                                                                                                                                    </td><td>FALSE                                                                                                                                                                                                                                                                                  </td><td>https://t.co/rUxTWPZjwd                                                                                                                                                                                                                                                                </td><td>http://motoreconomico.com.ar/                                                                                                                                                                                                                                                          </td><td>NA                                                                                                                                                                                                                                                                                     </td><td>https://pbs.twimg.com/profile_banners/718070828563349505/1583780814                                                                                                                                                                                                                    </td><td>http://abs.twimg.com/images/themes/theme1/bg.png                                                                                                                                                                                                                                       </td><td>http://pbs.twimg.com/profile_images/1109755274624200705/A9e9TXn8_normal.jpg                                                                                                                                                                                                            </td></tr>\n",
       "\t<tr><td>718070828563349505                                                                                                                                                                                                                                                                     </td><td>1275037131463892992                                                                                                                                                                                                                                                                    </td><td>2020-06-22 12:05:15                                                                                                                                                                                                                                                                    </td><td>DellatorreRaul                                                                                                                                                                                                                                                                         </td><td>NO SOLO ES VICENTIN. Todos los años este complejo transnacionalizado le evade al fisco u$s1500 millones. Los puertos son de ellos. Los elevadores de granos de ellos. La concesión de la hidrovía de ellos. No tenemos como controlarlos. Es eso lo que está en disputa. No Vicentìn   </td><td>Twitter for Android                                                                                                                                                                                                                                                                    </td><td>276                                                                                                                                                                                                                                                                                    </td><td>NA                                                                                                                                                                                                                                                                                     </td><td>NA                                                                                                                                                                                                                                                                                     </td><td>NA                                                                                                                                                                                                                                                                                     </td><td>...                                                                                                                                                                                                                                                                                    </td><td>1738                                                                                                                                                                                                                                                                                   </td><td>1076                                                                                                                                                                                                                                                                                   </td><td>2016-04-07 13:40:01                                                                                                                                                                                                                                                                    </td><td>FALSE                                                                                                                                                                                                                                                                                  </td><td>https://t.co/rUxTWPZjwd                                                                                                                                                                                                                                                                </td><td>http://motoreconomico.com.ar/                                                                                                                                                                                                                                                          </td><td>NA                                                                                                                                                                                                                                                                                     </td><td>https://pbs.twimg.com/profile_banners/718070828563349505/1583780814                                                                                                                                                                                                                    </td><td>http://abs.twimg.com/images/themes/theme1/bg.png                                                                                                                                                                                                                                       </td><td>http://pbs.twimg.com/profile_images/1109755274624200705/A9e9TXn8_normal.jpg                                                                                                                                                                                                            </td></tr>\n",
       "\t<tr><td>166206368                                                                                                                                                                                                                                                                              </td><td>1275161416190832641                                                                                                                                                                                                                                                                    </td><td>2020-06-22 20:19:07                                                                                                                                                                                                                                                                    </td><td>agustynn77                                                                                                                                                                                                                                                                             </td><td>@g_alonsoshell @clarincom Cuando Vicentin robo al Estado?                                                                                                                                                                                                                              </td><td>Twitter for Android                                                                                                                                                                                                                                                                    </td><td> 31                                                                                                                                                                                                                                                                                    </td><td>1275149939954368513                                                                                                                                                                                                                                                                    </td><td>1248868691225333760                                                                                                                                                                                                                                                                    </td><td>g_alonsoshell                                                                                                                                                                                                                                                                          </td><td>...                                                                                                                                                                                                                                                                                    </td><td> 656                                                                                                                                                                                                                                                                                   </td><td>2999                                                                                                                                                                                                                                                                                   </td><td>2010-07-13 16:05:15                                                                                                                                                                                                                                                                    </td><td>FALSE                                                                                                                                                                                                                                                                                  </td><td>NA                                                                                                                                                                                                                                                                                     </td><td>NA                                                                                                                                                                                                                                                                                     </td><td>NA                                                                                                                                                                                                                                                                                     </td><td>NA                                                                                                                                                                                                                                                                                     </td><td>http://abs.twimg.com/images/themes/theme1/bg.png                                                                                                                                                                                                                                       </td><td>http://pbs.twimg.com/profile_images/1256753874293194752/CXoiNif5_normal.jpg                                                                                                                                                                                                            </td></tr>\n",
       "\t<tr><td>767020227280379913                                                                                                                                                                                                                                                                     </td><td>1275161394896408577                                                                                                                                                                                                                                                                    </td><td>2020-06-22 20:19:02                                                                                                                                                                                                                                                                    </td><td>leoaguirrec                                                                                                                                                                                                                                                                            </td><td>Si salen a la calle por la cuarentena y vicentin, imaginate cuando volvamos a fase 1...                                                                                                                                                                                                </td><td>Twitter for Android                                                                                                                                                                                                                                                                    </td><td> 87                                                                                                                                                                                                                                                                                    </td><td>NA                                                                                                                                                                                                                                                                                     </td><td>NA                                                                                                                                                                                                                                                                                     </td><td>NA                                                                                                                                                                                                                                                                                     </td><td>...                                                                                                                                                                                                                                                                                    </td><td>9940                                                                                                                                                                                                                                                                                   </td><td>1435                                                                                                                                                                                                                                                                                   </td><td>2016-08-20 15:27:27                                                                                                                                                                                                                                                                    </td><td>FALSE                                                                                                                                                                                                                                                                                  </td><td>NA                                                                                                                                                                                                                                                                                     </td><td>NA                                                                                                                                                                                                                                                                                     </td><td>NA                                                                                                                                                                                                                                                                                     </td><td>https://pbs.twimg.com/profile_banners/767020227280379913/1471709877                                                                                                                                                                                                                    </td><td>NA                                                                                                                                                                                                                                                                                     </td><td>http://pbs.twimg.com/profile_images/1246909002480574465/0kh-6Zg-_normal.jpg                                                                                                                                                                                                            </td></tr>\n",
       "</tbody>\n",
       "</table>\n"
      ],
      "text/latex": [
       "\\begin{tabular}{r|llllllllllllllllllllllllllllllllllllllllllllllllllllllllllllllllllllllllllllllllllllllllll}\n",
       " user\\_id & status\\_id & created\\_at & screen\\_name & text & source & display\\_text\\_width & reply\\_to\\_status\\_id & reply\\_to\\_user\\_id & reply\\_to\\_screen\\_name & ... & statuses\\_count & favourites\\_count & account\\_created\\_at & verified & profile\\_url & profile\\_expanded\\_url & account\\_lang & profile\\_banner\\_url & profile\\_background\\_url & profile\\_image\\_url\\\\\n",
       "\\hline\n",
       "\t 718070828563349505                                                                                                                                                                                                                                                                              & 1275161447941713926                                                                                                                                                                                                                                                                             & 2020-06-22 20:19:15                                                                                                                                                                                                                                                                             & DellatorreRaul                                                                                                                                                                                                                                                                                  & VICENTIN: \"NO HAY UN DEBATE POLITICO EN EL GOBIERNO\". Pedro Peretti en Siempre es ... https://t.co/qQQ7wfZeyh\n",
       "\\#Argentina \\#Vicentin \\#offshorear \\#debate                                                                                                                                 & Twitter for Android                                                                                                                                                                                                                                                                             & 150                                                                                                                                                                                                                                                                                             & NA                                                                                                                                                                                                                                                                                              & NA                                                                                                                                                                                                                                                                                              & NA                                                                                                                                                                                                                                                                                              & ...                                                                                                                                                                                                                                                                                             & 1738                                                                                                                                                                                                                                                                                            & 1076                                                                                                                                                                                                                                                                                            & 2016-04-07 13:40:01                                                                                                                                                                                                                                                                             & FALSE                                                                                                                                                                                                                                                                                           & https://t.co/rUxTWPZjwd                                                                                                                                                                                                                                                                         & http://motoreconomico.com.ar/                                                                                                                                                                                                                                                                   & NA                                                                                                                                                                                                                                                                                              & https://pbs.twimg.com/profile\\_banners/718070828563349505/1583780814                                                                                                                                                                                                                           & http://abs.twimg.com/images/themes/theme1/bg.png                                                                                                                                                                                                                                                & http://pbs.twimg.com/profile\\_images/1109755274624200705/A9e9TXn8\\_normal.jpg                                                                                                                                                                                                                \\\\\n",
       "\t 718070828563349505                                                                                                                                                                                                                                                                        & 1275036346260885509                                                                                                                                                                                                                                                                       & 2020-06-22 12:02:08                                                                                                                                                                                                                                                                       & DellatorreRaul                                                                                                                                                                                                                                                                            & No ES SOLO VICENTIN. El río Paraná esta privatizado. Es una  caja negra. Por allí salen u\\$s 28.000 millones  de exportaciones anuales en granos y oleaginosas al margen de la vista del Estado. Todos los años este complejo transnacionalizado le evade al fisco 1500 millones de uss. & Twitter for Android                                                                                                                                                                                                                                                                       & 279                                                                                                                                                                                                                                                                                       & NA                                                                                                                                                                                                                                                                                        & NA                                                                                                                                                                                                                                                                                        & NA                                                                                                                                                                                                                                                                                        & ...                                                                                                                                                                                                                                                                                       & 1738                                                                                                                                                                                                                                                                                      & 1076                                                                                                                                                                                                                                                                                      & 2016-04-07 13:40:01                                                                                                                                                                                                                                                                       & FALSE                                                                                                                                                                                                                                                                                     & https://t.co/rUxTWPZjwd                                                                                                                                                                                                                                                                   & http://motoreconomico.com.ar/                                                                                                                                                                                                                                                             & NA                                                                                                                                                                                                                                                                                        & https://pbs.twimg.com/profile\\_banners/718070828563349505/1583780814                                                                                                                                                                                                                     & http://abs.twimg.com/images/themes/theme1/bg.png                                                                                                                                                                                                                                          & http://pbs.twimg.com/profile\\_images/1109755274624200705/A9e9TXn8\\_normal.jpg                                                                                                                                                                                                          \\\\\n",
       "\t 718070828563349505                                                                                                                                                                                                                                                                        & 1275037131463892992                                                                                                                                                                                                                                                                       & 2020-06-22 12:05:15                                                                                                                                                                                                                                                                       & DellatorreRaul                                                                                                                                                                                                                                                                            & NO SOLO ES VICENTIN. Todos los años este complejo transnacionalizado le evade al fisco u\\$s1500 millones. Los puertos son de ellos. Los elevadores de granos de ellos. La concesión de la hidrovía de ellos. No tenemos como controlarlos. Es eso lo que está en disputa. No Vicentìn    & Twitter for Android                                                                                                                                                                                                                                                                       & 276                                                                                                                                                                                                                                                                                       & NA                                                                                                                                                                                                                                                                                        & NA                                                                                                                                                                                                                                                                                        & NA                                                                                                                                                                                                                                                                                        & ...                                                                                                                                                                                                                                                                                       & 1738                                                                                                                                                                                                                                                                                      & 1076                                                                                                                                                                                                                                                                                      & 2016-04-07 13:40:01                                                                                                                                                                                                                                                                       & FALSE                                                                                                                                                                                                                                                                                     & https://t.co/rUxTWPZjwd                                                                                                                                                                                                                                                                   & http://motoreconomico.com.ar/                                                                                                                                                                                                                                                             & NA                                                                                                                                                                                                                                                                                        & https://pbs.twimg.com/profile\\_banners/718070828563349505/1583780814                                                                                                                                                                                                                     & http://abs.twimg.com/images/themes/theme1/bg.png                                                                                                                                                                                                                                          & http://pbs.twimg.com/profile\\_images/1109755274624200705/A9e9TXn8\\_normal.jpg                                                                                                                                                                                                          \\\\\n",
       "\t 166206368                                                                                                                                                                                                                                                                                 & 1275161416190832641                                                                                                                                                                                                                                                                       & 2020-06-22 20:19:07                                                                                                                                                                                                                                                                       & agustynn77                                                                                                                                                                                                                                                                                & @g\\_alonsoshell @clarincom Cuando Vicentin robo al Estado?                                                                                                                                                                                                                               & Twitter for Android                                                                                                                                                                                                                                                                       &  31                                                                                                                                                                                                                                                                                       & 1275149939954368513                                                                                                                                                                                                                                                                       & 1248868691225333760                                                                                                                                                                                                                                                                       & g\\_alonsoshell                                                                                                                                                                                                                                                                           & ...                                                                                                                                                                                                                                                                                       &  656                                                                                                                                                                                                                                                                                      & 2999                                                                                                                                                                                                                                                                                      & 2010-07-13 16:05:15                                                                                                                                                                                                                                                                       & FALSE                                                                                                                                                                                                                                                                                     & NA                                                                                                                                                                                                                                                                                        & NA                                                                                                                                                                                                                                                                                        & NA                                                                                                                                                                                                                                                                                        & NA                                                                                                                                                                                                                                                                                        & http://abs.twimg.com/images/themes/theme1/bg.png                                                                                                                                                                                                                                          & http://pbs.twimg.com/profile\\_images/1256753874293194752/CXoiNif5\\_normal.jpg                                                                                                                                                                                                          \\\\\n",
       "\t 767020227280379913                                                                                                                                                                                                                                                                      & 1275161394896408577                                                                                                                                                                                                                                                                     & 2020-06-22 20:19:02                                                                                                                                                                                                                                                                     & leoaguirrec                                                                                                                                                                                                                                                                             & Si salen a la calle por la cuarentena y vicentin, imaginate cuando volvamos a fase 1...                                                                                                                                                                                                 & Twitter for Android                                                                                                                                                                                                                                                                     &  87                                                                                                                                                                                                                                                                                     & NA                                                                                                                                                                                                                                                                                      & NA                                                                                                                                                                                                                                                                                      & NA                                                                                                                                                                                                                                                                                      & ...                                                                                                                                                                                                                                                                                     & 9940                                                                                                                                                                                                                                                                                    & 1435                                                                                                                                                                                                                                                                                    & 2016-08-20 15:27:27                                                                                                                                                                                                                                                                     & FALSE                                                                                                                                                                                                                                                                                   & NA                                                                                                                                                                                                                                                                                      & NA                                                                                                                                                                                                                                                                                      & NA                                                                                                                                                                                                                                                                                      & https://pbs.twimg.com/profile\\_banners/767020227280379913/1471709877                                                                                                                                                                                                                   & NA                                                                                                                                                                                                                                                                                      & http://pbs.twimg.com/profile\\_images/1246909002480574465/0kh-6Zg-\\_normal.jpg                                                                                                                                                                                                        \\\\\n",
       "\\end{tabular}\n"
      ],
      "text/markdown": [
       "\n",
       "| user_id | status_id | created_at | screen_name | text | source | display_text_width | reply_to_status_id | reply_to_user_id | reply_to_screen_name | ... | statuses_count | favourites_count | account_created_at | verified | profile_url | profile_expanded_url | account_lang | profile_banner_url | profile_background_url | profile_image_url |\n",
       "|---|---|---|---|---|---|---|---|---|---|---|---|---|---|---|---|---|---|---|---|---|\n",
       "| 718070828563349505                                                                                                                                                                                                                                                                      | 1275161447941713926                                                                                                                                                                                                                                                                     | 2020-06-22 20:19:15                                                                                                                                                                                                                                                                     | DellatorreRaul                                                                                                                                                                                                                                                                          | VICENTIN: \"NO HAY UN DEBATE POLITICO EN EL GOBIERNO\". Pedro Peretti en Siempre es ... https://t.co/qQQ7wfZeyh\n",
       "#Argentina #Vicentin #offshorear #debate                                                                                                                                 | Twitter for Android                                                                                                                                                                                                                                                                     | 150                                                                                                                                                                                                                                                                                     | NA                                                                                                                                                                                                                                                                                      | NA                                                                                                                                                                                                                                                                                      | NA                                                                                                                                                                                                                                                                                      | ...                                                                                                                                                                                                                                                                                     | 1738                                                                                                                                                                                                                                                                                    | 1076                                                                                                                                                                                                                                                                                    | 2016-04-07 13:40:01                                                                                                                                                                                                                                                                     | FALSE                                                                                                                                                                                                                                                                                   | https://t.co/rUxTWPZjwd                                                                                                                                                                                                                                                                 | http://motoreconomico.com.ar/                                                                                                                                                                                                                                                           | NA                                                                                                                                                                                                                                                                                      | https://pbs.twimg.com/profile_banners/718070828563349505/1583780814                                                                                                                                                                                                                     | http://abs.twimg.com/images/themes/theme1/bg.png                                                                                                                                                                                                                                        | http://pbs.twimg.com/profile_images/1109755274624200705/A9e9TXn8_normal.jpg                                                                                                                                                                                                             |\n",
       "| 718070828563349505                                                                                                                                                                                                                                                                      | 1275036346260885509                                                                                                                                                                                                                                                                     | 2020-06-22 12:02:08                                                                                                                                                                                                                                                                     | DellatorreRaul                                                                                                                                                                                                                                                                          | No ES SOLO VICENTIN. El río Paraná esta privatizado. Es una  caja negra. Por allí salen u$s 28.000 millones  de exportaciones anuales en granos y oleaginosas al margen de la vista del Estado. Todos los años este complejo transnacionalizado le evade al fisco 1500 millones de uss. | Twitter for Android                                                                                                                                                                                                                                                                     | 279                                                                                                                                                                                                                                                                                     | NA                                                                                                                                                                                                                                                                                      | NA                                                                                                                                                                                                                                                                                      | NA                                                                                                                                                                                                                                                                                      | ...                                                                                                                                                                                                                                                                                     | 1738                                                                                                                                                                                                                                                                                    | 1076                                                                                                                                                                                                                                                                                    | 2016-04-07 13:40:01                                                                                                                                                                                                                                                                     | FALSE                                                                                                                                                                                                                                                                                   | https://t.co/rUxTWPZjwd                                                                                                                                                                                                                                                                 | http://motoreconomico.com.ar/                                                                                                                                                                                                                                                           | NA                                                                                                                                                                                                                                                                                      | https://pbs.twimg.com/profile_banners/718070828563349505/1583780814                                                                                                                                                                                                                     | http://abs.twimg.com/images/themes/theme1/bg.png                                                                                                                                                                                                                                        | http://pbs.twimg.com/profile_images/1109755274624200705/A9e9TXn8_normal.jpg                                                                                                                                                                                                             |\n",
       "| 718070828563349505                                                                                                                                                                                                                                                                      | 1275037131463892992                                                                                                                                                                                                                                                                     | 2020-06-22 12:05:15                                                                                                                                                                                                                                                                     | DellatorreRaul                                                                                                                                                                                                                                                                          | NO SOLO ES VICENTIN. Todos los años este complejo transnacionalizado le evade al fisco u$s1500 millones. Los puertos son de ellos. Los elevadores de granos de ellos. La concesión de la hidrovía de ellos. No tenemos como controlarlos. Es eso lo que está en disputa. No Vicentìn    | Twitter for Android                                                                                                                                                                                                                                                                     | 276                                                                                                                                                                                                                                                                                     | NA                                                                                                                                                                                                                                                                                      | NA                                                                                                                                                                                                                                                                                      | NA                                                                                                                                                                                                                                                                                      | ...                                                                                                                                                                                                                                                                                     | 1738                                                                                                                                                                                                                                                                                    | 1076                                                                                                                                                                                                                                                                                    | 2016-04-07 13:40:01                                                                                                                                                                                                                                                                     | FALSE                                                                                                                                                                                                                                                                                   | https://t.co/rUxTWPZjwd                                                                                                                                                                                                                                                                 | http://motoreconomico.com.ar/                                                                                                                                                                                                                                                           | NA                                                                                                                                                                                                                                                                                      | https://pbs.twimg.com/profile_banners/718070828563349505/1583780814                                                                                                                                                                                                                     | http://abs.twimg.com/images/themes/theme1/bg.png                                                                                                                                                                                                                                        | http://pbs.twimg.com/profile_images/1109755274624200705/A9e9TXn8_normal.jpg                                                                                                                                                                                                             |\n",
       "| 166206368                                                                                                                                                                                                                                                                               | 1275161416190832641                                                                                                                                                                                                                                                                     | 2020-06-22 20:19:07                                                                                                                                                                                                                                                                     | agustynn77                                                                                                                                                                                                                                                                              | @g_alonsoshell @clarincom Cuando Vicentin robo al Estado?                                                                                                                                                                                                                               | Twitter for Android                                                                                                                                                                                                                                                                     |  31                                                                                                                                                                                                                                                                                     | 1275149939954368513                                                                                                                                                                                                                                                                     | 1248868691225333760                                                                                                                                                                                                                                                                     | g_alonsoshell                                                                                                                                                                                                                                                                           | ...                                                                                                                                                                                                                                                                                     |  656                                                                                                                                                                                                                                                                                    | 2999                                                                                                                                                                                                                                                                                    | 2010-07-13 16:05:15                                                                                                                                                                                                                                                                     | FALSE                                                                                                                                                                                                                                                                                   | NA                                                                                                                                                                                                                                                                                      | NA                                                                                                                                                                                                                                                                                      | NA                                                                                                                                                                                                                                                                                      | NA                                                                                                                                                                                                                                                                                      | http://abs.twimg.com/images/themes/theme1/bg.png                                                                                                                                                                                                                                        | http://pbs.twimg.com/profile_images/1256753874293194752/CXoiNif5_normal.jpg                                                                                                                                                                                                             |\n",
       "| 767020227280379913                                                                                                                                                                                                                                                                      | 1275161394896408577                                                                                                                                                                                                                                                                     | 2020-06-22 20:19:02                                                                                                                                                                                                                                                                     | leoaguirrec                                                                                                                                                                                                                                                                             | Si salen a la calle por la cuarentena y vicentin, imaginate cuando volvamos a fase 1...                                                                                                                                                                                                 | Twitter for Android                                                                                                                                                                                                                                                                     |  87                                                                                                                                                                                                                                                                                     | NA                                                                                                                                                                                                                                                                                      | NA                                                                                                                                                                                                                                                                                      | NA                                                                                                                                                                                                                                                                                      | ...                                                                                                                                                                                                                                                                                     | 9940                                                                                                                                                                                                                                                                                    | 1435                                                                                                                                                                                                                                                                                    | 2016-08-20 15:27:27                                                                                                                                                                                                                                                                     | FALSE                                                                                                                                                                                                                                                                                   | NA                                                                                                                                                                                                                                                                                      | NA                                                                                                                                                                                                                                                                                      | NA                                                                                                                                                                                                                                                                                      | https://pbs.twimg.com/profile_banners/767020227280379913/1471709877                                                                                                                                                                                                                     | NA                                                                                                                                                                                                                                                                                      | http://pbs.twimg.com/profile_images/1246909002480574465/0kh-6Zg-_normal.jpg                                                                                                                                                                                                             |\n",
       "\n"
      ],
      "text/plain": [
       "  user_id            status_id           created_at          screen_name   \n",
       "1 718070828563349505 1275161447941713926 2020-06-22 20:19:15 DellatorreRaul\n",
       "2 718070828563349505 1275036346260885509 2020-06-22 12:02:08 DellatorreRaul\n",
       "3 718070828563349505 1275037131463892992 2020-06-22 12:05:15 DellatorreRaul\n",
       "4 166206368          1275161416190832641 2020-06-22 20:19:07 agustynn77    \n",
       "5 767020227280379913 1275161394896408577 2020-06-22 20:19:02 leoaguirrec   \n",
       "  text                                                                                                                                                                                                                                                                                   \n",
       "1 VICENTIN: \"NO HAY UN DEBATE POLITICO EN EL GOBIERNO\". Pedro Peretti en Siempre es ... https://t.co/qQQ7wfZeyh\\n#Argentina #Vicentin #offshorear #debate                                                                                                                                \n",
       "2 No ES SOLO VICENTIN. El río Paraná esta privatizado. Es una  caja negra. Por allí salen u$s 28.000 millones  de exportaciones anuales en granos y oleaginosas al margen de la vista del Estado. Todos los años este complejo transnacionalizado le evade al fisco 1500 millones de uss.\n",
       "3 NO SOLO ES VICENTIN. Todos los años este complejo transnacionalizado le evade al fisco u$s1500 millones. Los puertos son de ellos. Los elevadores de granos de ellos. La concesión de la hidrovía de ellos. No tenemos como controlarlos. Es eso lo que está en disputa. No Vicentìn   \n",
       "4 @g_alonsoshell @clarincom Cuando Vicentin robo al Estado?                                                                                                                                                                                                                              \n",
       "5 Si salen a la calle por la cuarentena y vicentin, imaginate cuando volvamos a fase 1...                                                                                                                                                                                                \n",
       "  source              display_text_width reply_to_status_id \n",
       "1 Twitter for Android 150                NA                 \n",
       "2 Twitter for Android 279                NA                 \n",
       "3 Twitter for Android 276                NA                 \n",
       "4 Twitter for Android  31                1275149939954368513\n",
       "5 Twitter for Android  87                NA                 \n",
       "  reply_to_user_id    reply_to_screen_name ... statuses_count favourites_count\n",
       "1 NA                  NA                   ... 1738           1076            \n",
       "2 NA                  NA                   ... 1738           1076            \n",
       "3 NA                  NA                   ... 1738           1076            \n",
       "4 1248868691225333760 g_alonsoshell        ...  656           2999            \n",
       "5 NA                  NA                   ... 9940           1435            \n",
       "  account_created_at  verified profile_url            \n",
       "1 2016-04-07 13:40:01 FALSE    https://t.co/rUxTWPZjwd\n",
       "2 2016-04-07 13:40:01 FALSE    https://t.co/rUxTWPZjwd\n",
       "3 2016-04-07 13:40:01 FALSE    https://t.co/rUxTWPZjwd\n",
       "4 2010-07-13 16:05:15 FALSE    NA                     \n",
       "5 2016-08-20 15:27:27 FALSE    NA                     \n",
       "  profile_expanded_url          account_lang\n",
       "1 http://motoreconomico.com.ar/ NA          \n",
       "2 http://motoreconomico.com.ar/ NA          \n",
       "3 http://motoreconomico.com.ar/ NA          \n",
       "4 NA                            NA          \n",
       "5 NA                            NA          \n",
       "  profile_banner_url                                                 \n",
       "1 https://pbs.twimg.com/profile_banners/718070828563349505/1583780814\n",
       "2 https://pbs.twimg.com/profile_banners/718070828563349505/1583780814\n",
       "3 https://pbs.twimg.com/profile_banners/718070828563349505/1583780814\n",
       "4 NA                                                                 \n",
       "5 https://pbs.twimg.com/profile_banners/767020227280379913/1471709877\n",
       "  profile_background_url                          \n",
       "1 http://abs.twimg.com/images/themes/theme1/bg.png\n",
       "2 http://abs.twimg.com/images/themes/theme1/bg.png\n",
       "3 http://abs.twimg.com/images/themes/theme1/bg.png\n",
       "4 http://abs.twimg.com/images/themes/theme1/bg.png\n",
       "5 NA                                              \n",
       "  profile_image_url                                                          \n",
       "1 http://pbs.twimg.com/profile_images/1109755274624200705/A9e9TXn8_normal.jpg\n",
       "2 http://pbs.twimg.com/profile_images/1109755274624200705/A9e9TXn8_normal.jpg\n",
       "3 http://pbs.twimg.com/profile_images/1109755274624200705/A9e9TXn8_normal.jpg\n",
       "4 http://pbs.twimg.com/profile_images/1256753874293194752/CXoiNif5_normal.jpg\n",
       "5 http://pbs.twimg.com/profile_images/1246909002480574465/0kh-6Zg-_normal.jpg"
      ]
     },
     "metadata": {},
     "output_type": "display_data"
    }
   ],
   "source": [
    "rt <- search_tweets(q =\"vicentin\", n = 20000, include_rts = FALSE)\n",
    "head(rt, 5)"
   ]
  },
  {
   "cell_type": "code",
   "execution_count": 5,
   "metadata": {},
   "outputs": [
    {
     "data": {
      "text/html": [
       "<ol class=list-inline>\n",
       "\t<li>17980</li>\n",
       "\t<li>2</li>\n",
       "</ol>\n"
      ],
      "text/latex": [
       "\\begin{enumerate*}\n",
       "\\item 17980\n",
       "\\item 2\n",
       "\\end{enumerate*}\n"
      ],
      "text/markdown": [
       "1. 17980\n",
       "2. 2\n",
       "\n",
       "\n"
      ],
      "text/plain": [
       "[1] 17980     2"
      ]
     },
     "metadata": {},
     "output_type": "display_data"
    }
   ],
   "source": [
    "# Cantidad de tweets bajados\n",
    "doc <- rt  %>% select(status_id,text)\n",
    "dim(doc)"
   ]
  },
  {
   "cell_type": "markdown",
   "metadata": {},
   "source": [
    "## Limpieza de tweets"
   ]
  },
  {
   "cell_type": "markdown",
   "metadata": {},
   "source": [
    "### Función para limpiar tweets"
   ]
  },
  {
   "cell_type": "code",
   "execution_count": 6,
   "metadata": {},
   "outputs": [],
   "source": [
    "limpiar <- function(texto){\n",
    "  # El orden de la limpieza no es arbitrario\n",
    "    # Se convierte todo el texto a minúsculas\n",
    "    nuevo_texto <- tolower(texto)\n",
    "    # Eliminación de páginas web (palabras que empiezan por \"http.\" seguidas \n",
    "    # de cualquier cosa que no sea un espacio)\n",
    "    nuevo_texto <- str_replace_all(nuevo_texto,\"http\\\\S*\", \"\")\n",
    "    # Eliminación de signos de puntuación\n",
    "    nuevo_texto <- str_replace_all(nuevo_texto,\"[[:punct:]]\", \" \")\n",
    "    # Eliminación de números\n",
    "    nuevo_texto <- str_replace_all(nuevo_texto,\"[[:digit:]]\", \" \")\n",
    "    # Eliminación de espacios en blanco múltiples\n",
    "    nuevo_texto <- str_replace_all(nuevo_texto,\"[\\\\s]+\", \" \")\n",
    "    # Elimino palabras vacías\n",
    "    nuevo_texto <- removeWords(nuevo_texto, stopwords('es'))\n",
    "    \n",
    "    return(nuevo_texto)\n",
    "}"
   ]
  },
  {
   "cell_type": "code",
   "execution_count": 7,
   "metadata": {},
   "outputs": [
    {
     "data": {
      "text/html": [
       "<table>\n",
       "<thead><tr><th scope=col>status_id</th><th scope=col>text</th><th scope=col>texto_limpio</th></tr></thead>\n",
       "<tbody>\n",
       "\t<tr><td>1275161447941713926                                                                                                                                                                                                                                                                    </td><td>VICENTIN: \"NO HAY UN DEBATE POLITICO EN EL GOBIERNO\". Pedro Peretti en Siempre es ... https://t.co/qQQ7wfZeyh\n",
       "#Argentina #Vicentin #offshorear #debate                                                                                                                                </td><td>vicentin    debate politico   gobierno pedro peretti  siempre  argentina vicentin offshorear debate                                                                                                                                                                                    </td></tr>\n",
       "\t<tr><td>1275036346260885509                                                                                                                                                                                                                                                                    </td><td>No ES SOLO VICENTIN. El río Paraná esta privatizado. Es una  caja negra. Por allí salen u$s 28.000 millones  de exportaciones anuales en granos y oleaginosas al margen de la vista del Estado. Todos los años este complejo transnacionalizado le evade al fisco 1500 millones de uss.</td><td>  solo vicentin  río paraná  privatizado   caja negra  allí salen u$s millones  exportaciones anuales  granos  oleaginosas  margen   vista     años  complejo transnacionalizado  evade  fisco millones  uss                                                                           </td></tr>\n",
       "\t<tr><td>1275037131463892992                                                                                                                                                                                                                                                                    </td><td>NO SOLO ES VICENTIN. Todos los años este complejo transnacionalizado le evade al fisco u$s1500 millones. Los puertos son de ellos. Los elevadores de granos de ellos. La concesión de la hidrovía de ellos. No tenemos como controlarlos. Es eso lo que está en disputa. No Vicentìn   </td><td> solo  vicentin   años  complejo transnacionalizado  evade  fisco u$s millones  puertos     elevadores  granos    concesión   hidrovía      controlarlos       disputa  vicentìn                                                                                                       </td></tr>\n",
       "</tbody>\n",
       "</table>\n"
      ],
      "text/latex": [
       "\\begin{tabular}{r|lll}\n",
       " status\\_id & text & texto\\_limpio\\\\\n",
       "\\hline\n",
       "\t 1275161447941713926                                                                                                                                                                                                                                                                             & VICENTIN: \"NO HAY UN DEBATE POLITICO EN EL GOBIERNO\". Pedro Peretti en Siempre es ... https://t.co/qQQ7wfZeyh\n",
       "\\#Argentina \\#Vicentin \\#offshorear \\#debate                                                                                                                                 & vicentin    debate politico   gobierno pedro peretti  siempre  argentina vicentin offshorear debate                                                                                                                                                                                            \\\\\n",
       "\t 1275036346260885509                                                                                                                                                                                                                                                                       & No ES SOLO VICENTIN. El río Paraná esta privatizado. Es una  caja negra. Por allí salen u\\$s 28.000 millones  de exportaciones anuales en granos y oleaginosas al margen de la vista del Estado. Todos los años este complejo transnacionalizado le evade al fisco 1500 millones de uss. &   solo vicentin  río paraná  privatizado   caja negra  allí salen u\\$s millones  exportaciones anuales  granos  oleaginosas  margen   vista     años  complejo transnacionalizado  evade  fisco millones  uss                                                                           \\\\\n",
       "\t 1275037131463892992                                                                                                                                                                                                                                                                       & NO SOLO ES VICENTIN. Todos los años este complejo transnacionalizado le evade al fisco u\\$s1500 millones. Los puertos son de ellos. Los elevadores de granos de ellos. La concesión de la hidrovía de ellos. No tenemos como controlarlos. Es eso lo que está en disputa. No Vicentìn    &  solo  vicentin   años  complejo transnacionalizado  evade  fisco u\\$s millones  puertos     elevadores  granos    concesión   hidrovía      controlarlos       disputa  vicentìn                                                                                                       \\\\\n",
       "\\end{tabular}\n"
      ],
      "text/markdown": [
       "\n",
       "| status_id | text | texto_limpio |\n",
       "|---|---|---|\n",
       "| 1275161447941713926                                                                                                                                                                                                                                                                     | VICENTIN: \"NO HAY UN DEBATE POLITICO EN EL GOBIERNO\". Pedro Peretti en Siempre es ... https://t.co/qQQ7wfZeyh\n",
       "#Argentina #Vicentin #offshorear #debate                                                                                                                                 | vicentin    debate politico   gobierno pedro peretti  siempre  argentina vicentin offshorear debate                                                                                                                                                                                     |\n",
       "| 1275036346260885509                                                                                                                                                                                                                                                                     | No ES SOLO VICENTIN. El río Paraná esta privatizado. Es una  caja negra. Por allí salen u$s 28.000 millones  de exportaciones anuales en granos y oleaginosas al margen de la vista del Estado. Todos los años este complejo transnacionalizado le evade al fisco 1500 millones de uss. |   solo vicentin  río paraná  privatizado   caja negra  allí salen u$s millones  exportaciones anuales  granos  oleaginosas  margen   vista     años  complejo transnacionalizado  evade  fisco millones  uss                                                                            |\n",
       "| 1275037131463892992                                                                                                                                                                                                                                                                     | NO SOLO ES VICENTIN. Todos los años este complejo transnacionalizado le evade al fisco u$s1500 millones. Los puertos son de ellos. Los elevadores de granos de ellos. La concesión de la hidrovía de ellos. No tenemos como controlarlos. Es eso lo que está en disputa. No Vicentìn    |  solo  vicentin   años  complejo transnacionalizado  evade  fisco u$s millones  puertos     elevadores  granos    concesión   hidrovía      controlarlos       disputa  vicentìn                                                                                                        |\n",
       "\n"
      ],
      "text/plain": [
       "  status_id          \n",
       "1 1275161447941713926\n",
       "2 1275036346260885509\n",
       "3 1275037131463892992\n",
       "  text                                                                                                                                                                                                                                                                                   \n",
       "1 VICENTIN: \"NO HAY UN DEBATE POLITICO EN EL GOBIERNO\". Pedro Peretti en Siempre es ... https://t.co/qQQ7wfZeyh\\n#Argentina #Vicentin #offshorear #debate                                                                                                                                \n",
       "2 No ES SOLO VICENTIN. El río Paraná esta privatizado. Es una  caja negra. Por allí salen u$s 28.000 millones  de exportaciones anuales en granos y oleaginosas al margen de la vista del Estado. Todos los años este complejo transnacionalizado le evade al fisco 1500 millones de uss.\n",
       "3 NO SOLO ES VICENTIN. Todos los años este complejo transnacionalizado le evade al fisco u$s1500 millones. Los puertos son de ellos. Los elevadores de granos de ellos. La concesión de la hidrovía de ellos. No tenemos como controlarlos. Es eso lo que está en disputa. No Vicentìn   \n",
       "  texto_limpio                                                                                                                                                                                                 \n",
       "1 vicentin    debate politico   gobierno pedro peretti  siempre  argentina vicentin offshorear debate                                                                                                          \n",
       "2   solo vicentin  río paraná  privatizado   caja negra  allí salen u$s millones  exportaciones anuales  granos  oleaginosas  margen   vista     años  complejo transnacionalizado  evade  fisco millones  uss \n",
       "3  solo  vicentin   años  complejo transnacionalizado  evade  fisco u$s millones  puertos     elevadores  granos    concesión   hidrovía      controlarlos       disputa  vicentìn                             "
      ]
     },
     "metadata": {},
     "output_type": "display_data"
    }
   ],
   "source": [
    "doc <- doc %>% mutate(texto_limpio = map(.x = text, .f = limpiar))\n",
    "head(doc, 3)"
   ]
  },
  {
   "cell_type": "markdown",
   "metadata": {},
   "source": [
    "### Stemming"
   ]
  },
  {
   "cell_type": "code",
   "execution_count": 8,
   "metadata": {
    "scrolled": false
   },
   "outputs": [
    {
     "data": {
      "text/html": [
       "<table>\n",
       "<thead><tr><th scope=col>texto_limpio</th><th scope=col>texto_stemming</th></tr></thead>\n",
       "<tbody>\n",
       "\t<tr><td>vicentin    debate politico   gobierno pedro peretti  siempre  argentina vicentin offshorear debate</td><td>vicentin debat polit gobiern pedr peretti siempr argentin vicentin offshor debat                   </td></tr>\n",
       "\t<tr><td>  solo vicentin  río paraná  privatizado   caja negra  allí salen u$s millones  exportaciones anuales  granos  oleaginosas  margen   vista     años  complejo transnacionalizado  evade  fisco millones  uss </td><td>sol vicentin rio paran privatiz caj negr alli sal u$s millon export anual gran oleagin marg vist años complej transnacionaliz evad fisc millon uss                                                           </td></tr>\n",
       "\t<tr><td> solo  vicentin   años  complejo transnacionalizado  evade  fisco u$s millones  puertos     elevadores  granos    concesión   hidrovía      controlarlos       disputa  vicentìn</td><td>sol vicentin años complej transnacionaliz evad fisc u$s millon puert elev gran concesion hidrov control disput vicentìn                                                         </td></tr>\n",
       "\t<tr><td> g alonsoshell clarincom  vicentin robo   </td><td>g alonsoshell clarincom vicentin rob      </td></tr>\n",
       "\t<tr><td>si salen   calle   cuarentena  vicentin imaginate  volvamos  fase </td><td>si sal call cuarenten vicentin imaginat volv fas                  </td></tr>\n",
       "\t<tr><td>caba  zona  influencia vuelve  fase  decir hacer videitos  tik tok publicar recetas  facebook cantar  himno   balcones cada  aplaudir  cacerolear   depende  sector  pertenezcas gritar   vicentin  campo  demás</td><td>cab zon influenci vuelv fas dec hac videit tik tok public recet facebook cant himn balcon cad aplaud cacerol depend sector pertenezc grit vicentin camp demas                                                   </td></tr>\n",
       "</tbody>\n",
       "</table>\n"
      ],
      "text/latex": [
       "\\begin{tabular}{r|ll}\n",
       " texto\\_limpio & texto\\_stemming\\\\\n",
       "\\hline\n",
       "\t vicentin    debate politico   gobierno pedro peretti  siempre  argentina vicentin offshorear debate & vicentin debat polit gobiern pedr peretti siempr argentin vicentin offshor debat                   \\\\\n",
       "\t   solo vicentin  río paraná  privatizado   caja negra  allí salen u\\$s millones  exportaciones anuales  granos  oleaginosas  margen   vista     años  complejo transnacionalizado  evade  fisco millones  uss  & sol vicentin rio paran privatiz caj negr alli sal u\\$s millon export anual gran oleagin marg vist años complej transnacionaliz evad fisc millon uss                                                           \\\\\n",
       "\t  solo  vicentin   años  complejo transnacionalizado  evade  fisco u\\$s millones  puertos     elevadores  granos    concesión   hidrovía      controlarlos       disputa  vicentìn & sol vicentin años complej transnacionaliz evad fisc u\\$s millon puert elev gran concesion hidrov control disput vicentìn                                                         \\\\\n",
       "\t  g alonsoshell clarincom  vicentin robo    & g alonsoshell clarincom vicentin rob      \\\\\n",
       "\t si salen   calle   cuarentena  vicentin imaginate  volvamos  fase  & si sal call cuarenten vicentin imaginat volv fas                  \\\\\n",
       "\t caba  zona  influencia vuelve  fase  decir hacer videitos  tik tok publicar recetas  facebook cantar  himno   balcones cada  aplaudir  cacerolear   depende  sector  pertenezcas gritar   vicentin  campo  demás & cab zon influenci vuelv fas dec hac videit tik tok public recet facebook cant himn balcon cad aplaud cacerol depend sector pertenezc grit vicentin camp demas                                                   \\\\\n",
       "\\end{tabular}\n"
      ],
      "text/markdown": [
       "\n",
       "| texto_limpio | texto_stemming |\n",
       "|---|---|\n",
       "| vicentin    debate politico   gobierno pedro peretti  siempre  argentina vicentin offshorear debate | vicentin debat polit gobiern pedr peretti siempr argentin vicentin offshor debat                    |\n",
       "|   solo vicentin  río paraná  privatizado   caja negra  allí salen u$s millones  exportaciones anuales  granos  oleaginosas  margen   vista     años  complejo transnacionalizado  evade  fisco millones  uss  | sol vicentin rio paran privatiz caj negr alli sal u$s millon export anual gran oleagin marg vist años complej transnacionaliz evad fisc millon uss                                                            |\n",
       "|  solo  vicentin   años  complejo transnacionalizado  evade  fisco u$s millones  puertos     elevadores  granos    concesión   hidrovía      controlarlos       disputa  vicentìn | sol vicentin años complej transnacionaliz evad fisc u$s millon puert elev gran concesion hidrov control disput vicentìn                                                          |\n",
       "|  g alonsoshell clarincom  vicentin robo    | g alonsoshell clarincom vicentin rob       |\n",
       "| si salen   calle   cuarentena  vicentin imaginate  volvamos  fase  | si sal call cuarenten vicentin imaginat volv fas                   |\n",
       "| caba  zona  influencia vuelve  fase  decir hacer videitos  tik tok publicar recetas  facebook cantar  himno   balcones cada  aplaudir  cacerolear   depende  sector  pertenezcas gritar   vicentin  campo  demás | cab zon influenci vuelv fas dec hac videit tik tok public recet facebook cant himn balcon cad aplaud cacerol depend sector pertenezc grit vicentin camp demas                                                    |\n",
       "\n"
      ],
      "text/plain": [
       "  texto_limpio                                                                                                                                                                                                    \n",
       "1 vicentin    debate politico   gobierno pedro peretti  siempre  argentina vicentin offshorear debate                                                                                                             \n",
       "2   solo vicentin  río paraná  privatizado   caja negra  allí salen u$s millones  exportaciones anuales  granos  oleaginosas  margen   vista     años  complejo transnacionalizado  evade  fisco millones  uss    \n",
       "3  solo  vicentin   años  complejo transnacionalizado  evade  fisco u$s millones  puertos     elevadores  granos    concesión   hidrovía      controlarlos       disputa  vicentìn                                \n",
       "4  g alonsoshell clarincom  vicentin robo                                                                                                                                                                         \n",
       "5 si salen   calle   cuarentena  vicentin imaginate  volvamos  fase                                                                                                                                               \n",
       "6 caba  zona  influencia vuelve  fase  decir hacer videitos  tik tok publicar recetas  facebook cantar  himno   balcones cada  aplaudir  cacerolear   depende  sector  pertenezcas gritar   vicentin  campo  demás\n",
       "  texto_stemming                                                                                                                                               \n",
       "1 vicentin debat polit gobiern pedr peretti siempr argentin vicentin offshor debat                                                                             \n",
       "2 sol vicentin rio paran privatiz caj negr alli sal u$s millon export anual gran oleagin marg vist años complej transnacionaliz evad fisc millon uss           \n",
       "3 sol vicentin años complej transnacionaliz evad fisc u$s millon puert elev gran concesion hidrov control disput vicentìn                                      \n",
       "4 g alonsoshell clarincom vicentin rob                                                                                                                         \n",
       "5 si sal call cuarenten vicentin imaginat volv fas                                                                                                             \n",
       "6 cab zon influenci vuelv fas dec hac videit tik tok public recet facebook cant himn balcon cad aplaud cacerol depend sector pertenezc grit vicentin camp demas"
      ]
     },
     "metadata": {},
     "output_type": "display_data"
    }
   ],
   "source": [
    "stemming <- function(texto){\n",
    "    nuevo_texto <- stemDocument(texto, language = \"spanish\")\n",
    "    return(nuevo_texto)\n",
    "}\n",
    "\n",
    "doc <- doc %>% mutate(texto_stemming = map(.x = texto_limpio, .f = stemming ))\n",
    "head(doc[3:4])"
   ]
  },
  {
   "cell_type": "markdown",
   "metadata": {},
   "source": [
    "## División de la columna de tweets en tokens "
   ]
  },
  {
   "cell_type": "code",
   "execution_count": 9,
   "metadata": {},
   "outputs": [
    {
     "data": {
      "text/html": [
       "<table>\n",
       "<thead><tr><th scope=col>status_id</th><th scope=col>text</th><th scope=col>texto_limpio</th><th scope=col>word</th></tr></thead>\n",
       "<tbody>\n",
       "\t<tr><td>1275161447941713926                                                                                                                                    </td><td>VICENTIN: \"NO HAY UN DEBATE POLITICO EN EL GOBIERNO\". Pedro Peretti en Siempre es ... https://t.co/qQQ7wfZeyh\n",
       "#Argentina #Vicentin #offshorear #debate</td><td>vicentin    debate politico   gobierno pedro peretti  siempre  argentina vicentin offshorear debate                                                    </td><td>vicentin                                                                                                                                               </td></tr>\n",
       "\t<tr><td>1275161447941713926                                                                                                                                    </td><td>VICENTIN: \"NO HAY UN DEBATE POLITICO EN EL GOBIERNO\". Pedro Peretti en Siempre es ... https://t.co/qQQ7wfZeyh\n",
       "#Argentina #Vicentin #offshorear #debate</td><td>vicentin    debate politico   gobierno pedro peretti  siempre  argentina vicentin offshorear debate                                                    </td><td>debat                                                                                                                                                  </td></tr>\n",
       "\t<tr><td>1275161447941713926                                                                                                                                    </td><td>VICENTIN: \"NO HAY UN DEBATE POLITICO EN EL GOBIERNO\". Pedro Peretti en Siempre es ... https://t.co/qQQ7wfZeyh\n",
       "#Argentina #Vicentin #offshorear #debate</td><td>vicentin    debate politico   gobierno pedro peretti  siempre  argentina vicentin offshorear debate                                                    </td><td>polit                                                                                                                                                  </td></tr>\n",
       "\t<tr><td>1275161447941713926                                                                                                                                    </td><td>VICENTIN: \"NO HAY UN DEBATE POLITICO EN EL GOBIERNO\". Pedro Peretti en Siempre es ... https://t.co/qQQ7wfZeyh\n",
       "#Argentina #Vicentin #offshorear #debate</td><td>vicentin    debate politico   gobierno pedro peretti  siempre  argentina vicentin offshorear debate                                                    </td><td>gobiern                                                                                                                                                </td></tr>\n",
       "\t<tr><td>1275161447941713926                                                                                                                                    </td><td>VICENTIN: \"NO HAY UN DEBATE POLITICO EN EL GOBIERNO\". Pedro Peretti en Siempre es ... https://t.co/qQQ7wfZeyh\n",
       "#Argentina #Vicentin #offshorear #debate</td><td>vicentin    debate politico   gobierno pedro peretti  siempre  argentina vicentin offshorear debate                                                    </td><td>pedr                                                                                                                                                   </td></tr>\n",
       "\t<tr><td>1275161447941713926                                                                                                                                    </td><td>VICENTIN: \"NO HAY UN DEBATE POLITICO EN EL GOBIERNO\". Pedro Peretti en Siempre es ... https://t.co/qQQ7wfZeyh\n",
       "#Argentina #Vicentin #offshorear #debate</td><td>vicentin    debate politico   gobierno pedro peretti  siempre  argentina vicentin offshorear debate                                                    </td><td>peretti                                                                                                                                                </td></tr>\n",
       "</tbody>\n",
       "</table>\n"
      ],
      "text/latex": [
       "\\begin{tabular}{r|llll}\n",
       " status\\_id & text & texto\\_limpio & word\\\\\n",
       "\\hline\n",
       "\t 1275161447941713926                                                                                                                                             & VICENTIN: \"NO HAY UN DEBATE POLITICO EN EL GOBIERNO\". Pedro Peretti en Siempre es ... https://t.co/qQQ7wfZeyh\n",
       "\\#Argentina \\#Vicentin \\#offshorear \\#debate & vicentin    debate politico   gobierno pedro peretti  siempre  argentina vicentin offshorear debate                                                             & vicentin                                                                                                                                                       \\\\\n",
       "\t 1275161447941713926                                                                                                                                             & VICENTIN: \"NO HAY UN DEBATE POLITICO EN EL GOBIERNO\". Pedro Peretti en Siempre es ... https://t.co/qQQ7wfZeyh\n",
       "\\#Argentina \\#Vicentin \\#offshorear \\#debate & vicentin    debate politico   gobierno pedro peretti  siempre  argentina vicentin offshorear debate                                                             & debat                                                                                                                                                          \\\\\n",
       "\t 1275161447941713926                                                                                                                                             & VICENTIN: \"NO HAY UN DEBATE POLITICO EN EL GOBIERNO\". Pedro Peretti en Siempre es ... https://t.co/qQQ7wfZeyh\n",
       "\\#Argentina \\#Vicentin \\#offshorear \\#debate & vicentin    debate politico   gobierno pedro peretti  siempre  argentina vicentin offshorear debate                                                             & polit                                                                                                                                                          \\\\\n",
       "\t 1275161447941713926                                                                                                                                             & VICENTIN: \"NO HAY UN DEBATE POLITICO EN EL GOBIERNO\". Pedro Peretti en Siempre es ... https://t.co/qQQ7wfZeyh\n",
       "\\#Argentina \\#Vicentin \\#offshorear \\#debate & vicentin    debate politico   gobierno pedro peretti  siempre  argentina vicentin offshorear debate                                                             & gobiern                                                                                                                                                        \\\\\n",
       "\t 1275161447941713926                                                                                                                                             & VICENTIN: \"NO HAY UN DEBATE POLITICO EN EL GOBIERNO\". Pedro Peretti en Siempre es ... https://t.co/qQQ7wfZeyh\n",
       "\\#Argentina \\#Vicentin \\#offshorear \\#debate & vicentin    debate politico   gobierno pedro peretti  siempre  argentina vicentin offshorear debate                                                             & pedr                                                                                                                                                           \\\\\n",
       "\t 1275161447941713926                                                                                                                                             & VICENTIN: \"NO HAY UN DEBATE POLITICO EN EL GOBIERNO\". Pedro Peretti en Siempre es ... https://t.co/qQQ7wfZeyh\n",
       "\\#Argentina \\#Vicentin \\#offshorear \\#debate & vicentin    debate politico   gobierno pedro peretti  siempre  argentina vicentin offshorear debate                                                             & peretti                                                                                                                                                        \\\\\n",
       "\\end{tabular}\n"
      ],
      "text/markdown": [
       "\n",
       "| status_id | text | texto_limpio | word |\n",
       "|---|---|---|---|\n",
       "| 1275161447941713926                                                                                                                                     | VICENTIN: \"NO HAY UN DEBATE POLITICO EN EL GOBIERNO\". Pedro Peretti en Siempre es ... https://t.co/qQQ7wfZeyh\n",
       "#Argentina #Vicentin #offshorear #debate | vicentin    debate politico   gobierno pedro peretti  siempre  argentina vicentin offshorear debate                                                     | vicentin                                                                                                                                                |\n",
       "| 1275161447941713926                                                                                                                                     | VICENTIN: \"NO HAY UN DEBATE POLITICO EN EL GOBIERNO\". Pedro Peretti en Siempre es ... https://t.co/qQQ7wfZeyh\n",
       "#Argentina #Vicentin #offshorear #debate | vicentin    debate politico   gobierno pedro peretti  siempre  argentina vicentin offshorear debate                                                     | debat                                                                                                                                                   |\n",
       "| 1275161447941713926                                                                                                                                     | VICENTIN: \"NO HAY UN DEBATE POLITICO EN EL GOBIERNO\". Pedro Peretti en Siempre es ... https://t.co/qQQ7wfZeyh\n",
       "#Argentina #Vicentin #offshorear #debate | vicentin    debate politico   gobierno pedro peretti  siempre  argentina vicentin offshorear debate                                                     | polit                                                                                                                                                   |\n",
       "| 1275161447941713926                                                                                                                                     | VICENTIN: \"NO HAY UN DEBATE POLITICO EN EL GOBIERNO\". Pedro Peretti en Siempre es ... https://t.co/qQQ7wfZeyh\n",
       "#Argentina #Vicentin #offshorear #debate | vicentin    debate politico   gobierno pedro peretti  siempre  argentina vicentin offshorear debate                                                     | gobiern                                                                                                                                                 |\n",
       "| 1275161447941713926                                                                                                                                     | VICENTIN: \"NO HAY UN DEBATE POLITICO EN EL GOBIERNO\". Pedro Peretti en Siempre es ... https://t.co/qQQ7wfZeyh\n",
       "#Argentina #Vicentin #offshorear #debate | vicentin    debate politico   gobierno pedro peretti  siempre  argentina vicentin offshorear debate                                                     | pedr                                                                                                                                                    |\n",
       "| 1275161447941713926                                                                                                                                     | VICENTIN: \"NO HAY UN DEBATE POLITICO EN EL GOBIERNO\". Pedro Peretti en Siempre es ... https://t.co/qQQ7wfZeyh\n",
       "#Argentina #Vicentin #offshorear #debate | vicentin    debate politico   gobierno pedro peretti  siempre  argentina vicentin offshorear debate                                                     | peretti                                                                                                                                                 |\n",
       "\n"
      ],
      "text/plain": [
       "  status_id          \n",
       "1 1275161447941713926\n",
       "2 1275161447941713926\n",
       "3 1275161447941713926\n",
       "4 1275161447941713926\n",
       "5 1275161447941713926\n",
       "6 1275161447941713926\n",
       "  text                                                                                                                                                   \n",
       "1 VICENTIN: \"NO HAY UN DEBATE POLITICO EN EL GOBIERNO\". Pedro Peretti en Siempre es ... https://t.co/qQQ7wfZeyh\\n#Argentina #Vicentin #offshorear #debate\n",
       "2 VICENTIN: \"NO HAY UN DEBATE POLITICO EN EL GOBIERNO\". Pedro Peretti en Siempre es ... https://t.co/qQQ7wfZeyh\\n#Argentina #Vicentin #offshorear #debate\n",
       "3 VICENTIN: \"NO HAY UN DEBATE POLITICO EN EL GOBIERNO\". Pedro Peretti en Siempre es ... https://t.co/qQQ7wfZeyh\\n#Argentina #Vicentin #offshorear #debate\n",
       "4 VICENTIN: \"NO HAY UN DEBATE POLITICO EN EL GOBIERNO\". Pedro Peretti en Siempre es ... https://t.co/qQQ7wfZeyh\\n#Argentina #Vicentin #offshorear #debate\n",
       "5 VICENTIN: \"NO HAY UN DEBATE POLITICO EN EL GOBIERNO\". Pedro Peretti en Siempre es ... https://t.co/qQQ7wfZeyh\\n#Argentina #Vicentin #offshorear #debate\n",
       "6 VICENTIN: \"NO HAY UN DEBATE POLITICO EN EL GOBIERNO\". Pedro Peretti en Siempre es ... https://t.co/qQQ7wfZeyh\\n#Argentina #Vicentin #offshorear #debate\n",
       "  texto_limpio                                                                                       \n",
       "1 vicentin    debate politico   gobierno pedro peretti  siempre  argentina vicentin offshorear debate\n",
       "2 vicentin    debate politico   gobierno pedro peretti  siempre  argentina vicentin offshorear debate\n",
       "3 vicentin    debate politico   gobierno pedro peretti  siempre  argentina vicentin offshorear debate\n",
       "4 vicentin    debate politico   gobierno pedro peretti  siempre  argentina vicentin offshorear debate\n",
       "5 vicentin    debate politico   gobierno pedro peretti  siempre  argentina vicentin offshorear debate\n",
       "6 vicentin    debate politico   gobierno pedro peretti  siempre  argentina vicentin offshorear debate\n",
       "  word    \n",
       "1 vicentin\n",
       "2 debat   \n",
       "3 polit   \n",
       "4 gobiern \n",
       "5 pedr    \n",
       "6 peretti "
      ]
     },
     "metadata": {},
     "output_type": "display_data"
    }
   ],
   "source": [
    "doc_frame <- doc  %>% unnest_tokens(word, texto_stemming)\n",
    "head(doc_frame)"
   ]
  },
  {
   "cell_type": "markdown",
   "metadata": {},
   "source": [
    "## Búsqueda de tweets relevantes"
   ]
  },
  {
   "cell_type": "markdown",
   "metadata": {},
   "source": [
    "### Función de búsqueda de tweets (ranking de palabras)"
   ]
  },
  {
   "cell_type": "code",
   "execution_count": 10,
   "metadata": {},
   "outputs": [],
   "source": [
    "wordsearch <- function(a=NULL, b=NULL, c=NULL, d=NULL) {\n",
    "   \n",
    "    # Count of each word and the name of the document. \n",
    "    docwords <- doc_frame %>%  count(status_id, word, sort = TRUE) %>% ungroup()\n",
    "   \n",
    "    # Calculate the tf-idf of each word, then order the result according to tf-idf.\n",
    "    docrank <- data.frame(bind_tf_idf(docwords, word, status_id, n))\n",
    "    docrank <- docrank[order(docrank$tf_idf, decreasing = TRUE), ]\n",
    "    \n",
    "    # Filtering the results according to the search queries.\n",
    "    results <- docrank[docrank$word %in% c(a, b, c, d), ]\n",
    "   \n",
    "    # Here we rank the search results according to sum of the values of\n",
    "    # the weighting of the words they contain that match the search queries.\n",
    "    results <- aggregate(results$tf_idf, list(results$status_id), sum)\n",
    "    results <- results[order(results$x, decreasing = TRUE), ]\n",
    "    \n",
    "    # Add the document titles to the search results and return the top 15\n",
    "    # most relevant documents.\n",
    "    Titles <- (list(results$Group.1[1:15]))\n",
    "    Result_Rank <- c(1:15)\n",
    "    search_results <- data.frame(Titles, Result_Rank)\n",
    "    names(search_results) <- c('Document', 'Ranks')\n",
    "    \n",
    "    # Print the results\n",
    "    print(search_results)\n",
    "}"
   ]
  },
  {
   "cell_type": "code",
   "execution_count": 11,
   "metadata": {},
   "outputs": [
    {
     "data": {
      "text/html": [
       "<ol class=list-inline>\n",
       "\t<li>'juez'</li>\n",
       "\t<li>'expropi'</li>\n",
       "\t<li>'camp'</li>\n",
       "\t<li>'vicentin'</li>\n",
       "</ol>\n"
      ],
      "text/latex": [
       "\\begin{enumerate*}\n",
       "\\item 'juez'\n",
       "\\item 'expropi'\n",
       "\\item 'camp'\n",
       "\\item 'vicentin'\n",
       "\\end{enumerate*}\n"
      ],
      "text/markdown": [
       "1. 'juez'\n",
       "2. 'expropi'\n",
       "3. 'camp'\n",
       "4. 'vicentin'\n",
       "\n",
       "\n"
      ],
      "text/plain": [
       "[1] \"juez\"     \"expropi\"  \"camp\"     \"vicentin\""
      ]
     },
     "metadata": {},
     "output_type": "display_data"
    }
   ],
   "source": [
    "# Se eligen 4 palabras y se aplica stemming\n",
    "palabras <- c(\"juez\",\"expropiación\",\"campo\", \"vicentin\")\n",
    "\n",
    "palabras <- stemDocument(palabras, language = \"spanish\")\n",
    "palabras"
   ]
  },
  {
   "cell_type": "code",
   "execution_count": 12,
   "metadata": {},
   "outputs": [
    {
     "name": "stdout",
     "output_type": "stream",
     "text": [
      "              Document Ranks\n",
      "1  1275010602499538944     1\n",
      "2  1274824631816519681     2\n",
      "3  1274712217708048385     3\n",
      "4  1274721913739317249     4\n",
      "5  1274593480552198145     5\n",
      "6  1274673931367206913     6\n",
      "7  1274584382796451841     7\n",
      "8  1275119752554467331     8\n",
      "9  1274708498643910657     9\n",
      "10 1274729485510811648    10\n",
      "11 1274826203854245889    11\n",
      "12 1274883349522382855    12\n",
      "13 1274890615097081862    13\n",
      "14 1274728611040432128    14\n",
      "15 1274744264526888962    15\n"
     ]
    }
   ],
   "source": [
    "# Se realiza una búsqueda de los tweets más relevantes\n",
    "wordsearch(palabras)"
   ]
  },
  {
   "cell_type": "code",
   "execution_count": 13,
   "metadata": {},
   "outputs": [
    {
     "data": {
      "text/html": [
       "<table>\n",
       "<thead><tr><th scope=col>user_id</th><th scope=col>status_id</th><th scope=col>created_at</th><th scope=col>screen_name</th><th scope=col>text</th></tr></thead>\n",
       "<tbody>\n",
       "\t<tr><td>176225971                                                      </td><td>1275010602499538944                                            </td><td>2020-06-22 10:19:50                                            </td><td>franciscomingor                                                </td><td>@_LauraDiMarco La traición al campo.\n",
       "\n",
       "https://t.co/MWOW8H2QEc</td></tr>\n",
       "</tbody>\n",
       "</table>\n"
      ],
      "text/latex": [
       "\\begin{tabular}{r|lllll}\n",
       " user\\_id & status\\_id & created\\_at & screen\\_name & text\\\\\n",
       "\\hline\n",
       "\t 176225971                                                         & 1275010602499538944                                               & 2020-06-22 10:19:50                                               & franciscomingor                                                   & @\\_LauraDiMarco La traición al campo.\n",
       "\n",
       "https://t.co/MWOW8H2QEc\\\\\n",
       "\\end{tabular}\n"
      ],
      "text/markdown": [
       "\n",
       "| user_id | status_id | created_at | screen_name | text |\n",
       "|---|---|---|---|---|\n",
       "| 176225971                                                       | 1275010602499538944                                             | 2020-06-22 10:19:50                                             | franciscomingor                                                 | @_LauraDiMarco La traición al campo.\n",
       "\n",
       "https://t.co/MWOW8H2QEc |\n",
       "\n"
      ],
      "text/plain": [
       "  user_id   status_id           created_at          screen_name    \n",
       "1 176225971 1275010602499538944 2020-06-22 10:19:50 franciscomingor\n",
       "  text                                                           \n",
       "1 @_LauraDiMarco La traición al campo.\\n\\nhttps://t.co/MWOW8H2QEc"
      ]
     },
     "metadata": {},
     "output_type": "display_data"
    }
   ],
   "source": [
    "# Tweet más relevante\n",
    "resultado <- rt  %>% filter(status_id == '1275010602499538944')\n",
    "resultado[1:5]"
   ]
  },
  {
   "cell_type": "code",
   "execution_count": 14,
   "metadata": {},
   "outputs": [
    {
     "data": {
      "text/html": [
       "<table>\n",
       "<thead><tr><th scope=col>user_id</th><th scope=col>status_id</th><th scope=col>created_at</th><th scope=col>screen_name</th><th scope=col>text</th></tr></thead>\n",
       "<tbody>\n",
       "\t<tr><td>189414110                                                  </td><td>1274824631816519681                                        </td><td>2020-06-21 22:00:51                                        </td><td>PATBARI                                                    </td><td>Cuidemos TODOS al Juez de #Vicentin https://t.co/LEHpg1sTyR</td></tr>\n",
       "</tbody>\n",
       "</table>\n"
      ],
      "text/latex": [
       "\\begin{tabular}{r|lllll}\n",
       " user\\_id & status\\_id & created\\_at & screen\\_name & text\\\\\n",
       "\\hline\n",
       "\t 189414110                                                     & 1274824631816519681                                           & 2020-06-21 22:00:51                                           & PATBARI                                                       & Cuidemos TODOS al Juez de \\#Vicentin https://t.co/LEHpg1sTyR\\\\\n",
       "\\end{tabular}\n"
      ],
      "text/markdown": [
       "\n",
       "| user_id | status_id | created_at | screen_name | text |\n",
       "|---|---|---|---|---|\n",
       "| 189414110                                                   | 1274824631816519681                                         | 2020-06-21 22:00:51                                         | PATBARI                                                     | Cuidemos TODOS al Juez de #Vicentin https://t.co/LEHpg1sTyR |\n",
       "\n"
      ],
      "text/plain": [
       "  user_id   status_id           created_at          screen_name\n",
       "1 189414110 1274824631816519681 2020-06-21 22:00:51 PATBARI    \n",
       "  text                                                       \n",
       "1 Cuidemos TODOS al Juez de #Vicentin https://t.co/LEHpg1sTyR"
      ]
     },
     "metadata": {},
     "output_type": "display_data"
    }
   ],
   "source": [
    "# Segundo tweet más relevante\n",
    "resultado <- rt  %>% filter(status_id == '1274824631816519681')\n",
    "resultado[1:5]"
   ]
  },
  {
   "cell_type": "code",
   "execution_count": 15,
   "metadata": {},
   "outputs": [
    {
     "data": {
      "text/html": [
       "<table>\n",
       "<thead><tr><th scope=col>user_id</th><th scope=col>status_id</th><th scope=col>created_at</th><th scope=col>screen_name</th><th scope=col>text</th></tr></thead>\n",
       "<tbody>\n",
       "\t<tr><td>1978143390                                        </td><td>1274712217708048385                               </td><td>2020-06-21 14:34:10                               </td><td>Alguienqueve                                      </td><td>el JUEZ Fabian Lorenzini : https://t.co/gebrzXu9gh</td></tr>\n",
       "</tbody>\n",
       "</table>\n"
      ],
      "text/latex": [
       "\\begin{tabular}{r|lllll}\n",
       " user\\_id & status\\_id & created\\_at & screen\\_name & text\\\\\n",
       "\\hline\n",
       "\t 1978143390                                         & 1274712217708048385                                & 2020-06-21 14:34:10                                & Alguienqueve                                       & el JUEZ Fabian Lorenzini : https://t.co/gebrzXu9gh\\\\\n",
       "\\end{tabular}\n"
      ],
      "text/markdown": [
       "\n",
       "| user_id | status_id | created_at | screen_name | text |\n",
       "|---|---|---|---|---|\n",
       "| 1978143390                                         | 1274712217708048385                                | 2020-06-21 14:34:10                                | Alguienqueve                                       | el JUEZ Fabian Lorenzini : https://t.co/gebrzXu9gh |\n",
       "\n"
      ],
      "text/plain": [
       "  user_id    status_id           created_at          screen_name \n",
       "1 1978143390 1274712217708048385 2020-06-21 14:34:10 Alguienqueve\n",
       "  text                                              \n",
       "1 el JUEZ Fabian Lorenzini : https://t.co/gebrzXu9gh"
      ]
     },
     "metadata": {},
     "output_type": "display_data"
    }
   ],
   "source": [
    "# Tercer tweet más relevante\n",
    "resultado <- rt  %>% filter(status_id == '1274712217708048385')\n",
    "resultado[1:5]"
   ]
  }
 ],
 "metadata": {
  "kernelspec": {
   "display_name": "Python 3",
   "language": "python",
   "name": "python3"
  },
  "language_info": {
   "codemirror_mode": {
    "name": "ipython",
    "version": 3
   },
   "file_extension": ".py",
   "mimetype": "text/x-python",
   "name": "python",
   "nbconvert_exporter": "python",
   "pygments_lexer": "ipython3",
   "version": "3.8.3"
  }
 },
 "nbformat": 4,
 "nbformat_minor": 2
}
