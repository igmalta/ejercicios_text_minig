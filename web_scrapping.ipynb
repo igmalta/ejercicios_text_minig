{
 "cells": [
  {
   "cell_type": "markdown",
   "metadata": {},
   "source": [
    "## Ejercicio Nro. 4 - Web scraping Poperati"
   ]
  },
  {
   "cell_type": "code",
   "execution_count": 1,
   "metadata": {},
   "outputs": [],
   "source": [
    "# Scraping de ranking de 250 peliculas,armar tabla con algunas variables de importancia, como titulo, rating, año, etc"
   ]
  },
  {
   "cell_type": "markdown",
   "metadata": {},
   "source": [
    "## Librerías"
   ]
  },
  {
   "cell_type": "code",
   "execution_count": 8,
   "metadata": {},
   "outputs": [],
   "source": [
    "# Instalación\n",
    "packages <- c(\"rvest\", \"data.table\", \"stringr\", \"robotstxt\", \"lubridate\", \"purrr\")\n",
    "if (length(setdiff(packages, rownames(installed.packages()))) > 0) {\n",
    "  install.packages(setdiff(packages, rownames(installed.packages())))  \n",
    "}\n",
    "\n",
    "library(\"rvest\")\n",
    "library(\"data.table\")\n",
    "library(\"stringr\")\n",
    "library(\"robotstxt\")\n",
    "library(\"lubridate\")\n",
    "library(\"purrr\")"
   ]
  },
  {
   "cell_type": "markdown",
   "metadata": {},
   "source": [
    "## Se verifica que se pueda descargar información de la página"
   ]
  },
  {
   "cell_type": "code",
   "execution_count": 3,
   "metadata": {},
   "outputs": [
    {
     "name": "stderr",
     "output_type": "stream",
     "text": [
      " www.properati.com.ar                      \n",
      "\n"
     ]
    },
    {
     "data": {
      "text/html": [
       "TRUE"
      ],
      "text/latex": [
       "TRUE"
      ],
      "text/markdown": [
       "TRUE"
      ],
      "text/plain": [
       "[1] TRUE"
      ]
     },
     "metadata": {},
     "output_type": "display_data"
    }
   ],
   "source": [
    "paths_allowed(\n",
    "  paths = c(\"https://www.properati.com.ar/\")\n",
    ")"
   ]
  },
  {
   "cell_type": "markdown",
   "metadata": {},
   "source": [
    "## Variables de interés"
   ]
  },
  {
   "cell_type": "code",
   "execution_count": 4,
   "metadata": {},
   "outputs": [],
   "source": [
    "# Información que se va a descargar de las páginas\n",
    "tags <- c(\"tipo\", \"habitaciones\", \"m2\", \"precio\", \"moneda\", \"direccion\", \"localidad\", \"contacto\")\n",
    "\n",
    "# Se define la cantidad de páginas dentro del sitio que recorro para hacer scraping\n",
    "numPagina <- 20\n",
    "\n",
    "# Se crea una lista para guardar temporalmente los datos de cada página\n",
    "paginas <- list()"
   ]
  },
  {
   "cell_type": "markdown",
   "metadata": {},
   "source": [
    "## Navegación por página y scraping"
   ]
  },
  {
   "cell_type": "code",
   "execution_count": 5,
   "metadata": {},
   "outputs": [
    {
     "name": "stdout",
     "output_type": "stream",
     "text": [
      "Página N° 1... Cantidad de registros: 20 ... \n",
      "Página N° 2... Cantidad de registros: 18 ... \n",
      "Página N° 3... Cantidad de registros: 20 ... \n",
      "Página N° 4... Cantidad de registros: 18 ... \n",
      "Página N° 5... Cantidad de registros: 20 ... \n",
      "Página N° 6... Cantidad de registros: 20 ... \n",
      "Página N° 7... Cantidad de registros: 20 ... \n",
      "Página N° 8... Cantidad de registros: 20 ... \n",
      "Página N° 9... Cantidad de registros: 20 ... \n",
      "Página N° 10... Cantidad de registros: 20 ... \n",
      "Página N° 11... Cantidad de registros: 20 ... \n",
      "Página N° 12... Cantidad de registros: 20 ... \n",
      "Página N° 13... Cantidad de registros: 20 ... \n",
      "Página N° 14... Cantidad de registros: 20 ... \n",
      "Página N° 15... Cantidad de registros: 20 ... \n",
      "Página N° 16... Cantidad de registros: 20 ... \n",
      "Página N° 17... Cantidad de registros: 20 ... \n",
      "Página N° 18... Cantidad de registros: 20 ... \n",
      "Página N° 19... Cantidad de registros: 20 ... \n",
      "Página N° 20... Cantidad de registros: 20 ... \n"
     ]
    }
   ],
   "source": [
    "# Se recorre cada página, se descarga la información requerida y se realiza la limpieza necesaria\n",
    "for (n in 1:numPagina) {\n",
    "  \n",
    "  # Página solicitada\n",
    "  html <- paste0(\"https://rafaela.properati.com.ar/nf/propiedades/venta/\", n, \"/\")\n",
    "  \n",
    "  # Se carga la página\n",
    "  propiedades <- read_html(html)\n",
    " \n",
    "  # Precio de la propiedad y moneda\n",
    "  prop_precio <- propiedades %>% html_nodes(\".price\") %>% html_text() %>% str_replace_all(\"[\\\\s]+\", \"\")\n",
    "  \n",
    "  prop_valor  <- str_replace_all(prop_precio, \"[^0123456789]\", \"\")  %>% as.numeric()\n",
    "  prop_moneda <- str_replace_all(prop_precio, \"[^U$S]\"       , \"\")\n",
    "  \n",
    "  # Dirección\n",
    "  prop_direc  <- propiedades %>% html_nodes(\".item-url span\") %>% html_text()\n",
    "  prop_direc  <- tolower(prop_direc)\n",
    "  \n",
    "  # Localidad  \n",
    "  prop_loc    <- propiedades %>% html_nodes( \".span7\") %>% html_node(\".location\") %>% html_text() %>% \n",
    "    str_replace_all(\"[\\\\sm²]+\", \"\")\n",
    "  prop_loc    <- tolower(prop_loc)\n",
    "  \n",
    "  # Tipo de propiedad\n",
    "  prop_tipo   <- propiedades %>% html_nodes(\".property-type\") %>% html_text() \n",
    "  prop_tipo   <- tolower(prop_tipo)\n",
    "  \n",
    "  # Cantidad de ambientes\n",
    "  prop_amb    <- propiedades %>% html_nodes( \".span7\") %>% html_node(\".rooms\") %>% html_text() %>% \n",
    "    str_replace_all(\"[\\\\s]+\", \"\") %>% str_sub(1,1) %>% as.numeric()\n",
    "  \n",
    "  # Superficie cubierta\n",
    "  prop_m2     <- propiedades %>% html_nodes( \".span7\") %>% html_node(\".area\") %>% html_text() %>% \n",
    "    str_replace_all(\"[\\\\sm²]+\", \"\") %>% as.numeric()\n",
    " \n",
    "  # Contacto\n",
    "  prop_vend   <- propiedades %>% html_nodes( \".span7\") %>% html_node(\" .rooms+ p\") %>% html_text()\n",
    "  prop_vend   <- tolower(prop_vend)\n",
    "\n",
    "  #Se crea tabla con variables\n",
    "  tabla <- data.table(prop_tipo, prop_amb, prop_m2, prop_valor, prop_moneda, prop_direc, prop_loc, prop_vend, n)\n",
    "  names(tabla) <- c(tags, \"pag\")\n",
    "  \n",
    "  # Si hay celdas vacías se asigna NA\n",
    "  tabla[tabla == \"\"] <- NA\n",
    "  \n",
    "  # Se guarda información en lista\n",
    "  paginas[[n]] <- tabla\n",
    "    \n",
    "  cat(paste0(\"Página N° \", n, \"... Cantidad de registros: \", nrow(tabla), \" ...\"), \"\\n\")\n",
    "}"
   ]
  },
  {
   "cell_type": "markdown",
   "metadata": {},
   "source": [
    "## Se transforma la lista creada en una tabla única"
   ]
  },
  {
   "cell_type": "code",
   "execution_count": 6,
   "metadata": {},
   "outputs": [
    {
     "data": {
      "text/html": [
       "<table>\n",
       "<thead><tr><th scope=col>tipo</th><th scope=col>habitaciones</th><th scope=col>m2</th><th scope=col>precio</th><th scope=col>moneda</th><th scope=col>direccion</th><th scope=col>localidad</th><th scope=col>contacto</th><th scope=col>pag</th></tr></thead>\n",
       "<tbody>\n",
       "\t<tr><td>casa                                   </td><td> 1                                     </td><td>  NA                                   </td><td>4650000                                </td><td>$                                      </td><td>bolivar y cervantes 100                </td><td>rafaela                                </td><td>odn + oficina de negocios inmobiliarios</td><td>1                                      </td></tr>\n",
       "\t<tr><td>ph                                     </td><td> 1                                     </td><td>  NA                                   </td><td>  70000                                </td><td>U$S                                    </td><td>rincon 700                             </td><td>rafaela                                </td><td>odn + oficina de negocios inmobiliarios</td><td>1                                      </td></tr>\n",
       "\t<tr><td>casa                                   </td><td> 1                                     </td><td>  NA                                   </td><td> 130000                                </td><td>U$S                                    </td><td>washington 100                         </td><td>rafaela                                </td><td>odn + oficina de negocios inmobiliarios</td><td>1                                      </td></tr>\n",
       "\t<tr><td>casa                                   </td><td> 1                                     </td><td>  NA                                   </td><td>2500000                                </td><td>$                                      </td><td>balbi 2100                             </td><td>rafaela                                </td><td>odn + oficina de negocios inmobiliarios</td><td>1                                      </td></tr>\n",
       "\t<tr><td>casa                                   </td><td>NA                                     </td><td> 270                                   </td><td>  95000                                </td><td>U$S                                    </td><td>aristobulo del valle al 1300           </td><td>rafaela                                </td><td>NA                                     </td><td>1                                      </td></tr>\n",
       "\t<tr><td>casa                                   </td><td>NA                                     </td><td> 300                                   </td><td>  79500                                </td><td>U$S                                    </td><td>larrea al 2500                         </td><td>rafaela                                </td><td>NA                                     </td><td>1                                      </td></tr>\n",
       "\t<tr><td>casa                                   </td><td> 1                                     </td><td>  NA                                   </td><td>  80000                                </td><td>$                                      </td><td>e. salva 700                           </td><td>rafaela                                </td><td>odn + oficina de negocios inmobiliarios</td><td>1                                      </td></tr>\n",
       "\t<tr><td>terreno                                </td><td> 1                                     </td><td> 300                                   </td><td>  33000                                </td><td>U$S                                    </td><td>intendente gimenez 1600                </td><td>rafaela                                </td><td>odn + oficina de negocios inmobiliarios</td><td>1                                      </td></tr>\n",
       "\t<tr><td>terreno                                </td><td> 1                                     </td><td>1288                                   </td><td> 140000                                </td><td>U$S                                    </td><td>rojas y las colonias 100               </td><td>rafaela                                </td><td>odn + oficina de negocios inmobiliarios</td><td>1                                      </td></tr>\n",
       "\t<tr><td>casa                                   </td><td> 1                                     </td><td>  NA                                   </td><td> 120000                                </td><td>U$S                                    </td><td>liniers 400                            </td><td>rafaela                                </td><td>odn + oficina de negocios inmobiliarios</td><td>1                                      </td></tr>\n",
       "</tbody>\n",
       "</table>\n"
      ],
      "text/latex": [
       "\\begin{tabular}{r|lllllllll}\n",
       " tipo & habitaciones & m2 & precio & moneda & direccion & localidad & contacto & pag\\\\\n",
       "\\hline\n",
       "\t casa                                    &  1                                      &   NA                                    & 4650000                                 & \\$                                     & bolivar y cervantes 100                 & rafaela                                 & odn + oficina de negocios inmobiliarios & 1                                      \\\\\n",
       "\t ph                                      &  1                                      &   NA                                    &   70000                                 & U\\$S                                   & rincon 700                              & rafaela                                 & odn + oficina de negocios inmobiliarios & 1                                      \\\\\n",
       "\t casa                                    &  1                                      &   NA                                    &  130000                                 & U\\$S                                   & washington 100                          & rafaela                                 & odn + oficina de negocios inmobiliarios & 1                                      \\\\\n",
       "\t casa                                    &  1                                      &   NA                                    & 2500000                                 & \\$                                     & balbi 2100                              & rafaela                                 & odn + oficina de negocios inmobiliarios & 1                                      \\\\\n",
       "\t casa                                    & NA                                      &  270                                    &   95000                                 & U\\$S                                   & aristobulo del valle al 1300            & rafaela                                 & NA                                      & 1                                      \\\\\n",
       "\t casa                                    & NA                                      &  300                                    &   79500                                 & U\\$S                                   & larrea al 2500                          & rafaela                                 & NA                                      & 1                                      \\\\\n",
       "\t casa                                    &  1                                      &   NA                                    &   80000                                 & \\$                                     & e. salva 700                            & rafaela                                 & odn + oficina de negocios inmobiliarios & 1                                      \\\\\n",
       "\t terreno                                 &  1                                      &  300                                    &   33000                                 & U\\$S                                   & intendente gimenez 1600                 & rafaela                                 & odn + oficina de negocios inmobiliarios & 1                                      \\\\\n",
       "\t terreno                                 &  1                                      & 1288                                    &  140000                                 & U\\$S                                   & rojas y las colonias 100                & rafaela                                 & odn + oficina de negocios inmobiliarios & 1                                      \\\\\n",
       "\t casa                                    &  1                                      &   NA                                    &  120000                                 & U\\$S                                   & liniers 400                             & rafaela                                 & odn + oficina de negocios inmobiliarios & 1                                      \\\\\n",
       "\\end{tabular}\n"
      ],
      "text/markdown": [
       "\n",
       "| tipo | habitaciones | m2 | precio | moneda | direccion | localidad | contacto | pag |\n",
       "|---|---|---|---|---|---|---|---|---|\n",
       "| casa                                    |  1                                      |   NA                                    | 4650000                                 | $                                       | bolivar y cervantes 100                 | rafaela                                 | odn + oficina de negocios inmobiliarios | 1                                       |\n",
       "| ph                                      |  1                                      |   NA                                    |   70000                                 | U$S                                     | rincon 700                              | rafaela                                 | odn + oficina de negocios inmobiliarios | 1                                       |\n",
       "| casa                                    |  1                                      |   NA                                    |  130000                                 | U$S                                     | washington 100                          | rafaela                                 | odn + oficina de negocios inmobiliarios | 1                                       |\n",
       "| casa                                    |  1                                      |   NA                                    | 2500000                                 | $                                       | balbi 2100                              | rafaela                                 | odn + oficina de negocios inmobiliarios | 1                                       |\n",
       "| casa                                    | NA                                      |  270                                    |   95000                                 | U$S                                     | aristobulo del valle al 1300            | rafaela                                 | NA                                      | 1                                       |\n",
       "| casa                                    | NA                                      |  300                                    |   79500                                 | U$S                                     | larrea al 2500                          | rafaela                                 | NA                                      | 1                                       |\n",
       "| casa                                    |  1                                      |   NA                                    |   80000                                 | $                                       | e. salva 700                            | rafaela                                 | odn + oficina de negocios inmobiliarios | 1                                       |\n",
       "| terreno                                 |  1                                      |  300                                    |   33000                                 | U$S                                     | intendente gimenez 1600                 | rafaela                                 | odn + oficina de negocios inmobiliarios | 1                                       |\n",
       "| terreno                                 |  1                                      | 1288                                    |  140000                                 | U$S                                     | rojas y las colonias 100                | rafaela                                 | odn + oficina de negocios inmobiliarios | 1                                       |\n",
       "| casa                                    |  1                                      |   NA                                    |  120000                                 | U$S                                     | liniers 400                             | rafaela                                 | odn + oficina de negocios inmobiliarios | 1                                       |\n",
       "\n"
      ],
      "text/plain": [
       "   tipo    habitaciones m2   precio  moneda direccion                   \n",
       "1  casa     1             NA 4650000 $      bolivar y cervantes 100     \n",
       "2  ph       1             NA   70000 U$S    rincon 700                  \n",
       "3  casa     1             NA  130000 U$S    washington 100              \n",
       "4  casa     1             NA 2500000 $      balbi 2100                  \n",
       "5  casa    NA            270   95000 U$S    aristobulo del valle al 1300\n",
       "6  casa    NA            300   79500 U$S    larrea al 2500              \n",
       "7  casa     1             NA   80000 $      e. salva 700                \n",
       "8  terreno  1            300   33000 U$S    intendente gimenez 1600     \n",
       "9  terreno  1           1288  140000 U$S    rojas y las colonias 100    \n",
       "10 casa     1             NA  120000 U$S    liniers 400                 \n",
       "   localidad contacto                                pag\n",
       "1  rafaela   odn + oficina de negocios inmobiliarios 1  \n",
       "2  rafaela   odn + oficina de negocios inmobiliarios 1  \n",
       "3  rafaela   odn + oficina de negocios inmobiliarios 1  \n",
       "4  rafaela   odn + oficina de negocios inmobiliarios 1  \n",
       "5  rafaela   NA                                      1  \n",
       "6  rafaela   NA                                      1  \n",
       "7  rafaela   odn + oficina de negocios inmobiliarios 1  \n",
       "8  rafaela   odn + oficina de negocios inmobiliarios 1  \n",
       "9  rafaela   odn + oficina de negocios inmobiliarios 1  \n",
       "10 rafaela   odn + oficina de negocios inmobiliarios 1  "
      ]
     },
     "metadata": {},
     "output_type": "display_data"
    }
   ],
   "source": [
    "dt_propiedades <- rbindlist(paginas)\n",
    "head(dt_propiedades, 10)"
   ]
  },
  {
   "cell_type": "code",
   "execution_count": 7,
   "metadata": {
    "scrolled": true
   },
   "outputs": [
    {
     "data": {
      "text/html": [
       "<table>\n",
       "<thead><tr><th scope=col>tipo</th><th scope=col>habitaciones</th><th scope=col>m2</th><th scope=col>precio</th><th scope=col>moneda</th><th scope=col>direccion</th><th scope=col>localidad</th><th scope=col>contacto</th><th scope=col>pag</th></tr></thead>\n",
       "<tbody>\n",
       "\t<tr><td>casa                                   </td><td> 1                                     </td><td>  NA                                   </td><td>4650000                                </td><td>$                                      </td><td>bolivar y cervantes 100                </td><td>rafaela                                </td><td>odn + oficina de negocios inmobiliarios</td><td>1                                      </td></tr>\n",
       "\t<tr><td>casa                                   </td><td> 1                                     </td><td>  NA                                   </td><td>2500000                                </td><td>$                                      </td><td>balbi 2100                             </td><td>rafaela                                </td><td>odn + oficina de negocios inmobiliarios</td><td>1                                      </td></tr>\n",
       "\t<tr><td>departamento                           </td><td> 1                                     </td><td>  48                                   </td><td>1500000                                </td><td>$                                      </td><td>carlos nicola 100                      </td><td>rafaela                                </td><td>odn + oficina de negocios inmobiliarios</td><td>1                                      </td></tr>\n",
       "\t<tr><td>departamento                           </td><td> 1                                     </td><td>  48                                   </td><td>1500000                                </td><td>$                                      </td><td>carlos nicola 100                      </td><td>rafaela                                </td><td>odn + oficina de negocios inmobiliarios</td><td>2                                      </td></tr>\n",
       "\t<tr><td>otro                                   </td><td>NA                                     </td><td> 265                                   </td><td> 800000                                </td><td>$                                      </td><td>sabin 570                              </td><td>rafaela                                </td><td>NA                                     </td><td>2                                      </td></tr>\n",
       "\t<tr><td>galpón                                 </td><td>NA                                     </td><td> 400                                   </td><td> 725000                                </td><td>U$S                                    </td><td>avenida santa fe al 1400               </td><td>rafaela                                </td><td>NA                                     </td><td>2                                      </td></tr>\n",
       "\t<tr><td>otro                                   </td><td>NA                                     </td><td> 360                                   </td><td> 400000                                </td><td>$                                      </td><td>aconcagua y carrero podio              </td><td>rafaela                                </td><td>NA                                     </td><td>1                                      </td></tr>\n",
       "\t<tr><td>otro                                   </td><td>NA                                     </td><td> 360                                   </td><td> 400000                                </td><td>$                                      </td><td>aconcagua y carrero podio              </td><td>rafaela                                </td><td>NA                                     </td><td>2                                      </td></tr>\n",
       "\t<tr><td>casa                                   </td><td>NA                                     </td><td> 336                                   </td><td> 250000                                </td><td>U$S                                    </td><td>américa y trento al 100                </td><td>rafaela                                </td><td>NA                                     </td><td>1                                      </td></tr>\n",
       "\t<tr><td>casa                                   </td><td>NA                                     </td><td>2000                                   </td><td> 150000                                </td><td>U$S                                    </td><td>calle sin nombre                       </td><td>rafaela                                </td><td>NA                                     </td><td>2                                      </td></tr>\n",
       "</tbody>\n",
       "</table>\n"
      ],
      "text/latex": [
       "\\begin{tabular}{r|lllllllll}\n",
       " tipo & habitaciones & m2 & precio & moneda & direccion & localidad & contacto & pag\\\\\n",
       "\\hline\n",
       "\t casa                                    &  1                                      &   NA                                    & 4650000                                 & \\$                                     & bolivar y cervantes 100                 & rafaela                                 & odn + oficina de negocios inmobiliarios & 1                                      \\\\\n",
       "\t casa                                    &  1                                      &   NA                                    & 2500000                                 & \\$                                     & balbi 2100                              & rafaela                                 & odn + oficina de negocios inmobiliarios & 1                                      \\\\\n",
       "\t departamento                            &  1                                      &   48                                    & 1500000                                 & \\$                                     & carlos nicola 100                       & rafaela                                 & odn + oficina de negocios inmobiliarios & 1                                      \\\\\n",
       "\t departamento                            &  1                                      &   48                                    & 1500000                                 & \\$                                     & carlos nicola 100                       & rafaela                                 & odn + oficina de negocios inmobiliarios & 2                                      \\\\\n",
       "\t otro                                    & NA                                      &  265                                    &  800000                                 & \\$                                     & sabin 570                               & rafaela                                 & NA                                      & 2                                      \\\\\n",
       "\t galpón                                  & NA                                      &  400                                    &  725000                                 & U\\$S                                   & avenida santa fe al 1400                & rafaela                                 & NA                                      & 2                                      \\\\\n",
       "\t otro                                    & NA                                      &  360                                    &  400000                                 & \\$                                     & aconcagua y carrero podio               & rafaela                                 & NA                                      & 1                                      \\\\\n",
       "\t otro                                    & NA                                      &  360                                    &  400000                                 & \\$                                     & aconcagua y carrero podio               & rafaela                                 & NA                                      & 2                                      \\\\\n",
       "\t casa                                    & NA                                      &  336                                    &  250000                                 & U\\$S                                   & américa y trento al 100                 & rafaela                                 & NA                                      & 1                                      \\\\\n",
       "\t casa                                    & NA                                      & 2000                                    &  150000                                 & U\\$S                                   & calle sin nombre                        & rafaela                                 & NA                                      & 2                                      \\\\\n",
       "\\end{tabular}\n"
      ],
      "text/markdown": [
       "\n",
       "| tipo | habitaciones | m2 | precio | moneda | direccion | localidad | contacto | pag |\n",
       "|---|---|---|---|---|---|---|---|---|\n",
       "| casa                                    |  1                                      |   NA                                    | 4650000                                 | $                                       | bolivar y cervantes 100                 | rafaela                                 | odn + oficina de negocios inmobiliarios | 1                                       |\n",
       "| casa                                    |  1                                      |   NA                                    | 2500000                                 | $                                       | balbi 2100                              | rafaela                                 | odn + oficina de negocios inmobiliarios | 1                                       |\n",
       "| departamento                            |  1                                      |   48                                    | 1500000                                 | $                                       | carlos nicola 100                       | rafaela                                 | odn + oficina de negocios inmobiliarios | 1                                       |\n",
       "| departamento                            |  1                                      |   48                                    | 1500000                                 | $                                       | carlos nicola 100                       | rafaela                                 | odn + oficina de negocios inmobiliarios | 2                                       |\n",
       "| otro                                    | NA                                      |  265                                    |  800000                                 | $                                       | sabin 570                               | rafaela                                 | NA                                      | 2                                       |\n",
       "| galpón                                  | NA                                      |  400                                    |  725000                                 | U$S                                     | avenida santa fe al 1400                | rafaela                                 | NA                                      | 2                                       |\n",
       "| otro                                    | NA                                      |  360                                    |  400000                                 | $                                       | aconcagua y carrero podio               | rafaela                                 | NA                                      | 1                                       |\n",
       "| otro                                    | NA                                      |  360                                    |  400000                                 | $                                       | aconcagua y carrero podio               | rafaela                                 | NA                                      | 2                                       |\n",
       "| casa                                    | NA                                      |  336                                    |  250000                                 | U$S                                     | américa y trento al 100                 | rafaela                                 | NA                                      | 1                                       |\n",
       "| casa                                    | NA                                      | 2000                                    |  150000                                 | U$S                                     | calle sin nombre                        | rafaela                                 | NA                                      | 2                                       |\n",
       "\n"
      ],
      "text/plain": [
       "   tipo         habitaciones m2   precio  moneda direccion                \n",
       "1  casa          1             NA 4650000 $      bolivar y cervantes 100  \n",
       "2  casa          1             NA 2500000 $      balbi 2100               \n",
       "3  departamento  1             48 1500000 $      carlos nicola 100        \n",
       "4  departamento  1             48 1500000 $      carlos nicola 100        \n",
       "5  otro         NA            265  800000 $      sabin 570                \n",
       "6  galpón       NA            400  725000 U$S    avenida santa fe al 1400 \n",
       "7  otro         NA            360  400000 $      aconcagua y carrero podio\n",
       "8  otro         NA            360  400000 $      aconcagua y carrero podio\n",
       "9  casa         NA            336  250000 U$S    américa y trento al 100  \n",
       "10 casa         NA           2000  150000 U$S    calle sin nombre         \n",
       "   localidad contacto                                pag\n",
       "1  rafaela   odn + oficina de negocios inmobiliarios 1  \n",
       "2  rafaela   odn + oficina de negocios inmobiliarios 1  \n",
       "3  rafaela   odn + oficina de negocios inmobiliarios 1  \n",
       "4  rafaela   odn + oficina de negocios inmobiliarios 2  \n",
       "5  rafaela   NA                                      2  \n",
       "6  rafaela   NA                                      2  \n",
       "7  rafaela   NA                                      1  \n",
       "8  rafaela   NA                                      2  \n",
       "9  rafaela   NA                                      1  \n",
       "10 rafaela   NA                                      2  "
      ]
     },
     "metadata": {},
     "output_type": "display_data"
    }
   ],
   "source": [
    "# Se ordenan propiedades por precio\n",
    "setorder(dt_propiedades, -precio, na.last = TRUE)\n",
    "head(dt_propiedades, 10)"
   ]
  }
 ],
 "metadata": {
  "kernelspec": {
   "display_name": "Python 3",
   "language": "python",
   "name": "python3"
  },
  "language_info": {
   "codemirror_mode": {
    "name": "ipython",
    "version": 3
   },
   "file_extension": ".py",
   "mimetype": "text/x-python",
   "name": "python",
   "nbconvert_exporter": "python",
   "pygments_lexer": "ipython3",
   "version": "3.8.3"
  }
 },
 "nbformat": 4,
 "nbformat_minor": 2
}
